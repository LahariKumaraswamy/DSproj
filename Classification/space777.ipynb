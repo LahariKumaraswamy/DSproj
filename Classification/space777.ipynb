{
 "cells": [
  {
   "cell_type": "code",
   "execution_count": 1,
   "metadata": {},
   "outputs": [],
   "source": [
    "#Lets import the libraries\n",
    "import pandas as pd\n",
    "import numpy as np\n",
    "import seaborn as sns\n",
    "import matplotlib.pyplot as plt\n",
    "import warnings\n",
    "warnings.filterwarnings('ignore')"
   ]
  },
  {
   "cell_type": "code",
   "execution_count": 2,
   "metadata": {},
   "outputs": [],
   "source": [
    "#Lets import the data\n",
    "data=pd.read_csv(\"space.csv\")"
   ]
  },
  {
   "cell_type": "code",
   "execution_count": 3,
   "metadata": {},
   "outputs": [
    {
     "data": {
      "text/plain": [
       "(10000, 18)"
      ]
     },
     "execution_count": 3,
     "metadata": {},
     "output_type": "execute_result"
    }
   ],
   "source": [
    "#Lets check the shape of our dataset\n",
    "data.shape"
   ]
  },
  {
   "cell_type": "markdown",
   "metadata": {},
   "source": [
    "We have 10000 rows and 18 columns"
   ]
  },
  {
   "cell_type": "code",
   "execution_count": 4,
   "metadata": {},
   "outputs": [
    {
     "data": {
      "text/plain": [
       "objid        float64\n",
       "ra           float64\n",
       "dec          float64\n",
       "u            float64\n",
       "g            float64\n",
       "r            float64\n",
       "i            float64\n",
       "z            float64\n",
       "run            int64\n",
       "rerun          int64\n",
       "camcol         int64\n",
       "field          int64\n",
       "specobjid    float64\n",
       "class         object\n",
       "redshift     float64\n",
       "plate          int64\n",
       "mjd            int64\n",
       "fiberid        int64\n",
       "dtype: object"
      ]
     },
     "execution_count": 4,
     "metadata": {},
     "output_type": "execute_result"
    }
   ],
   "source": [
    "#Lets check the data type\n",
    "data.dtypes"
   ]
  },
  {
   "cell_type": "markdown",
   "metadata": {},
   "source": [
    "Except the target variable class all other feature's data type are of numeric."
   ]
  },
  {
   "cell_type": "code",
   "execution_count": 5,
   "metadata": {},
   "outputs": [
    {
     "name": "stdout",
     "output_type": "stream",
     "text": [
      "<class 'pandas.core.frame.DataFrame'>\n",
      "RangeIndex: 10000 entries, 0 to 9999\n",
      "Data columns (total 18 columns):\n",
      " #   Column     Non-Null Count  Dtype  \n",
      "---  ------     --------------  -----  \n",
      " 0   objid      10000 non-null  float64\n",
      " 1   ra         10000 non-null  float64\n",
      " 2   dec        10000 non-null  float64\n",
      " 3   u          10000 non-null  float64\n",
      " 4   g          10000 non-null  float64\n",
      " 5   r          10000 non-null  float64\n",
      " 6   i          10000 non-null  float64\n",
      " 7   z          10000 non-null  float64\n",
      " 8   run        10000 non-null  int64  \n",
      " 9   rerun      10000 non-null  int64  \n",
      " 10  camcol     10000 non-null  int64  \n",
      " 11  field      10000 non-null  int64  \n",
      " 12  specobjid  10000 non-null  float64\n",
      " 13  class      10000 non-null  object \n",
      " 14  redshift   10000 non-null  float64\n",
      " 15  plate      10000 non-null  int64  \n",
      " 16  mjd        10000 non-null  int64  \n",
      " 17  fiberid    10000 non-null  int64  \n",
      "dtypes: float64(10), int64(7), object(1)\n",
      "memory usage: 1.4+ MB\n"
     ]
    }
   ],
   "source": [
    "data.info()"
   ]
  },
  {
   "cell_type": "markdown",
   "metadata": {},
   "source": [
    "We dont have any missing values as well"
   ]
  },
  {
   "cell_type": "code",
   "execution_count": 6,
   "metadata": {},
   "outputs": [
    {
     "name": "stdout",
     "output_type": "stream",
     "text": [
      "objid        0\n",
      "ra           0\n",
      "dec          0\n",
      "u            0\n",
      "g            0\n",
      "r            0\n",
      "i            0\n",
      "z            0\n",
      "run          0\n",
      "rerun        0\n",
      "camcol       0\n",
      "field        0\n",
      "specobjid    0\n",
      "class        0\n",
      "redshift     0\n",
      "plate        0\n",
      "mjd          0\n",
      "fiberid      0\n",
      "dtype: int64\n"
     ]
    },
    {
     "data": {
      "text/plain": [
       "<matplotlib.axes._subplots.AxesSubplot at 0x28ad1427188>"
      ]
     },
     "execution_count": 6,
     "metadata": {},
     "output_type": "execute_result"
    },
    {
     "data": {
      "image/png": "[encoded data removed]",
      "text/plain": [
       "<Figure size 432x288 with 2 Axes>"
      ]
     },
     "metadata": {
      "needs_background": "light"
     },
     "output_type": "display_data"
    }
   ],
   "source": [
    "#Lets check again\n",
    "print(data.isnull().sum())\n",
    "sns.heatmap(data.isnull())"
   ]
  },
  {
   "cell_type": "markdown",
   "metadata": {},
   "source": [
    "There are no null values found"
   ]
  },
  {
   "cell_type": "markdown",
   "metadata": {},
   "source": [
    "# Since we dont have any missing values or null we can proceed to the visualization part"
   ]
  },
  {
   "cell_type": "code",
   "execution_count": 7,
   "metadata": {},
   "outputs": [
    {
     "name": "stdout",
     "output_type": "stream",
     "text": [
      "       class\n",
      "0       STAR\n",
      "1       STAR\n",
      "2     GALAXY\n",
      "3       STAR\n",
      "4       STAR\n",
      "...      ...\n",
      "9995  GALAXY\n",
      "9996  GALAXY\n",
      "9997    STAR\n",
      "9998  GALAXY\n",
      "9999  GALAXY\n",
      "\n",
      "[10000 rows x 1 columns]\n"
     ]
    }
   ],
   "source": [
    "#Lets check for the categorical data\n",
    "print(data.select_dtypes(include=object))"
   ]
  },
  {
   "cell_type": "markdown",
   "metadata": {},
   "source": [
    "We just have our target variable as categorical feature"
   ]
  },
  {
   "cell_type": "code",
   "execution_count": 8,
   "metadata": {},
   "outputs": [
    {
     "data": {
      "text/plain": [
       "GALAXY    4998\n",
       "STAR      4152\n",
       "QSO        850\n",
       "Name: class, dtype: int64"
      ]
     },
     "execution_count": 8,
     "metadata": {},
     "output_type": "execute_result"
    }
   ],
   "source": [
    "#Lets check the value count\n",
    "data[\"class\"].value_counts()"
   ]
  },
  {
   "cell_type": "markdown",
   "metadata": {},
   "source": [
    "So we have 3 unique values Galaxy,star and QSO for further processing lets convert them into categorical one"
   ]
  },
  {
   "cell_type": "code",
   "execution_count": 9,
   "metadata": {},
   "outputs": [],
   "source": [
    "#Lets map galaxy star and QSO to 0,1,2 respectively\n",
    "data[\"class\"]=data[\"class\"].map({\"GALAXY\":0,\"STAR\":1,\"QSO\":2})"
   ]
  },
  {
   "cell_type": "code",
   "execution_count": 10,
   "metadata": {},
   "outputs": [
    {
     "data": {
      "text/plain": [
       "0    4998\n",
       "1    4152\n",
       "2     850\n",
       "Name: class, dtype: int64"
      ]
     },
     "execution_count": 10,
     "metadata": {},
     "output_type": "execute_result"
    }
   ],
   "source": [
    "data[\"class\"].value_counts()"
   ]
  },
  {
   "cell_type": "markdown",
   "metadata": {},
   "source": [
    "So its mapped now all the feature that we have now are of numeric types"
   ]
  },
  {
   "cell_type": "code",
   "execution_count": 11,
   "metadata": {},
   "outputs": [
    {
     "data": {
      "text/plain": [
       "objid            1\n",
       "ra           10000\n",
       "dec          10000\n",
       "u             9730\n",
       "g             9817\n",
       "r             9852\n",
       "i             9890\n",
       "z             9896\n",
       "run             23\n",
       "rerun            1\n",
       "camcol           6\n",
       "field          703\n",
       "specobjid     6349\n",
       "class            3\n",
       "redshift      9637\n",
       "plate          487\n",
       "mjd            355\n",
       "fiberid        892\n",
       "dtype: int64"
      ]
     },
     "execution_count": 11,
     "metadata": {},
     "output_type": "execute_result"
    }
   ],
   "source": [
    "#Lets see the unique value counts of all the 18 features\n",
    "data.apply(lambda x:len(x.unique()))"
   ]
  },
  {
   "cell_type": "markdown",
   "metadata": {},
   "source": [
    "Objectid and rerun  has only 1 unique value"
   ]
  },
  {
   "cell_type": "code",
   "execution_count": 12,
   "metadata": {},
   "outputs": [
    {
     "name": "stdout",
     "output_type": "stream",
     "text": [
      "\n",
      "objid column : \n",
      "1.237650e+18    10000\n",
      "Name: objid, dtype: int64\n",
      "\n",
      "ra column : \n",
      "226.511352    1\n",
      "186.864198    1\n",
      "162.412783    1\n",
      "242.416598    1\n",
      "25.765495     1\n",
      "             ..\n",
      "218.427367    1\n",
      "179.365032    1\n",
      "187.113033    1\n",
      "235.913493    1\n",
      "182.372733    1\n",
      "Name: ra, Length: 10000, dtype: int64\n",
      "\n",
      "dec column : \n",
      " 0.701145     1\n",
      " 0.031148     1\n",
      " 0.322301     1\n",
      "-0.728211     1\n",
      " 60.960316    1\n",
      "             ..\n",
      "-0.048648     1\n",
      " 0.321775     1\n",
      "-3.512726     1\n",
      " 57.641016    1\n",
      " 0.661888     1\n",
      "Name: dec, Length: 10000, dtype: int64\n",
      "\n",
      "u column : \n",
      "18.90212    3\n",
      "18.99697    3\n",
      "18.98400    3\n",
      "19.53507    3\n",
      "19.56350    3\n",
      "           ..\n",
      "19.27596    1\n",
      "19.51822    1\n",
      "18.23952    1\n",
      "18.47838    1\n",
      "18.77445    1\n",
      "Name: u, Length: 9730, dtype: int64\n",
      "\n",
      "g column : \n",
      "17.55623    3\n",
      "17.75478    3\n",
      "17.60766    3\n",
      "18.31910    3\n",
      "17.53612    2\n",
      "           ..\n",
      "16.79101    1\n",
      "18.01411    1\n",
      "16.93613    1\n",
      "17.68695    1\n",
      "17.87934    1\n",
      "Name: g, Length: 9817, dtype: int64\n",
      "\n",
      "r column : \n",
      "15.99986    3\n",
      "16.48978    3\n",
      "16.70929    2\n",
      "17.21182    2\n",
      "16.27899    2\n",
      "           ..\n",
      "19.18255    1\n",
      "16.03177    1\n",
      "16.27091    1\n",
      "17.45321    1\n",
      "17.05181    1\n",
      "Name: r, Length: 9852, dtype: int64\n",
      "\n",
      "i column : \n",
      "18.77594    2\n",
      "16.70494    2\n",
      "16.91346    2\n",
      "15.61870    2\n",
      "17.19571    2\n",
      "           ..\n",
      "15.41105    1\n",
      "16.61259    1\n",
      "16.52959    1\n",
      "15.61332    1\n",
      "17.93967    1\n",
      "Name: i, Length: 9890, dtype: int64\n",
      "\n",
      "z column : \n",
      "17.18764    2\n",
      "17.15916    2\n",
      "16.57886    2\n",
      "17.30935    2\n",
      "16.42915    2\n",
      "           ..\n",
      "16.58965    1\n",
      "13.45055    1\n",
      "16.96533    1\n",
      "17.53121    1\n",
      "17.83702    1\n",
      "Name: z, Length: 9896, dtype: int64\n",
      "\n",
      "run column : \n",
      "756     3060\n",
      "752     2086\n",
      "1345     915\n",
      "1350     540\n",
      "1140     527\n",
      "745      453\n",
      "1035     396\n",
      "1412     347\n",
      "1302     246\n",
      "1331     245\n",
      "1231     245\n",
      "1334     212\n",
      "1239     197\n",
      "1336     182\n",
      "1404     137\n",
      "1045     112\n",
      "1402      49\n",
      "308       31\n",
      "1411      10\n",
      "1356       4\n",
      "727        4\n",
      "1119       1\n",
      "1332       1\n",
      "Name: run, dtype: int64\n",
      "\n",
      "rerun column : \n",
      "301    10000\n",
      "Name: rerun, dtype: int64\n",
      "\n",
      "camcol column : \n",
      "4    1834\n",
      "5    1827\n",
      "6    1769\n",
      "2    1712\n",
      "3    1560\n",
      "1    1298\n",
      "Name: camcol, dtype: int64\n",
      "\n",
      "field column : \n",
      "301    62\n",
      "302    58\n",
      "304    56\n",
      "305    55\n",
      "309    54\n",
      "       ..\n",
      "499     1\n",
      "676     1\n",
      "507     1\n",
      "660     1\n",
      "503     1\n",
      "Name: field, Length: 703, dtype: int64\n",
      "\n",
      "specobjid column : \n",
      "2.881270e+18    18\n",
      "2.881220e+18    18\n",
      "3.722230e+18    18\n",
      "3.222410e+18    17\n",
      "2.880120e+18    17\n",
      "                ..\n",
      "3.885350e+17     1\n",
      "4.841730e+17     1\n",
      "4.988460e+17     1\n",
      "4.315780e+18     1\n",
      "3.716180e+17     1\n",
      "Name: specobjid, Length: 6349, dtype: int64\n",
      "\n",
      "class column : \n",
      "0    4998\n",
      "1    4152\n",
      "2     850\n",
      "Name: class, dtype: int64\n",
      "\n",
      "redshift column : \n",
      " 0.000000    19\n",
      "-0.000020     6\n",
      "-0.000062     5\n",
      "-0.000010     4\n",
      "-0.000033     4\n",
      "             ..\n",
      " 0.060941     1\n",
      " 1.269727     1\n",
      " 1.912334     1\n",
      "-0.000522     1\n",
      "-0.000424     1\n",
      "Name: redshift, Length: 9637, dtype: int64\n",
      "\n",
      "plate column : \n",
      "2558    222\n",
      "2559    221\n",
      "2895    166\n",
      "276     156\n",
      "7456    139\n",
      "       ... \n",
      "7319      1\n",
      "2952      1\n",
      "7090      1\n",
      "7562      1\n",
      "1635      1\n",
      "Name: plate, Length: 487, dtype: int64\n",
      "\n",
      "mjd column : \n",
      "52000    312\n",
      "54140    222\n",
      "51909    222\n",
      "54208    221\n",
      "51908    214\n",
      "        ... \n",
      "53299      1\n",
      "55618      1\n",
      "56991      1\n",
      "51696      1\n",
      "53053      1\n",
      "Name: mjd, Length: 355, dtype: int64\n",
      "\n",
      "fiberid column : \n",
      "155    29\n",
      "138    28\n",
      "454    27\n",
      "249    26\n",
      "11     26\n",
      "       ..\n",
      "866     1\n",
      "858     1\n",
      "850     1\n",
      "842     1\n",
      "915     1\n",
      "Name: fiberid, Length: 892, dtype: int64\n"
     ]
    }
   ],
   "source": [
    "for i in data:\n",
    "    print('\\n%s column : '%i)\n",
    "    print(data[i].value_counts())"
   ]
  },
  {
   "cell_type": "markdown",
   "metadata": {},
   "source": [
    "# Univariate Analysis"
   ]
  },
  {
   "cell_type": "code",
   "execution_count": 13,
   "metadata": {},
   "outputs": [
    {
     "data": {
      "image/png": "[encoded data removed]",
      "text/plain": [
       "<Figure size 432x288 with 1 Axes>"
      ]
     },
     "metadata": {
      "needs_background": "light"
     },
     "output_type": "display_data"
    },
    {
     "name": "stdout",
     "output_type": "stream",
     "text": [
      "\n",
      "\n",
      "1.237650e+18    10000\n",
      "Name: objid, dtype: int64\n"
     ]
    }
   ],
   "source": [
    "#Lets check count of object id\n",
    "data[\"objid\"].value_counts()\n",
    "plt.figure(figsize=[6,4])\n",
    "sns.countplot(data[\"objid\"])\n",
    "plt.xticks(rotation=90)\n",
    "plt.show()\n",
    "\n",
    "print(\"\\n\")\n",
    "\n",
    "\n",
    "print(data[\"objid\"].value_counts())"
   ]
  },
  {
   "cell_type": "markdown",
   "metadata": {},
   "source": [
    "So we have 10000 entries having same value for feature \"objid\""
   ]
  },
  {
   "cell_type": "code",
   "execution_count": 14,
   "metadata": {},
   "outputs": [
    {
     "data": {
      "image/png": "[encoded data removed]",
      "text/plain": [
       "<Figure size 1440x720 with 1 Axes>"
      ]
     },
     "metadata": {
      "needs_background": "light"
     },
     "output_type": "display_data"
    },
    {
     "name": "stdout",
     "output_type": "stream",
     "text": [
      "\n",
      "\n",
      "756     3060\n",
      "752     2086\n",
      "1345     915\n",
      "1350     540\n",
      "1140     527\n",
      "745      453\n",
      "1035     396\n",
      "1412     347\n",
      "1302     246\n",
      "1331     245\n",
      "1231     245\n",
      "1334     212\n",
      "1239     197\n",
      "1336     182\n",
      "1404     137\n",
      "1045     112\n",
      "1402      49\n",
      "308       31\n",
      "1411      10\n",
      "1356       4\n",
      "727        4\n",
      "1119       1\n",
      "1332       1\n",
      "Name: run, dtype: int64\n"
     ]
    }
   ],
   "source": [
    "#Lets check count of run\n",
    "data[\"run\"].value_counts()\n",
    "plt.figure(figsize=[20,10])\n",
    "sns.countplot(data[\"run\"])\n",
    "plt.xticks(rotation=90)\n",
    "plt.show()\n",
    "\n",
    "print(\"\\n\")\n",
    "\n",
    "\n",
    "print(data[\"run\"].value_counts())"
   ]
  },
  {
   "cell_type": "markdown",
   "metadata": {},
   "source": [
    "756 run number has the max count of 3060,wheras 752 counts 2086\n",
    "1356,727 counts just 4 and 1119,1332 counts the least"
   ]
  },
  {
   "cell_type": "code",
   "execution_count": 15,
   "metadata": {},
   "outputs": [
    {
     "data": {
      "image/png": "[encoded data removed]",
      "text/plain": [
       "<Figure size 432x432 with 1 Axes>"
      ]
     },
     "metadata": {
      "needs_background": "light"
     },
     "output_type": "display_data"
    },
    {
     "name": "stdout",
     "output_type": "stream",
     "text": [
      "\n",
      "\n",
      "301    10000\n",
      "Name: rerun, dtype: int64\n"
     ]
    }
   ],
   "source": [
    "#Lets check count of run\n",
    "data[\"rerun\"].value_counts()\n",
    "plt.figure(figsize=[6,6])\n",
    "sns.countplot(data[\"rerun\"])\n",
    "plt.xticks(rotation=90)\n",
    "plt.show()\n",
    "\n",
    "print(\"\\n\")\n",
    "\n",
    "\n",
    "print(data[\"rerun\"].value_counts())"
   ]
  },
  {
   "cell_type": "markdown",
   "metadata": {},
   "source": [
    "Rerun is equal to 301 for all the 10000 entries"
   ]
  },
  {
   "cell_type": "code",
   "execution_count": 16,
   "metadata": {},
   "outputs": [
    {
     "data": {
      "image/png": "[encoded data removed]",
      "text/plain": [
       "<Figure size 720x432 with 1 Axes>"
      ]
     },
     "metadata": {
      "needs_background": "light"
     },
     "output_type": "display_data"
    },
    {
     "name": "stdout",
     "output_type": "stream",
     "text": [
      "\n",
      "\n",
      "0    4998\n",
      "1    4152\n",
      "2     850\n",
      "Name: class, dtype: int64\n"
     ]
    }
   ],
   "source": [
    "#Lets check count of run\n",
    "data[\"class\"].value_counts()\n",
    "plt.figure(figsize=[10,6])\n",
    "sns.countplot(data[\"class\"])\n",
    "plt.xticks(rotation=90)\n",
    "plt.show()\n",
    "\n",
    "print(\"\\n\")\n",
    "\n",
    "\n",
    "print(data[\"class\"].value_counts())"
   ]
  },
  {
   "cell_type": "markdown",
   "metadata": {},
   "source": [
    "So we have 4998 entries for galaxy,4152 for stars and 850 for QSO"
   ]
  },
  {
   "cell_type": "markdown",
   "metadata": {},
   "source": [
    "# Bivariate Analysis"
   ]
  },
  {
   "cell_type": "code",
   "execution_count": 20,
   "metadata": {},
   "outputs": [
    {
     "data": {
      "image/png": "[encoded data removed]",
      "text/plain": [
       "<Figure size 720x432 with 1 Axes>"
      ]
     },
     "metadata": {
      "needs_background": "light"
     },
     "output_type": "display_data"
    },
    {
     "name": "stdout",
     "output_type": "stream",
     "text": [
      "camcol  class\n",
      "1       0        687\n",
      "        1        497\n",
      "        2        114\n",
      "2       0        818\n",
      "        1        758\n",
      "        2        136\n",
      "3       0        752\n",
      "        1        690\n",
      "        2        118\n",
      "4       0        901\n",
      "        1        772\n",
      "        2        161\n",
      "5       0        957\n",
      "        1        700\n",
      "        2        170\n",
      "6       0        883\n",
      "        1        735\n",
      "        2        151\n",
      "Name: class, dtype: int64\n"
     ]
    }
   ],
   "source": [
    "plt.figure(figsize=[10,6])\n",
    "sns.countplot(x=\"camcol\",data=data,hue=\"class\")\n",
    "plt.show()\n",
    "\n",
    "\n",
    "print(data.groupby(\"camcol\")[\"class\"].value_counts())"
   ]
  },
  {
   "cell_type": "code",
   "execution_count": 21,
   "metadata": {},
   "outputs": [
    {
     "data": {
      "image/png": "[encoded data removed]",
      "text/plain": [
       "<Figure size 720x432 with 1 Axes>"
      ]
     },
     "metadata": {
      "needs_background": "light"
     },
     "output_type": "display_data"
    },
    {
     "name": "stdout",
     "output_type": "stream",
     "text": [
      "rerun  class\n",
      "301    0        4998\n",
      "       1        4152\n",
      "       2         850\n",
      "Name: class, dtype: int64\n"
     ]
    }
   ],
   "source": [
    "plt.figure(figsize=[10,6])\n",
    "sns.countplot(x=\"rerun\",data=data,hue=\"class\")\n",
    "plt.show()\n",
    "\n",
    "\n",
    "print(data.groupby(\"rerun\")[\"class\"].value_counts())"
   ]
  },
  {
   "cell_type": "markdown",
   "metadata": {},
   "source": [
    "# Statistical Analysis"
   ]
  },
  {
   "cell_type": "code",
   "execution_count": 23,
   "metadata": {},
   "outputs": [
    {
     "data": {
      "text/html": [
       "<div>\n",
       "<style scoped>\n",
       "    .dataframe tbody tr th:only-of-type {\n",
       "        vertical-align: middle;\n",
       "    }\n",
       "\n",
       "    .dataframe tbody tr th {\n",
       "        vertical-align: top;\n",
       "    }\n",
       "\n",
       "    .dataframe thead th {\n",
       "        text-align: right;\n",
       "    }\n",
       "</style>\n",
       "<table border=\"1\" class=\"dataframe\">\n",
       "  <thead>\n",
       "    <tr style=\"text-align: right;\">\n",
       "      <th></th>\n",
       "      <th>objid</th>\n",
       "      <th>ra</th>\n",
       "      <th>dec</th>\n",
       "      <th>u</th>\n",
       "      <th>g</th>\n",
       "      <th>r</th>\n",
       "      <th>i</th>\n",
       "      <th>z</th>\n",
       "      <th>run</th>\n",
       "      <th>rerun</th>\n",
       "      <th>camcol</th>\n",
       "      <th>field</th>\n",
       "      <th>specobjid</th>\n",
       "      <th>class</th>\n",
       "      <th>redshift</th>\n",
       "      <th>plate</th>\n",
       "      <th>mjd</th>\n",
       "      <th>fiberid</th>\n",
       "    </tr>\n",
       "  </thead>\n",
       "  <tbody>\n",
       "    <tr>\n",
       "      <th>count</th>\n",
       "      <td>1.000000e+04</td>\n",
       "      <td>10000.000000</td>\n",
       "      <td>10000.000000</td>\n",
       "      <td>10000.000000</td>\n",
       "      <td>10000.000000</td>\n",
       "      <td>10000.000000</td>\n",
       "      <td>10000.000000</td>\n",
       "      <td>10000.000000</td>\n",
       "      <td>10000.000000</td>\n",
       "      <td>10000.0</td>\n",
       "      <td>10000.000000</td>\n",
       "      <td>10000.000000</td>\n",
       "      <td>1.000000e+04</td>\n",
       "      <td>10000.000000</td>\n",
       "      <td>10000.000000</td>\n",
       "      <td>10000.000000</td>\n",
       "      <td>10000.000000</td>\n",
       "      <td>10000.000000</td>\n",
       "    </tr>\n",
       "    <tr>\n",
       "      <th>mean</th>\n",
       "      <td>1.237650e+18</td>\n",
       "      <td>175.529987</td>\n",
       "      <td>14.836148</td>\n",
       "      <td>18.619355</td>\n",
       "      <td>17.371931</td>\n",
       "      <td>16.840963</td>\n",
       "      <td>16.583579</td>\n",
       "      <td>16.422833</td>\n",
       "      <td>981.034800</td>\n",
       "      <td>301.0</td>\n",
       "      <td>3.648700</td>\n",
       "      <td>302.380100</td>\n",
       "      <td>1.645022e+18</td>\n",
       "      <td>0.585200</td>\n",
       "      <td>0.143726</td>\n",
       "      <td>1460.986400</td>\n",
       "      <td>52943.533300</td>\n",
       "      <td>353.069400</td>\n",
       "    </tr>\n",
       "    <tr>\n",
       "      <th>std</th>\n",
       "      <td>1.577039e+05</td>\n",
       "      <td>47.783439</td>\n",
       "      <td>25.212207</td>\n",
       "      <td>0.828656</td>\n",
       "      <td>0.945457</td>\n",
       "      <td>1.067764</td>\n",
       "      <td>1.141805</td>\n",
       "      <td>1.203188</td>\n",
       "      <td>273.305024</td>\n",
       "      <td>0.0</td>\n",
       "      <td>1.666183</td>\n",
       "      <td>162.577763</td>\n",
       "      <td>2.013998e+18</td>\n",
       "      <td>0.642481</td>\n",
       "      <td>0.388774</td>\n",
       "      <td>1788.778371</td>\n",
       "      <td>1511.150651</td>\n",
       "      <td>206.298149</td>\n",
       "    </tr>\n",
       "    <tr>\n",
       "      <th>min</th>\n",
       "      <td>1.237650e+18</td>\n",
       "      <td>8.235100</td>\n",
       "      <td>-5.382632</td>\n",
       "      <td>12.988970</td>\n",
       "      <td>12.799550</td>\n",
       "      <td>12.431600</td>\n",
       "      <td>11.947210</td>\n",
       "      <td>11.610410</td>\n",
       "      <td>308.000000</td>\n",
       "      <td>301.0</td>\n",
       "      <td>1.000000</td>\n",
       "      <td>11.000000</td>\n",
       "      <td>2.995780e+17</td>\n",
       "      <td>0.000000</td>\n",
       "      <td>-0.004136</td>\n",
       "      <td>266.000000</td>\n",
       "      <td>51578.000000</td>\n",
       "      <td>1.000000</td>\n",
       "    </tr>\n",
       "    <tr>\n",
       "      <th>25%</th>\n",
       "      <td>1.237650e+18</td>\n",
       "      <td>157.370946</td>\n",
       "      <td>-0.539035</td>\n",
       "      <td>18.178035</td>\n",
       "      <td>16.815100</td>\n",
       "      <td>16.173333</td>\n",
       "      <td>15.853705</td>\n",
       "      <td>15.618285</td>\n",
       "      <td>752.000000</td>\n",
       "      <td>301.0</td>\n",
       "      <td>2.000000</td>\n",
       "      <td>184.000000</td>\n",
       "      <td>3.389248e+17</td>\n",
       "      <td>0.000000</td>\n",
       "      <td>0.000081</td>\n",
       "      <td>301.000000</td>\n",
       "      <td>51900.000000</td>\n",
       "      <td>186.750000</td>\n",
       "    </tr>\n",
       "    <tr>\n",
       "      <th>50%</th>\n",
       "      <td>1.237650e+18</td>\n",
       "      <td>180.394514</td>\n",
       "      <td>0.404166</td>\n",
       "      <td>18.853095</td>\n",
       "      <td>17.495135</td>\n",
       "      <td>16.858770</td>\n",
       "      <td>16.554985</td>\n",
       "      <td>16.389945</td>\n",
       "      <td>756.000000</td>\n",
       "      <td>301.0</td>\n",
       "      <td>4.000000</td>\n",
       "      <td>299.000000</td>\n",
       "      <td>4.966580e+17</td>\n",
       "      <td>1.000000</td>\n",
       "      <td>0.042591</td>\n",
       "      <td>441.000000</td>\n",
       "      <td>51997.000000</td>\n",
       "      <td>351.000000</td>\n",
       "    </tr>\n",
       "    <tr>\n",
       "      <th>75%</th>\n",
       "      <td>1.237650e+18</td>\n",
       "      <td>201.547279</td>\n",
       "      <td>35.649397</td>\n",
       "      <td>19.259232</td>\n",
       "      <td>18.010145</td>\n",
       "      <td>17.512675</td>\n",
       "      <td>17.258550</td>\n",
       "      <td>17.141447</td>\n",
       "      <td>1331.000000</td>\n",
       "      <td>301.0</td>\n",
       "      <td>5.000000</td>\n",
       "      <td>414.000000</td>\n",
       "      <td>2.881300e+18</td>\n",
       "      <td>1.000000</td>\n",
       "      <td>0.092579</td>\n",
       "      <td>2559.000000</td>\n",
       "      <td>54468.000000</td>\n",
       "      <td>510.000000</td>\n",
       "    </tr>\n",
       "    <tr>\n",
       "      <th>max</th>\n",
       "      <td>1.237650e+18</td>\n",
       "      <td>260.884382</td>\n",
       "      <td>68.542265</td>\n",
       "      <td>19.599900</td>\n",
       "      <td>19.918970</td>\n",
       "      <td>24.802040</td>\n",
       "      <td>28.179630</td>\n",
       "      <td>22.833060</td>\n",
       "      <td>1412.000000</td>\n",
       "      <td>301.0</td>\n",
       "      <td>6.000000</td>\n",
       "      <td>768.000000</td>\n",
       "      <td>9.468830e+18</td>\n",
       "      <td>2.000000</td>\n",
       "      <td>5.353854</td>\n",
       "      <td>8410.000000</td>\n",
       "      <td>57481.000000</td>\n",
       "      <td>1000.000000</td>\n",
       "    </tr>\n",
       "  </tbody>\n",
       "</table>\n",
       "</div>"
      ],
      "text/plain": [
       "              objid            ra           dec             u             g  \\\n",
       "count  1.000000e+04  10000.000000  10000.000000  10000.000000  10000.000000   \n",
       "mean   1.237650e+18    175.529987     14.836148     18.619355     17.371931   \n",
       "std    1.577039e+05     47.783439     25.212207      0.828656      0.945457   \n",
       "min    1.237650e+18      8.235100     -5.382632     12.988970     12.799550   \n",
       "25%    1.237650e+18    157.370946     -0.539035     18.178035     16.815100   \n",
       "50%    1.237650e+18    180.394514      0.404166     18.853095     17.495135   \n",
       "75%    1.237650e+18    201.547279     35.649397     19.259232     18.010145   \n",
       "max    1.237650e+18    260.884382     68.542265     19.599900     19.918970   \n",
       "\n",
       "                  r             i             z           run    rerun  \\\n",
       "count  10000.000000  10000.000000  10000.000000  10000.000000  10000.0   \n",
       "mean      16.840963     16.583579     16.422833    981.034800    301.0   \n",
       "std        1.067764      1.141805      1.203188    273.305024      0.0   \n",
       "min       12.431600     11.947210     11.610410    308.000000    301.0   \n",
       "25%       16.173333     15.853705     15.618285    752.000000    301.0   \n",
       "50%       16.858770     16.554985     16.389945    756.000000    301.0   \n",
       "75%       17.512675     17.258550     17.141447   1331.000000    301.0   \n",
       "max       24.802040     28.179630     22.833060   1412.000000    301.0   \n",
       "\n",
       "             camcol         field     specobjid         class      redshift  \\\n",
       "count  10000.000000  10000.000000  1.000000e+04  10000.000000  10000.000000   \n",
       "mean       3.648700    302.380100  1.645022e+18      0.585200      0.143726   \n",
       "std        1.666183    162.577763  2.013998e+18      0.642481      0.388774   \n",
       "min        1.000000     11.000000  2.995780e+17      0.000000     -0.004136   \n",
       "25%        2.000000    184.000000  3.389248e+17      0.000000      0.000081   \n",
       "50%        4.000000    299.000000  4.966580e+17      1.000000      0.042591   \n",
       "75%        5.000000    414.000000  2.881300e+18      1.000000      0.092579   \n",
       "max        6.000000    768.000000  9.468830e+18      2.000000      5.353854   \n",
       "\n",
       "              plate           mjd       fiberid  \n",
       "count  10000.000000  10000.000000  10000.000000  \n",
       "mean    1460.986400  52943.533300    353.069400  \n",
       "std     1788.778371   1511.150651    206.298149  \n",
       "min      266.000000  51578.000000      1.000000  \n",
       "25%      301.000000  51900.000000    186.750000  \n",
       "50%      441.000000  51997.000000    351.000000  \n",
       "75%     2559.000000  54468.000000    510.000000  \n",
       "max     8410.000000  57481.000000   1000.000000  "
      ]
     },
     "execution_count": 23,
     "metadata": {},
     "output_type": "execute_result"
    }
   ],
   "source": [
    "#Lets check the statistical analysis\n",
    "data.describe(include=\"all\")"
   ]
  },
  {
   "cell_type": "markdown",
   "metadata": {},
   "source": [
    "Observations\n",
    "\n",
    "1.Galaxy is the one which is repeated the most which is having frequency of 4998.\n",
    "\n",
    "2.Mean>Median --->dec,run,field,redshift,plate,mjid,fiberid are right skewed.\n",
    "\n",
    "3.Mean< Median----->ra,specobjid,class are left skewed.\n",
    "    \n",
    "4.Nearly noramally distrubuted----->objid,u,g,r,i,z,rerun,camcol are likely to be normal.\n",
    "    \n",
    "5.Outliers found in ra,dec,r,i,z,run,field,specobjid,redshift,plate,fiberid\n",
    "    \n"
   ]
  },
  {
   "cell_type": "code",
   "execution_count": 24,
   "metadata": {},
   "outputs": [
    {
     "data": {
      "text/plain": [
       "objid        1.000150\n",
       "ra          -1.227350\n",
       "dec          1.191544\n",
       "u           -1.219795\n",
       "g           -0.536293\n",
       "r           -0.021673\n",
       "i            0.286442\n",
       "z            0.214313\n",
       "run          0.412555\n",
       "rerun        0.000000\n",
       "camcol      -0.100220\n",
       "field        0.249795\n",
       "specobjid    1.794627\n",
       "class        0.641904\n",
       "redshift     4.265729\n",
       "plate        1.794609\n",
       "mjd          1.039610\n",
       "fiberid      0.308053\n",
       "dtype: float64"
      ]
     },
     "execution_count": 24,
     "metadata": {},
     "output_type": "execute_result"
    }
   ],
   "source": [
    "#Lets see the skewness\n",
    "data.skew()"
   ]
  },
  {
   "cell_type": "code",
   "execution_count": 25,
   "metadata": {},
   "outputs": [
    {
     "data": {
      "text/plain": [
       "objid           AxesSubplot(0.125,0.657941;0.110714x0.222059)\n",
       "ra           AxesSubplot(0.257857,0.657941;0.110714x0.222059)\n",
       "dec          AxesSubplot(0.390714,0.657941;0.110714x0.222059)\n",
       "u            AxesSubplot(0.523571,0.657941;0.110714x0.222059)\n",
       "g            AxesSubplot(0.656429,0.657941;0.110714x0.222059)\n",
       "r            AxesSubplot(0.789286,0.657941;0.110714x0.222059)\n",
       "i               AxesSubplot(0.125,0.391471;0.110714x0.222059)\n",
       "z            AxesSubplot(0.257857,0.391471;0.110714x0.222059)\n",
       "run          AxesSubplot(0.390714,0.391471;0.110714x0.222059)\n",
       "rerun        AxesSubplot(0.523571,0.391471;0.110714x0.222059)\n",
       "camcol       AxesSubplot(0.656429,0.391471;0.110714x0.222059)\n",
       "field        AxesSubplot(0.789286,0.391471;0.110714x0.222059)\n",
       "specobjid          AxesSubplot(0.125,0.125;0.110714x0.222059)\n",
       "class           AxesSubplot(0.257857,0.125;0.110714x0.222059)\n",
       "redshift        AxesSubplot(0.390714,0.125;0.110714x0.222059)\n",
       "plate           AxesSubplot(0.523571,0.125;0.110714x0.222059)\n",
       "mjd             AxesSubplot(0.656429,0.125;0.110714x0.222059)\n",
       "fiberid         AxesSubplot(0.789286,0.125;0.110714x0.222059)\n",
       "dtype: object"
      ]
     },
     "execution_count": 25,
     "metadata": {},
     "output_type": "execute_result"
    },
    {
     "data": {
      "image/png": "[encoded data removed]",
      "text/plain": [
       "<Figure size 432x288 with 18 Axes>"
      ]
     },
     "metadata": {
      "needs_background": "light"
     },
     "output_type": "display_data"
    }
   ],
   "source": [
    "#Lets see the outliers\n",
    "data.plot(kind=\"box\",layout=(3,6),subplots=True)"
   ]
  },
  {
   "cell_type": "code",
   "execution_count": 26,
   "metadata": {},
   "outputs": [
    {
     "data": {
      "image/png": "[encoded data removed]",
      "text/plain": [
       "<Figure size 1080x864 with 2 Axes>"
      ]
     },
     "metadata": {
      "needs_background": "light"
     },
     "output_type": "display_data"
    }
   ],
   "source": [
    "#Lets check the corelation between them\n",
    "plt.figure(figsize=(15,12))\n",
    "sns.heatmap(data.corr() ,annot=True)\n",
    "plt.show()"
   ]
  },
  {
   "cell_type": "code",
   "execution_count": 27,
   "metadata": {},
   "outputs": [],
   "source": [
    "#Lets see pearson coefficienta and pvalues\n",
    "import scipy"
   ]
  },
  {
   "cell_type": "code",
   "execution_count": 28,
   "metadata": {},
   "outputs": [
    {
     "data": {
      "text/plain": [
       "(-0.02399917131027588, 0.016396740054019927)"
      ]
     },
     "execution_count": 28,
     "metadata": {},
     "output_type": "execute_result"
    }
   ],
   "source": [
    "scipy.stats.pearsonr(data[\"class\"], data[\"ra\"])"
   ]
  },
  {
   "cell_type": "code",
   "execution_count": 29,
   "metadata": {},
   "outputs": [
    {
     "data": {
      "text/plain": [
       "(0.001451253171513782, 0.8846261927511995)"
      ]
     },
     "execution_count": 29,
     "metadata": {},
     "output_type": "execute_result"
    }
   ],
   "source": [
    "scipy.stats.pearsonr(data[\"class\"], data[\"dec\"])"
   ]
  },
  {
   "cell_type": "code",
   "execution_count": 30,
   "metadata": {},
   "outputs": [
    {
     "data": {
      "text/plain": [
       "(-0.12200959825954516, 1.782238944289364e-34)"
      ]
     },
     "execution_count": 30,
     "metadata": {},
     "output_type": "execute_result"
    }
   ],
   "source": [
    "scipy.stats.pearsonr(data[\"class\"], data[\"u\"])"
   ]
  },
  {
   "cell_type": "code",
   "execution_count": 31,
   "metadata": {},
   "outputs": [
    {
     "data": {
      "text/plain": [
       "(0.20074840732089527, 1.9670029203964336e-91)"
      ]
     },
     "execution_count": 31,
     "metadata": {},
     "output_type": "execute_result"
    }
   ],
   "source": [
    "scipy.stats.pearsonr(data[\"class\"], data[\"g\"])"
   ]
  },
  {
   "cell_type": "code",
   "execution_count": 32,
   "metadata": {},
   "outputs": [
    {
     "data": {
      "text/plain": [
       "(0.34489979902327406, 2.554275505895635e-277)"
      ]
     },
     "execution_count": 32,
     "metadata": {},
     "output_type": "execute_result"
    }
   ],
   "source": [
    "scipy.stats.pearsonr(data[\"class\"], data[\"r\"])"
   ]
  },
  {
   "cell_type": "code",
   "execution_count": 33,
   "metadata": {},
   "outputs": [
    {
     "data": {
      "text/plain": [
       "(0.4176314386577862, 0.0)"
      ]
     },
     "execution_count": 33,
     "metadata": {},
     "output_type": "execute_result"
    }
   ],
   "source": [
    "scipy.stats.pearsonr(data[\"class\"], data[\"i\"])"
   ]
  },
  {
   "cell_type": "code",
   "execution_count": 34,
   "metadata": {},
   "outputs": [
    {
     "data": {
      "text/plain": [
       "(0.4654747316876977, 0.0)"
      ]
     },
     "execution_count": 34,
     "metadata": {},
     "output_type": "execute_result"
    }
   ],
   "source": [
    "scipy.stats.pearsonr(data[\"class\"], data[\"z\"])"
   ]
  },
  {
   "cell_type": "code",
   "execution_count": 35,
   "metadata": {},
   "outputs": [
    {
     "data": {
      "text/plain": [
       "(-0.01795842453088635, 0.07253225567466538)"
      ]
     },
     "execution_count": 35,
     "metadata": {},
     "output_type": "execute_result"
    }
   ],
   "source": [
    "scipy.stats.pearsonr(data[\"class\"], data[\"run\"])"
   ]
  },
  {
   "cell_type": "code",
   "execution_count": 36,
   "metadata": {},
   "outputs": [
    {
     "data": {
      "text/plain": [
       "(0.0008228445629396982, 0.9344286829392775)"
      ]
     },
     "execution_count": 36,
     "metadata": {},
     "output_type": "execute_result"
    }
   ],
   "source": [
    "scipy.stats.pearsonr(data[\"class\"], data[\"camcol\"])"
   ]
  },
  {
   "cell_type": "code",
   "execution_count": 37,
   "metadata": {},
   "outputs": [
    {
     "data": {
      "text/plain": [
       "(0.008897368788583947, 0.37365746831680335)"
      ]
     },
     "execution_count": 37,
     "metadata": {},
     "output_type": "execute_result"
    }
   ],
   "source": [
    "scipy.stats.pearsonr(data[\"class\"], data[\"field\"])"
   ]
  },
  {
   "cell_type": "code",
   "execution_count": 38,
   "metadata": {},
   "outputs": [
    {
     "data": {
      "text/plain": [
       "(0.4146768269918828, 0.0)"
      ]
     },
     "execution_count": 38,
     "metadata": {},
     "output_type": "execute_result"
    }
   ],
   "source": [
    "scipy.stats.pearsonr(data[\"class\"], data[\"specobjid\"])"
   ]
  },
  {
   "cell_type": "code",
   "execution_count": 39,
   "metadata": {},
   "outputs": [
    {
     "data": {
      "text/plain": [
       "(0.4926106417214762, 0.0)"
      ]
     },
     "execution_count": 39,
     "metadata": {},
     "output_type": "execute_result"
    }
   ],
   "source": [
    "scipy.stats.pearsonr(data[\"class\"], data[\"redshift\"])"
   ]
  },
  {
   "cell_type": "code",
   "execution_count": 40,
   "metadata": {},
   "outputs": [
    {
     "data": {
      "text/plain": [
       "(0.41467761313374696, 0.0)"
      ]
     },
     "execution_count": 40,
     "metadata": {},
     "output_type": "execute_result"
    }
   ],
   "source": [
    "scipy.stats.pearsonr(data[\"class\"], data[\"plate\"])"
   ]
  },
  {
   "cell_type": "code",
   "execution_count": 41,
   "metadata": {},
   "outputs": [
    {
     "data": {
      "text/plain": [
       "(0.4483547175852423, 0.0)"
      ]
     },
     "execution_count": 41,
     "metadata": {},
     "output_type": "execute_result"
    }
   ],
   "source": [
    "scipy.stats.pearsonr(data[\"class\"], data[\"mjd\"])"
   ]
  },
  {
   "cell_type": "code",
   "execution_count": 42,
   "metadata": {},
   "outputs": [
    {
     "data": {
      "text/plain": [
       "(0.06714950557994356, 1.7961854383451667e-11)"
      ]
     },
     "execution_count": 42,
     "metadata": {},
     "output_type": "execute_result"
    }
   ],
   "source": [
    "scipy.stats.pearsonr(data[\"class\"], data[\"fiberid\"])"
   ]
  },
  {
   "cell_type": "markdown",
   "metadata": {},
   "source": [
    "1.From applying the pearson coefficient we can observe that\n",
    "ra,dec,u,run,camcol,feild,fiberid have very weak relationship with class.\n",
    "\n",
    "2.i,z,specialobjid,redshift,plate,mjd has considerable amount of relationship."
   ]
  },
  {
   "cell_type": "code",
   "execution_count": 43,
   "metadata": {},
   "outputs": [],
   "source": [
    "#Lets drop the columns having negative coeeficents\n",
    "data.drop(\"objid\",axis=1,inplace=True)\n"
   ]
  },
  {
   "cell_type": "code",
   "execution_count": 44,
   "metadata": {},
   "outputs": [],
   "source": [
    "data.drop(\"ra\",axis=1,inplace=True)"
   ]
  },
  {
   "cell_type": "code",
   "execution_count": 45,
   "metadata": {},
   "outputs": [],
   "source": [
    "data.drop(\"u\",axis=1,inplace=True)"
   ]
  },
  {
   "cell_type": "code",
   "execution_count": 46,
   "metadata": {},
   "outputs": [],
   "source": [
    "data.drop(\"run\",axis=1,inplace=True)"
   ]
  },
  {
   "cell_type": "code",
   "execution_count": 47,
   "metadata": {},
   "outputs": [
    {
     "data": {
      "text/html": [
       "<div>\n",
       "<style scoped>\n",
       "    .dataframe tbody tr th:only-of-type {\n",
       "        vertical-align: middle;\n",
       "    }\n",
       "\n",
       "    .dataframe tbody tr th {\n",
       "        vertical-align: top;\n",
       "    }\n",
       "\n",
       "    .dataframe thead th {\n",
       "        text-align: right;\n",
       "    }\n",
       "</style>\n",
       "<table border=\"1\" class=\"dataframe\">\n",
       "  <thead>\n",
       "    <tr style=\"text-align: right;\">\n",
       "      <th></th>\n",
       "      <th>dec</th>\n",
       "      <th>g</th>\n",
       "      <th>r</th>\n",
       "      <th>i</th>\n",
       "      <th>z</th>\n",
       "      <th>rerun</th>\n",
       "      <th>camcol</th>\n",
       "      <th>field</th>\n",
       "      <th>specobjid</th>\n",
       "      <th>class</th>\n",
       "      <th>redshift</th>\n",
       "      <th>plate</th>\n",
       "      <th>mjd</th>\n",
       "      <th>fiberid</th>\n",
       "    </tr>\n",
       "  </thead>\n",
       "  <tbody>\n",
       "    <tr>\n",
       "      <th>0</th>\n",
       "      <td>0.089693</td>\n",
       "      <td>17.04240</td>\n",
       "      <td>15.94699</td>\n",
       "      <td>15.50342</td>\n",
       "      <td>15.22531</td>\n",
       "      <td>301</td>\n",
       "      <td>4</td>\n",
       "      <td>267</td>\n",
       "      <td>3.722360e+18</td>\n",
       "      <td>1</td>\n",
       "      <td>-0.000009</td>\n",
       "      <td>3306</td>\n",
       "      <td>54922</td>\n",
       "      <td>491</td>\n",
       "    </tr>\n",
       "    <tr>\n",
       "      <th>1</th>\n",
       "      <td>0.135285</td>\n",
       "      <td>17.21449</td>\n",
       "      <td>16.67637</td>\n",
       "      <td>16.48922</td>\n",
       "      <td>16.39150</td>\n",
       "      <td>301</td>\n",
       "      <td>4</td>\n",
       "      <td>267</td>\n",
       "      <td>3.638140e+17</td>\n",
       "      <td>1</td>\n",
       "      <td>-0.000055</td>\n",
       "      <td>323</td>\n",
       "      <td>51615</td>\n",
       "      <td>541</td>\n",
       "    </tr>\n",
       "    <tr>\n",
       "      <th>2</th>\n",
       "      <td>0.126185</td>\n",
       "      <td>18.19169</td>\n",
       "      <td>17.47428</td>\n",
       "      <td>17.08732</td>\n",
       "      <td>16.80125</td>\n",
       "      <td>301</td>\n",
       "      <td>4</td>\n",
       "      <td>268</td>\n",
       "      <td>3.232740e+17</td>\n",
       "      <td>0</td>\n",
       "      <td>0.123111</td>\n",
       "      <td>287</td>\n",
       "      <td>52023</td>\n",
       "      <td>513</td>\n",
       "    </tr>\n",
       "    <tr>\n",
       "      <th>3</th>\n",
       "      <td>0.049911</td>\n",
       "      <td>16.60272</td>\n",
       "      <td>16.16116</td>\n",
       "      <td>15.98233</td>\n",
       "      <td>15.90438</td>\n",
       "      <td>301</td>\n",
       "      <td>4</td>\n",
       "      <td>269</td>\n",
       "      <td>3.722370e+18</td>\n",
       "      <td>1</td>\n",
       "      <td>-0.000111</td>\n",
       "      <td>3306</td>\n",
       "      <td>54922</td>\n",
       "      <td>510</td>\n",
       "    </tr>\n",
       "    <tr>\n",
       "      <th>4</th>\n",
       "      <td>0.102557</td>\n",
       "      <td>16.26342</td>\n",
       "      <td>16.43869</td>\n",
       "      <td>16.55492</td>\n",
       "      <td>16.61326</td>\n",
       "      <td>301</td>\n",
       "      <td>4</td>\n",
       "      <td>269</td>\n",
       "      <td>3.722370e+18</td>\n",
       "      <td>1</td>\n",
       "      <td>0.000590</td>\n",
       "      <td>3306</td>\n",
       "      <td>54922</td>\n",
       "      <td>512</td>\n",
       "    </tr>\n",
       "    <tr>\n",
       "      <th>...</th>\n",
       "      <td>...</td>\n",
       "      <td>...</td>\n",
       "      <td>...</td>\n",
       "      <td>...</td>\n",
       "      <td>...</td>\n",
       "      <td>...</td>\n",
       "      <td>...</td>\n",
       "      <td>...</td>\n",
       "      <td>...</td>\n",
       "      <td>...</td>\n",
       "      <td>...</td>\n",
       "      <td>...</td>\n",
       "      <td>...</td>\n",
       "      <td>...</td>\n",
       "    </tr>\n",
       "    <tr>\n",
       "      <th>9995</th>\n",
       "      <td>51.539547</td>\n",
       "      <td>17.47053</td>\n",
       "      <td>16.91508</td>\n",
       "      <td>16.68305</td>\n",
       "      <td>16.50570</td>\n",
       "      <td>301</td>\n",
       "      <td>3</td>\n",
       "      <td>161</td>\n",
       "      <td>5.033450e+17</td>\n",
       "      <td>0</td>\n",
       "      <td>0.027583</td>\n",
       "      <td>447</td>\n",
       "      <td>51877</td>\n",
       "      <td>246</td>\n",
       "    </tr>\n",
       "    <tr>\n",
       "      <th>9996</th>\n",
       "      <td>51.671341</td>\n",
       "      <td>17.43849</td>\n",
       "      <td>17.07692</td>\n",
       "      <td>16.71661</td>\n",
       "      <td>16.69897</td>\n",
       "      <td>301</td>\n",
       "      <td>3</td>\n",
       "      <td>162</td>\n",
       "      <td>5.033400e+17</td>\n",
       "      <td>0</td>\n",
       "      <td>0.117772</td>\n",
       "      <td>447</td>\n",
       "      <td>51877</td>\n",
       "      <td>228</td>\n",
       "    </tr>\n",
       "    <tr>\n",
       "      <th>9997</th>\n",
       "      <td>51.666986</td>\n",
       "      <td>17.77784</td>\n",
       "      <td>17.51872</td>\n",
       "      <td>17.43302</td>\n",
       "      <td>17.42048</td>\n",
       "      <td>301</td>\n",
       "      <td>3</td>\n",
       "      <td>162</td>\n",
       "      <td>8.222620e+18</td>\n",
       "      <td>1</td>\n",
       "      <td>-0.000402</td>\n",
       "      <td>7303</td>\n",
       "      <td>57013</td>\n",
       "      <td>622</td>\n",
       "    </tr>\n",
       "    <tr>\n",
       "      <th>9998</th>\n",
       "      <td>51.753068</td>\n",
       "      <td>17.91068</td>\n",
       "      <td>17.53152</td>\n",
       "      <td>17.36284</td>\n",
       "      <td>17.13988</td>\n",
       "      <td>301</td>\n",
       "      <td>3</td>\n",
       "      <td>163</td>\n",
       "      <td>5.033400e+17</td>\n",
       "      <td>0</td>\n",
       "      <td>0.014019</td>\n",
       "      <td>447</td>\n",
       "      <td>51877</td>\n",
       "      <td>229</td>\n",
       "    </tr>\n",
       "    <tr>\n",
       "      <th>9999</th>\n",
       "      <td>51.805307</td>\n",
       "      <td>17.37829</td>\n",
       "      <td>16.30542</td>\n",
       "      <td>15.83548</td>\n",
       "      <td>15.50588</td>\n",
       "      <td>301</td>\n",
       "      <td>3</td>\n",
       "      <td>163</td>\n",
       "      <td>5.033410e+17</td>\n",
       "      <td>0</td>\n",
       "      <td>0.118417</td>\n",
       "      <td>447</td>\n",
       "      <td>51877</td>\n",
       "      <td>233</td>\n",
       "    </tr>\n",
       "  </tbody>\n",
       "</table>\n",
       "<p>10000 rows × 14 columns</p>\n",
       "</div>"
      ],
      "text/plain": [
       "            dec         g         r         i         z  rerun  camcol  field  \\\n",
       "0      0.089693  17.04240  15.94699  15.50342  15.22531    301       4    267   \n",
       "1      0.135285  17.21449  16.67637  16.48922  16.39150    301       4    267   \n",
       "2      0.126185  18.19169  17.47428  17.08732  16.80125    301       4    268   \n",
       "3      0.049911  16.60272  16.16116  15.98233  15.90438    301       4    269   \n",
       "4      0.102557  16.26342  16.43869  16.55492  16.61326    301       4    269   \n",
       "...         ...       ...       ...       ...       ...    ...     ...    ...   \n",
       "9995  51.539547  17.47053  16.91508  16.68305  16.50570    301       3    161   \n",
       "9996  51.671341  17.43849  17.07692  16.71661  16.69897    301       3    162   \n",
       "9997  51.666986  17.77784  17.51872  17.43302  17.42048    301       3    162   \n",
       "9998  51.753068  17.91068  17.53152  17.36284  17.13988    301       3    163   \n",
       "9999  51.805307  17.37829  16.30542  15.83548  15.50588    301       3    163   \n",
       "\n",
       "         specobjid  class  redshift  plate    mjd  fiberid  \n",
       "0     3.722360e+18      1 -0.000009   3306  54922      491  \n",
       "1     3.638140e+17      1 -0.000055    323  51615      541  \n",
       "2     3.232740e+17      0  0.123111    287  52023      513  \n",
       "3     3.722370e+18      1 -0.000111   3306  54922      510  \n",
       "4     3.722370e+18      1  0.000590   3306  54922      512  \n",
       "...            ...    ...       ...    ...    ...      ...  \n",
       "9995  5.033450e+17      0  0.027583    447  51877      246  \n",
       "9996  5.033400e+17      0  0.117772    447  51877      228  \n",
       "9997  8.222620e+18      1 -0.000402   7303  57013      622  \n",
       "9998  5.033400e+17      0  0.014019    447  51877      229  \n",
       "9999  5.033410e+17      0  0.118417    447  51877      233  \n",
       "\n",
       "[10000 rows x 14 columns]"
      ]
     },
     "execution_count": 47,
     "metadata": {},
     "output_type": "execute_result"
    }
   ],
   "source": [
    "data"
   ]
  },
  {
   "cell_type": "code",
   "execution_count": 48,
   "metadata": {},
   "outputs": [],
   "source": [
    "#Lets remove skewness\n",
    "from scipy.special import boxcox1p\n",
    "for i in data.columns:\n",
    "    data[i]=boxcox1p(data[i],0)"
   ]
  },
  {
   "cell_type": "code",
   "execution_count": 49,
   "metadata": {},
   "outputs": [
    {
     "name": "stdout",
     "output_type": "stream",
     "text": [
      "dec          3.999347\n",
      "g            0.064926\n",
      "r            0.075098\n",
      "i            0.080063\n",
      "z            0.087696\n",
      "rerun        0.000000\n",
      "camcol       0.693147\n",
      "field        0.807923\n",
      "specobjid    2.140219\n",
      "class        0.693147\n",
      "redshift     0.088460\n",
      "plate        2.137336\n",
      "mjd          0.048294\n",
      "fiberid      1.001261\n",
      "dtype: float64\n"
     ]
    }
   ],
   "source": [
    "#Lets remove outliers\n",
    "Q1 = data.quantile(0.25)\n",
    "Q3 = data.quantile(0.75)\n",
    "IQR = Q3 - Q1\n",
    "print(IQR)"
   ]
  },
  {
   "cell_type": "code",
   "execution_count": 50,
   "metadata": {},
   "outputs": [
    {
     "name": "stdout",
     "output_type": "stream",
     "text": [
      "        dec      g      r      i      z  rerun  camcol  field  specobjid  \\\n",
      "0     False  False  False  False  False  False   False  False      False   \n",
      "1     False  False  False  False  False  False   False  False      False   \n",
      "2     False  False  False  False  False  False   False  False      False   \n",
      "3     False  False  False  False  False  False   False  False      False   \n",
      "4     False  False  False  False  False  False   False  False      False   \n",
      "...     ...    ...    ...    ...    ...    ...     ...    ...        ...   \n",
      "9995  False  False  False  False  False  False   False  False      False   \n",
      "9996  False  False  False  False  False  False   False  False      False   \n",
      "9997  False  False  False  False  False  False   False  False      False   \n",
      "9998  False  False  False  False  False  False   False  False      False   \n",
      "9999  False  False  False  False  False  False   False  False      False   \n",
      "\n",
      "      class  redshift  plate    mjd  fiberid  \n",
      "0     False     False  False  False    False  \n",
      "1     False     False  False  False    False  \n",
      "2     False     False  False  False    False  \n",
      "3     False     False  False  False    False  \n",
      "4     False     False  False  False    False  \n",
      "...     ...       ...    ...    ...      ...  \n",
      "9995  False     False  False  False    False  \n",
      "9996  False     False  False  False    False  \n",
      "9997  False     False  False  False    False  \n",
      "9998  False     False  False  False    False  \n",
      "9999  False     False  False  False    False  \n",
      "\n",
      "[10000 rows x 14 columns]\n"
     ]
    }
   ],
   "source": [
    "print((data < (Q1 - 1.5 * IQR)) | (data > (Q3 + 1.5 * IQR)))"
   ]
  },
  {
   "cell_type": "code",
   "execution_count": 51,
   "metadata": {},
   "outputs": [],
   "source": [
    "data= data[~((data < (Q1 - 1.5 * IQR)) |(data > (Q3 + 1.5 * IQR))).any(axis=1)]"
   ]
  },
  {
   "cell_type": "code",
   "execution_count": 52,
   "metadata": {},
   "outputs": [
    {
     "data": {
      "text/plain": [
       "(7783, 14)"
      ]
     },
     "execution_count": 52,
     "metadata": {},
     "output_type": "execute_result"
    }
   ],
   "source": [
    "data.shape"
   ]
  },
  {
   "cell_type": "markdown",
   "metadata": {},
   "source": [
    "Now the outliers are removed before we had 10000 rows and now we have 7783"
   ]
  },
  {
   "cell_type": "code",
   "execution_count": 53,
   "metadata": {},
   "outputs": [
    {
     "data": {
      "text/plain": [
       "dec          float64\n",
       "g            float64\n",
       "r            float64\n",
       "i            float64\n",
       "z            float64\n",
       "rerun        float64\n",
       "camcol       float64\n",
       "field        float64\n",
       "specobjid    float64\n",
       "class        float64\n",
       "redshift     float64\n",
       "plate        float64\n",
       "mjd          float64\n",
       "fiberid      float64\n",
       "dtype: object"
      ]
     },
     "execution_count": 53,
     "metadata": {},
     "output_type": "execute_result"
    }
   ],
   "source": [
    "#Lets check the shape of the data set\n",
    "data.dtypes"
   ]
  },
  {
   "cell_type": "markdown",
   "metadata": {},
   "source": [
    "So our target variable is in float we have to convert it back to int"
   ]
  },
  {
   "cell_type": "code",
   "execution_count": 54,
   "metadata": {},
   "outputs": [
    {
     "data": {
      "text/plain": [
       "dec          893\n",
       "g              0\n",
       "r              0\n",
       "i              0\n",
       "z              0\n",
       "rerun          0\n",
       "camcol         0\n",
       "field          0\n",
       "specobjid      0\n",
       "class          0\n",
       "redshift       0\n",
       "plate          0\n",
       "mjd            0\n",
       "fiberid        0\n",
       "dtype: int64"
      ]
     },
     "execution_count": 54,
     "metadata": {},
     "output_type": "execute_result"
    }
   ],
   "source": [
    "#Lets check whther we have any null ornull values due because of applying iqr\n",
    "data.isnull().sum()"
   ]
  },
  {
   "cell_type": "markdown",
   "metadata": {},
   "source": [
    "We have null values in dec lets replace them with the mean."
   ]
  },
  {
   "cell_type": "code",
   "execution_count": 55,
   "metadata": {},
   "outputs": [],
   "source": [
    "#Handled null values\n",
    "data[\"dec\"]=data[\"dec\"].replace(np.NaN,1.136319350499179)"
   ]
  },
  {
   "cell_type": "markdown",
   "metadata": {},
   "source": [
    "# Model building"
   ]
  },
  {
   "cell_type": "code",
   "execution_count": 56,
   "metadata": {},
   "outputs": [],
   "source": [
    "#Lets import all the modules required\n",
    "from sklearn.preprocessing import StandardScaler\n",
    "from sklearn.model_selection import train_test_split\n",
    "from sklearn.svm import SVC\n",
    "from sklearn.tree import DecisionTreeClassifier\n",
    "from sklearn.neighbors import KNeighborsClassifier\n",
    "from sklearn.model_selection import cross_val_score,GridSearchCV\n",
    "from sklearn.metrics import accuracy_score,confusion_matrix,classification_report"
   ]
  },
  {
   "cell_type": "code",
   "execution_count": 57,
   "metadata": {},
   "outputs": [],
   "source": [
    "#Lets split the data into x and y\n",
    "y=data[\"class\"]"
   ]
  },
  {
   "cell_type": "code",
   "execution_count": 58,
   "metadata": {},
   "outputs": [
    {
     "data": {
      "text/plain": [
       "0       0.693147\n",
       "1       0.693147\n",
       "2       0.000000\n",
       "3       0.693147\n",
       "4       0.693147\n",
       "          ...   \n",
       "9995    0.000000\n",
       "9996    0.000000\n",
       "9997    0.693147\n",
       "9998    0.000000\n",
       "9999    0.000000\n",
       "Name: class, Length: 7783, dtype: float64"
      ]
     },
     "execution_count": 58,
     "metadata": {},
     "output_type": "execute_result"
    }
   ],
   "source": [
    "y"
   ]
  },
  {
   "cell_type": "markdown",
   "metadata": {},
   "source": [
    "Y is in float lets convert it into int"
   ]
  },
  {
   "cell_type": "code",
   "execution_count": 59,
   "metadata": {},
   "outputs": [],
   "source": [
    "#Formattin\n",
    "y=y.astype(\"int\")"
   ]
  },
  {
   "cell_type": "code",
   "execution_count": 60,
   "metadata": {},
   "outputs": [],
   "source": [
    "x=data.drop(\"class\",axis=1,inplace=True)"
   ]
  },
  {
   "cell_type": "code",
   "execution_count": 61,
   "metadata": {},
   "outputs": [],
   "source": [
    "x=data"
   ]
  },
  {
   "cell_type": "code",
   "execution_count": 62,
   "metadata": {},
   "outputs": [
    {
     "name": "stdout",
     "output_type": "stream",
     "text": [
      "(7783, 13) (7783,)\n"
     ]
    }
   ],
   "source": [
    "#Lets check the shapes of x and y\n",
    "print(x.shape,y.shape)"
   ]
  },
  {
   "cell_type": "markdown",
   "metadata": {},
   "source": [
    "So x has 7783 rows and 13  columns and y has 7783 rows"
   ]
  },
  {
   "cell_type": "code",
   "execution_count": 63,
   "metadata": {},
   "outputs": [],
   "source": [
    "from sklearn.preprocessing import StandardScaler\n",
    "sc=StandardScaler()\n",
    "x=sc.fit_transform(x)"
   ]
  },
  {
   "cell_type": "code",
   "execution_count": 64,
   "metadata": {},
   "outputs": [],
   "source": [
    "#Lets splitting x and y into test and train data\n",
    "x_train,x_test,y_train,y_test=train_test_split(x,y,random_state=42,test_size=.22,stratify=y)"
   ]
  },
  {
   "cell_type": "code",
   "execution_count": 65,
   "metadata": {},
   "outputs": [
    {
     "name": "stdout",
     "output_type": "stream",
     "text": [
      "(6070, 13) (1713, 13) (6070,) (1713,)\n"
     ]
    }
   ],
   "source": [
    "#Lets check the shape of all train,test\n",
    "print(x_train.shape,x_test.shape,y_train.shape,y_test.shape)"
   ]
  },
  {
   "cell_type": "markdown",
   "metadata": {},
   "source": [
    "x_train=(6073,13)\n",
    "\n",
    "x_test=(1713,13)\n",
    "\n",
    "y_train=(6070)\n",
    "\n",
    "y_test=(1713)"
   ]
  },
  {
   "cell_type": "markdown",
   "metadata": {},
   "source": [
    "# KNeighborsClassifier "
   ]
  },
  {
   "cell_type": "code",
   "execution_count": 66,
   "metadata": {},
   "outputs": [
    {
     "data": {
      "text/plain": [
       "{'n_neighbors': 24}"
      ]
     },
     "execution_count": 66,
     "metadata": {},
     "output_type": "execute_result"
    }
   ],
   "source": [
    "#Lets use gridsearch to find the best random state for our models\n",
    "\n",
    "parameters={'n_neighbors':range(22,25)}\n",
    "knn=KNeighborsClassifier()\n",
    "bknn=GridSearchCV(knn,parameters)\n",
    "bknn.fit(x,y)\n",
    "bknn.best_params_"
   ]
  },
  {
   "cell_type": "markdown",
   "metadata": {},
   "source": [
    "# SVC"
   ]
  },
  {
   "cell_type": "code",
   "execution_count": 69,
   "metadata": {},
   "outputs": [
    {
     "data": {
      "text/plain": [
       "{'random_state': 42}"
      ]
     },
     "execution_count": 69,
     "metadata": {},
     "output_type": "execute_result"
    }
   ],
   "source": [
    "parameters={'random_state':range(42,60)}\n",
    "svc=SVC()\n",
    "bsvc=GridSearchCV(svc,parameters)\n",
    "bsvc.fit(x,y)\n",
    "bsvc.best_params_"
   ]
  },
  {
   "cell_type": "markdown",
   "metadata": {},
   "source": [
    "# DecisionTreeClassifier"
   ]
  },
  {
   "cell_type": "code",
   "execution_count": 70,
   "metadata": {},
   "outputs": [
    {
     "data": {
      "text/plain": [
       "{'max_depth': 3, 'min_samples_leaf': 10}"
      ]
     },
     "execution_count": 70,
     "metadata": {},
     "output_type": "execute_result"
    }
   ],
   "source": [
    "dtc=DecisionTreeClassifier()\n",
    "depth = np.arange(1,30)\n",
    "leaves = [1,2,4,5,10,20,30,40,80,100]\n",
    "parameters={'max_depth':depth,'min_samples_leaf':leaves}\n",
    "bdtc=GridSearchCV(dtc,parameters)\n",
    "bdtc.fit(x,y)\n",
    "bdtc.best_params_"
   ]
  },
  {
   "cell_type": "code",
   "execution_count": 64,
   "metadata": {},
   "outputs": [],
   "source": [
    "#Models with best parameter\n",
    "knn=KNeighborsClassifier(n_neighbors=24)\n",
    "svc=SVC(random_state= 42)\n",
    "dtc=DecisionTreeClassifier(max_depth=3, min_samples_leaf= 10)"
   ]
  },
  {
   "cell_type": "code",
   "execution_count": 71,
   "metadata": {},
   "outputs": [
    {
     "name": "stdout",
     "output_type": "stream",
     "text": [
      "Accuracy of  KNeighborsClassifier(algorithm='auto', leaf_size=30, metric='minkowski',\n",
      "                     metric_params=None, n_jobs=None, n_neighbors=5, p=2,\n",
      "                     weights='uniform') is :\n",
      "0.9918272037361354\n",
      "[[1697    1]\n",
      " [  13    2]]\n",
      "              precision    recall  f1-score   support\n",
      "\n",
      "           0       0.99      1.00      1.00      1698\n",
      "           1       0.67      0.13      0.22        15\n",
      "\n",
      "    accuracy                           0.99      1713\n",
      "   macro avg       0.83      0.57      0.61      1713\n",
      "weighted avg       0.99      0.99      0.99      1713\n",
      "\n",
      "_________________________________________________________________________________________\n",
      "\n",
      "\n",
      "Accuracy of  SVC(C=1.0, break_ties=False, cache_size=200, class_weight=None, coef0=0.0,\n",
      "    decision_function_shape='ovr', degree=3, gamma='scale', kernel='rbf',\n",
      "    max_iter=-1, probability=False, random_state=None, shrinking=True,\n",
      "    tol=0.001, verbose=False) is :\n",
      "0.9918272037361354\n",
      "[[1698    0]\n",
      " [  14    1]]\n",
      "              precision    recall  f1-score   support\n",
      "\n",
      "           0       0.99      1.00      1.00      1698\n",
      "           1       1.00      0.07      0.12        15\n",
      "\n",
      "    accuracy                           0.99      1713\n",
      "   macro avg       1.00      0.53      0.56      1713\n",
      "weighted avg       0.99      0.99      0.99      1713\n",
      "\n",
      "_________________________________________________________________________________________\n",
      "\n",
      "\n",
      "Accuracy of  DecisionTreeClassifier(ccp_alpha=0.0, class_weight=None, criterion='gini',\n",
      "                       max_depth=None, max_features=None, max_leaf_nodes=None,\n",
      "                       min_impurity_decrease=0.0, min_impurity_split=None,\n",
      "                       min_samples_leaf=1, min_samples_split=2,\n",
      "                       min_weight_fraction_leaf=0.0, presort='deprecated',\n",
      "                       random_state=None, splitter='best') is :\n",
      "0.9889083479276124\n",
      "[[1688   10]\n",
      " [   9    6]]\n",
      "              precision    recall  f1-score   support\n",
      "\n",
      "           0       0.99      0.99      0.99      1698\n",
      "           1       0.38      0.40      0.39        15\n",
      "\n",
      "    accuracy                           0.99      1713\n",
      "   macro avg       0.68      0.70      0.69      1713\n",
      "weighted avg       0.99      0.99      0.99      1713\n",
      "\n",
      "_________________________________________________________________________________________\n",
      "\n",
      "\n"
     ]
    }
   ],
   "source": [
    "model=[knn,svc,dtc]\n",
    "\n",
    "for m in model:\n",
    "    m.fit(x_train,y_train)\n",
    "    m.score(x_train,y_train)\n",
    "    predm=m.predict(x_test)\n",
    "    print(\"Accuracy of \",m,\"is :\")\n",
    "    print(accuracy_score(y_test,predm))\n",
    "    print(confusion_matrix(y_test,predm))\n",
    "    print(classification_report(y_test,predm))\n",
    "    print(\"_________________________________________________________________________________________\")\n",
    "    print('\\n')"
   ]
  },
  {
   "cell_type": "markdown",
   "metadata": {},
   "source": [
    "KNeighborClassifier=0.9918\n",
    "\n",
    "SVC=0.99918\n",
    "\n",
    "DecisionTreeClassifier=0.987\n",
    "    \n",
    "KNeighbour and svc are performing well.    "
   ]
  },
  {
   "cell_type": "code",
   "execution_count": 66,
   "metadata": {},
   "outputs": [
    {
     "name": "stdout",
     "output_type": "stream",
     "text": [
      "Model  KNeighborsClassifier(algorithm='auto', leaf_size=30, metric='minkowski',\n",
      "                     metric_params=None, n_jobs=None, n_neighbors=24, p=2,\n",
      "                     weights='uniform')\n",
      "Score  [0.99101412 0.99101412 0.99101412 0.99100257 0.99100257 0.99100257\n",
      " 0.99100257 0.99100257 0.98971722 0.99100257]\n",
      "Mean score : 0.9908775009817476\n",
      "Standard Deviation : 0.0003867936011576059\n",
      "______________________________________________________________________________________________\n",
      "\n",
      "\n",
      "Model  SVC(C=1.0, break_ties=False, cache_size=200, class_weight=None, coef0=0.0,\n",
      "    decision_function_shape='ovr', degree=3, gamma='scale', kernel='rbf',\n",
      "    max_iter=-1, probability=False, random_state=42, shrinking=True, tol=0.001,\n",
      "    verbose=False)\n",
      "Score  [0.99101412 0.99101412 0.99101412 0.99100257 0.99100257 0.99100257\n",
      " 0.98843188 0.99100257 0.98843188 0.99100257]\n",
      "Mean score : 0.9904918968686373\n",
      "Standard Deviation : 0.0010300222729476638\n",
      "______________________________________________________________________________________________\n",
      "\n",
      "\n",
      "Model  DecisionTreeClassifier(ccp_alpha=0.0, class_weight=None, criterion='gini',\n",
      "                       max_depth=5, max_features=None, max_leaf_nodes=None,\n",
      "                       min_impurity_decrease=0.0, min_impurity_split=None,\n",
      "                       min_samples_leaf=10, min_samples_split=2,\n",
      "                       min_weight_fraction_leaf=0.0, presort='deprecated',\n",
      "                       random_state=None, splitter='best')\n",
      "Score  [0.99229782 0.99614891 0.99614891 0.99100257 0.99228792 0.99100257\n",
      " 0.98971722 0.99228792 0.98971722 0.99100257]\n",
      "Mean score : 0.992161363028865\n",
      "Standard Deviation : 0.0021869551703096895\n",
      "______________________________________________________________________________________________\n",
      "\n",
      "\n"
     ]
    }
   ],
   "source": [
    "#Lets check the cross validation score\n",
    "\n",
    "model=[knn,svc,dtc]\n",
    "\n",
    "for m in model:\n",
    "    score=cross_val_score(m,x,y,cv=10,scoring=\"accuracy\")\n",
    "    print(\"Model \",m)\n",
    "    print(\"Score \",score)\n",
    "    print('Mean score :',score.mean())\n",
    "    print(\"Standard Deviation :\",score.std())\n",
    "    print(\"______________________________________________________________________________________________\")\n",
    "    print('\\n')"
   ]
  },
  {
   "cell_type": "markdown",
   "metadata": {},
   "source": [
    "KNeighborClassifier=0.9919\n",
    "\n",
    "SVC=0.990\n",
    "\n",
    "DecisionTreeClassifier=0.986\n",
    "\n",
    "So our best model is svc  with accuracy score of 0.9918272037361354 and cross validation score of 0.9904918968686373\n",
    "KNeighbour also has same scores but standard deviation is more in knneighbour compared to svc\n",
    "    "
   ]
  },
  {
   "cell_type": "markdown",
   "metadata": {},
   "source": [
    "# SVC"
   ]
  },
  {
   "cell_type": "code",
   "execution_count": 73,
   "metadata": {},
   "outputs": [
    {
     "name": "stdout",
     "output_type": "stream",
     "text": [
      "Accuracy of  SVC(C=1.0, break_ties=False, cache_size=200, class_weight=None, coef0=0.0,\n",
      "    decision_function_shape='ovr', degree=3, gamma='scale', kernel='rbf',\n",
      "    max_iter=-1, probability=True, random_state=None, shrinking=True, tol=0.001,\n",
      "    verbose=False) is :\n",
      "0.9918272037361354\n",
      "[[1698    0]\n",
      " [  14    1]]\n",
      "              precision    recall  f1-score   support\n",
      "\n",
      "           0       0.99      1.00      1.00      1698\n",
      "           1       1.00      0.07      0.12        15\n",
      "\n",
      "    accuracy                           0.99      1713\n",
      "   macro avg       1.00      0.53      0.56      1713\n",
      "weighted avg       0.99      0.99      0.99      1713\n",
      "\n",
      "****************************************************************************************************************\n",
      "\n",
      "\n"
     ]
    }
   ],
   "source": [
    "#The best model is\n",
    "\n",
    "svc=SVC(probability=True)\n",
    "svc.fit(x_train,y_train)\n",
    "svc.score(x_train,y_train)\n",
    "pred_svc=svc.predict(x_test)\n",
    "print(\"Accuracy of \",svc,\"is :\")\n",
    "print(accuracy_score(y_test,pred_svc))\n",
    "print(confusion_matrix(y_test,pred_svc))\n",
    "print(classification_report(y_test,pred_svc))\n",
    "print(\"****************************************************************************************************************\")\n",
    "print('\\n')"
   ]
  },
  {
   "cell_type": "code",
   "execution_count": 74,
   "metadata": {},
   "outputs": [
    {
     "data": {
      "image/png": "[encoded data removed]",
      "text/plain": [
       "<Figure size 432x288 with 1 Axes>"
      ]
     },
     "metadata": {
      "needs_background": "light"
     },
     "output_type": "display_data"
    }
   ],
   "source": [
    "#Plotting Confusion matrix for svc\n",
    "confusionmatrix=confusion_matrix(y_test,pred_svc)\n",
    "sns.heatmap(confusionmatrix,annot=True,cbar=False,cmap=\"BuPu\")\n",
    "\n",
    "plt.title(\"Confusion Matrix of SVC\")\n",
    "plt.show()"
   ]
  },
  {
   "cell_type": "code",
   "execution_count": 75,
   "metadata": {},
   "outputs": [
    {
     "data": {
      "text/plain": [
       "array([0.00895666, 0.00301065, 0.00775711, ..., 0.00887852, 0.00544252,\n",
       "       0.00876037])"
      ]
     },
     "execution_count": 75,
     "metadata": {},
     "output_type": "execute_result"
    }
   ],
   "source": [
    "#AucRoc Curve and Auc Score\n",
    "from sklearn.metrics import roc_curve,roc_auc_score\n",
    "ypredprob=svc.predict_proba(x_test)[:,1]\n",
    "ypredprob"
   ]
  },
  {
   "cell_type": "code",
   "execution_count": 76,
   "metadata": {},
   "outputs": [],
   "source": [
    "fpr,tpr,thresholds=roc_curve(y_test,ypredprob)"
   ]
  },
  {
   "cell_type": "code",
   "execution_count": 77,
   "metadata": {},
   "outputs": [
    {
     "data": {
      "text/plain": [
       "array([0.00000000e+00, 0.00000000e+00, 0.00000000e+00, 5.88928151e-04,\n",
       "       5.88928151e-04, 1.17785630e-03, 1.17785630e-03, 2.35571260e-03,\n",
       "       2.35571260e-03, 3.53356890e-03, 3.53356890e-03, 1.29564193e-02,\n",
       "       1.29564193e-02, 2.75618375e-01, 2.75618375e-01, 3.29799764e-01,\n",
       "       3.29799764e-01, 3.85159011e-01, 3.85159011e-01, 1.00000000e+00])"
      ]
     },
     "execution_count": 77,
     "metadata": {},
     "output_type": "execute_result"
    }
   ],
   "source": [
    "fpr"
   ]
  },
  {
   "cell_type": "code",
   "execution_count": 78,
   "metadata": {},
   "outputs": [
    {
     "data": {
      "text/plain": [
       "array([0.        , 0.06666667, 0.13333333, 0.13333333, 0.26666667,\n",
       "       0.26666667, 0.46666667, 0.46666667, 0.66666667, 0.66666667,\n",
       "       0.73333333, 0.73333333, 0.8       , 0.8       , 0.86666667,\n",
       "       0.86666667, 0.93333333, 0.93333333, 1.        , 1.        ])"
      ]
     },
     "execution_count": 78,
     "metadata": {},
     "output_type": "execute_result"
    }
   ],
   "source": [
    "tpr"
   ]
  },
  {
   "cell_type": "code",
   "execution_count": 79,
   "metadata": {},
   "outputs": [
    {
     "data": {
      "image/png": "[encoded data removed]",
      "text/plain": [
       "<Figure size 432x288 with 1 Axes>"
      ]
     },
     "metadata": {
      "needs_background": "light"
     },
     "output_type": "display_data"
    }
   ],
   "source": [
    "plt.plot([0,1],[0,1],\"k--\")\n",
    "plt.plot(fpr,tpr,label=\"svc\")\n",
    "plt.xlabel(\"Falsepositiverate\")\n",
    "plt.ylabel(\"Truepositiverate\")\n",
    "plt.title(\"svc\")\n",
    "plt.show()"
   ]
  },
  {
   "cell_type": "code",
   "execution_count": 80,
   "metadata": {},
   "outputs": [],
   "source": [
    "auc_score=roc_auc_score(y_test,svc.predict(x_test))"
   ]
  },
  {
   "cell_type": "code",
   "execution_count": 81,
   "metadata": {},
   "outputs": [
    {
     "data": {
      "text/plain": [
       "0.5333333333333333"
      ]
     },
     "execution_count": 81,
     "metadata": {},
     "output_type": "execute_result"
    }
   ],
   "source": [
    "auc_score"
   ]
  },
  {
   "cell_type": "markdown",
   "metadata": {},
   "source": [
    "Even then we are having bad auc_score so lets try some ensemble techniques"
   ]
  },
  {
   "cell_type": "markdown",
   "metadata": {},
   "source": [
    "# Ensemble Techniques"
   ]
  },
  {
   "cell_type": "code",
   "execution_count": 82,
   "metadata": {},
   "outputs": [],
   "source": [
    "from sklearn.ensemble import RandomForestClassifier\n",
    "from sklearn.ensemble import AdaBoostClassifier\n",
    "from sklearn.ensemble import GradientBoostingClassifier\n",
    "from sklearn.ensemble import BaggingClassifier\n",
    "from sklearn.ensemble import ExtraTreesClassifier\n"
   ]
  },
  {
   "cell_type": "code",
   "execution_count": 83,
   "metadata": {},
   "outputs": [],
   "source": [
    "model=[RandomForestClassifier(),AdaBoostClassifier(),GradientBoostingClassifier(),BaggingClassifier(),ExtraTreesClassifier()]"
   ]
  },
  {
   "cell_type": "code",
   "execution_count": 84,
   "metadata": {},
   "outputs": [
    {
     "name": "stdout",
     "output_type": "stream",
     "text": [
      "Accuracy of  RandomForestClassifier(bootstrap=True, ccp_alpha=0.0, class_weight=None,\n",
      "                       criterion='gini', max_depth=None, max_features='auto',\n",
      "                       max_leaf_nodes=None, max_samples=None,\n",
      "                       min_impurity_decrease=0.0, min_impurity_split=None,\n",
      "                       min_samples_leaf=1, min_samples_split=2,\n",
      "                       min_weight_fraction_leaf=0.0, n_estimators=100,\n",
      "                       n_jobs=None, oob_score=False, random_state=None,\n",
      "                       verbose=0, warm_start=False) is :\n",
      "0.9918272037361354\n",
      "[[1697    1]\n",
      " [  13    2]]\n",
      "              precision    recall  f1-score   support\n",
      "\n",
      "           0       0.99      1.00      1.00      1698\n",
      "           1       0.67      0.13      0.22        15\n",
      "\n",
      "    accuracy                           0.99      1713\n",
      "   macro avg       0.83      0.57      0.61      1713\n",
      "weighted avg       0.99      0.99      0.99      1713\n",
      "\n",
      "_________________________________________________________________________________________\n",
      "\n",
      "\n",
      "Accuracy of  AdaBoostClassifier(algorithm='SAMME.R', base_estimator=None, learning_rate=1.0,\n",
      "                   n_estimators=50, random_state=None) is :\n",
      "0.9912434325744308\n",
      "[[1695    3]\n",
      " [  12    3]]\n",
      "              precision    recall  f1-score   support\n",
      "\n",
      "           0       0.99      1.00      1.00      1698\n",
      "           1       0.50      0.20      0.29        15\n",
      "\n",
      "    accuracy                           0.99      1713\n",
      "   macro avg       0.75      0.60      0.64      1713\n",
      "weighted avg       0.99      0.99      0.99      1713\n",
      "\n",
      "_________________________________________________________________________________________\n",
      "\n",
      "\n",
      "Accuracy of  GradientBoostingClassifier(ccp_alpha=0.0, criterion='friedman_mse', init=None,\n",
      "                           learning_rate=0.1, loss='deviance', max_depth=3,\n",
      "                           max_features=None, max_leaf_nodes=None,\n",
      "                           min_impurity_decrease=0.0, min_impurity_split=None,\n",
      "                           min_samples_leaf=1, min_samples_split=2,\n",
      "                           min_weight_fraction_leaf=0.0, n_estimators=100,\n",
      "                           n_iter_no_change=None, presort='deprecated',\n",
      "                           random_state=None, subsample=1.0, tol=0.0001,\n",
      "                           validation_fraction=0.1, verbose=0,\n",
      "                           warm_start=False) is :\n",
      "0.9900758902510216\n",
      "[[1690    8]\n",
      " [   9    6]]\n",
      "              precision    recall  f1-score   support\n",
      "\n",
      "           0       0.99      1.00      0.99      1698\n",
      "           1       0.43      0.40      0.41        15\n",
      "\n",
      "    accuracy                           0.99      1713\n",
      "   macro avg       0.71      0.70      0.70      1713\n",
      "weighted avg       0.99      0.99      0.99      1713\n",
      "\n",
      "_________________________________________________________________________________________\n",
      "\n",
      "\n",
      "Accuracy of  BaggingClassifier(base_estimator=None, bootstrap=True, bootstrap_features=False,\n",
      "                  max_features=1.0, max_samples=1.0, n_estimators=10,\n",
      "                  n_jobs=None, oob_score=False, random_state=None, verbose=0,\n",
      "                  warm_start=False) is :\n",
      "0.9906596614127262\n",
      "[[1695    3]\n",
      " [  13    2]]\n",
      "              precision    recall  f1-score   support\n",
      "\n",
      "           0       0.99      1.00      1.00      1698\n",
      "           1       0.40      0.13      0.20        15\n",
      "\n",
      "    accuracy                           0.99      1713\n",
      "   macro avg       0.70      0.57      0.60      1713\n",
      "weighted avg       0.99      0.99      0.99      1713\n",
      "\n",
      "_________________________________________________________________________________________\n",
      "\n",
      "\n",
      "Accuracy of  ExtraTreesClassifier(bootstrap=False, ccp_alpha=0.0, class_weight=None,\n",
      "                     criterion='gini', max_depth=None, max_features='auto',\n",
      "                     max_leaf_nodes=None, max_samples=None,\n",
      "                     min_impurity_decrease=0.0, min_impurity_split=None,\n",
      "                     min_samples_leaf=1, min_samples_split=2,\n",
      "                     min_weight_fraction_leaf=0.0, n_estimators=100,\n",
      "                     n_jobs=None, oob_score=False, random_state=None, verbose=0,\n",
      "                     warm_start=False) is :\n",
      "0.9918272037361354\n",
      "[[1697    1]\n",
      " [  13    2]]\n",
      "              precision    recall  f1-score   support\n",
      "\n",
      "           0       0.99      1.00      1.00      1698\n",
      "           1       0.67      0.13      0.22        15\n",
      "\n",
      "    accuracy                           0.99      1713\n",
      "   macro avg       0.83      0.57      0.61      1713\n",
      "weighted avg       0.99      0.99      0.99      1713\n",
      "\n",
      "_________________________________________________________________________________________\n",
      "\n",
      "\n"
     ]
    }
   ],
   "source": [
    "for m in model:\n",
    "    m.fit(x_train,y_train)\n",
    "    m.score(x_train,y_train)\n",
    "    predm=m.predict(x_test)\n",
    "    print(\"Accuracy of \",m,\"is :\")\n",
    "    print(accuracy_score(y_test,predm))\n",
    "    print(confusion_matrix(y_test,predm))\n",
    "    print(classification_report(y_test,predm))\n",
    "    print(\"_________________________________________________________________________________________\")\n",
    "    print('\\n')"
   ]
  },
  {
   "cell_type": "code",
   "execution_count": 79,
   "metadata": {},
   "outputs": [
    {
     "name": "stdout",
     "output_type": "stream",
     "text": [
      "Model  RandomForestClassifier(bootstrap=True, ccp_alpha=0.0, class_weight=None,\n",
      "                       criterion='gini', max_depth=None, max_features='auto',\n",
      "                       max_leaf_nodes=None, max_samples=None,\n",
      "                       min_impurity_decrease=0.0, min_impurity_split=None,\n",
      "                       min_samples_leaf=1, min_samples_split=2,\n",
      "                       min_weight_fraction_leaf=0.0, n_estimators=100,\n",
      "                       n_jobs=None, oob_score=False, random_state=None,\n",
      "                       verbose=0, warm_start=False)\n",
      "Score  [0.99229782 0.99486521 0.99743261 0.98971722 0.99357326 0.99100257\n",
      " 0.98971722 0.99228792 0.98971722 0.99228792]\n",
      "Mean score : 0.9922898977332352\n",
      "Standard Deviation : 0.0023714965358797046\n",
      "______________________________________________________________________________________________\n",
      "\n",
      "\n",
      "Model  AdaBoostClassifier(algorithm='SAMME.R', base_estimator=None, learning_rate=1.0,\n",
      "                   n_estimators=50, random_state=None)\n",
      "Score  [0.99358151 0.99486521 0.99358151 0.98843188 0.99100257 0.99228792\n",
      " 0.99100257 0.99228792 0.99100257 0.99100257]\n",
      "Mean score : 0.9919046236193656\n",
      "Standard Deviation : 0.0017319817765522481\n",
      "______________________________________________________________________________________________\n",
      "\n",
      "\n",
      "Model  GradientBoostingClassifier(ccp_alpha=0.0, criterion='friedman_mse', init=None,\n",
      "                           learning_rate=0.1, loss='deviance', max_depth=3,\n",
      "                           max_features=None, max_leaf_nodes=None,\n",
      "                           min_impurity_decrease=0.0, min_impurity_split=None,\n",
      "                           min_samples_leaf=1, min_samples_split=2,\n",
      "                           min_weight_fraction_leaf=0.0, n_estimators=100,\n",
      "                           n_iter_no_change=None, presort='deprecated',\n",
      "                           random_state=None, subsample=1.0, tol=0.0001,\n",
      "                           validation_fraction=0.1, verbose=0,\n",
      "                           warm_start=False)\n",
      "Score  [0.98844673 0.98973042 0.99101412 0.98329049 0.99485861 0.98843188\n",
      " 0.98457584 0.99357326 0.98843188 0.98971722]\n",
      "Mean score : 0.989207044823797\n",
      "Standard Deviation : 0.0033621036886643746\n",
      "______________________________________________________________________________________________\n",
      "\n",
      "\n",
      "Model  BaggingClassifier(base_estimator=None, bootstrap=True, bootstrap_features=False,\n",
      "                  max_features=1.0, max_samples=1.0, n_estimators=10,\n",
      "                  n_jobs=None, oob_score=False, random_state=None, verbose=0,\n",
      "                  warm_start=False)\n",
      "Score  [0.99486521 0.99358151 0.99358151 0.98971722 0.99357326 0.98971722\n",
      " 0.98971722 0.99357326 0.98971722 0.99228792]\n",
      "Mean score : 0.9920331583237358\n",
      "Standard Deviation : 0.001976823565180973\n",
      "______________________________________________________________________________________________\n",
      "\n",
      "\n",
      "Model  ExtraTreesClassifier(bootstrap=False, ccp_alpha=0.0, class_weight=None,\n",
      "                     criterion='gini', max_depth=None, max_features='auto',\n",
      "                     max_leaf_nodes=None, max_samples=None,\n",
      "                     min_impurity_decrease=0.0, min_impurity_split=None,\n",
      "                     min_samples_leaf=1, min_samples_split=2,\n",
      "                     min_weight_fraction_leaf=0.0, n_estimators=100,\n",
      "                     n_jobs=None, oob_score=False, random_state=None, verbose=0,\n",
      "                     warm_start=False)\n",
      "Score  [0.99101412 0.99486521 0.99614891 0.98971722 0.99228792 0.99100257\n",
      " 0.98971722 0.99100257 0.98971722 0.99228792]\n",
      "Mean score : 0.9917760889149955\n",
      "Standard Deviation : 0.0020900288758200626\n",
      "______________________________________________________________________________________________\n",
      "\n",
      "\n"
     ]
    }
   ],
   "source": [
    "for m in model:\n",
    "    score=cross_val_score(m,x,y,cv=10,scoring=\"accuracy\")\n",
    "    print(\"Model \",m)\n",
    "    print(\"Score \",score)\n",
    "    print('Mean score :',score.mean())\n",
    "    print(\"Standard Deviation :\",score.std())\n",
    "    print(\"______________________________________________________________________________________________\")\n",
    "    print('\\n')"
   ]
  },
  {
   "cell_type": "markdown",
   "metadata": {},
   "source": [
    "\n",
    "\n",
    "      |    Accuracy||Cross Val Score | | Std of cross val|\n",
    "\n",
    "RandomForest:                   0.9918272037361354,0.992161363028865,0.0024027474582227377\n",
    "\n",
    "AdaBoostClassifier:             0.9912434325744308,0.9919046236193656,0.0017319817765522481\n",
    "\n",
    "GradientBoostingClassifier:     0.9906596614127262,0.9892068798241764,0.0031066106507634875\n",
    "\n",
    "BaggingClassifier:              0.99241097489784, 0.9916475542106253,0.002172165383507606\n",
    "\n",
    "ExtraTreesClassifier:           0.9918272037361354,0.9920328283244949,0.002286777975524992\n"
   ]
  },
  {
   "cell_type": "code",
   "execution_count": 85,
   "metadata": {},
   "outputs": [],
   "source": [
    "#Lets save GradientBoostingClassifier as best model and see the auc score"
   ]
  },
  {
   "cell_type": "markdown",
   "metadata": {},
   "source": [
    "# GradientBoostingClassifier"
   ]
  },
  {
   "cell_type": "code",
   "execution_count": 93,
   "metadata": {},
   "outputs": [
    {
     "name": "stdout",
     "output_type": "stream",
     "text": [
      "Accuracy of  ExtraTreesClassifier(bootstrap=False, ccp_alpha=0.0, class_weight=None,\n",
      "                     criterion='gini', max_depth=None, max_features='auto',\n",
      "                     max_leaf_nodes=None, max_samples=None,\n",
      "                     min_impurity_decrease=0.0, min_impurity_split=None,\n",
      "                     min_samples_leaf=1, min_samples_split=2,\n",
      "                     min_weight_fraction_leaf=0.0, n_estimators=100,\n",
      "                     n_jobs=None, oob_score=False, random_state=None, verbose=0,\n",
      "                     warm_start=False) is :\n",
      "0.9906596614127262\n",
      "[[1690    8]\n",
      " [   8    7]]\n",
      "              precision    recall  f1-score   support\n",
      "\n",
      "           0       1.00      1.00      1.00      1698\n",
      "           1       0.47      0.47      0.47        15\n",
      "\n",
      "    accuracy                           0.99      1713\n",
      "   macro avg       0.73      0.73      0.73      1713\n",
      "weighted avg       0.99      0.99      0.99      1713\n",
      "\n",
      "_________________________________________________________________________________________\n",
      "\n",
      "\n"
     ]
    }
   ],
   "source": [
    "b=GradientBoostingClassifier()\n",
    "b.fit(x_train,y_train)\n",
    "b.score(x_train,y_train)\n",
    "predg=b.predict(x_test)\n",
    "print(\"Accuracy of \",m,\"is :\")\n",
    "print(accuracy_score(y_test,predg))\n",
    "print(confusion_matrix(y_test,predg))\n",
    "print(classification_report(y_test,predg))\n",
    "print(\"_________________________________________________________________________________________\")\n",
    "print('\\n')"
   ]
  },
  {
   "cell_type": "code",
   "execution_count": 95,
   "metadata": {},
   "outputs": [
    {
     "data": {
      "image/png": "[encoded data removed]",
      "text/plain": [
       "<Figure size 432x288 with 1 Axes>"
      ]
     },
     "metadata": {
      "needs_background": "light"
     },
     "output_type": "display_data"
    },
    {
     "data": {
      "text/plain": [
       "0.5663722025912838"
      ]
     },
     "execution_count": 95,
     "metadata": {},
     "output_type": "execute_result"
    }
   ],
   "source": [
    "ypredprob=b.predict_proba(x_test)[:,1]\n",
    "ypredprob\n",
    "fpr,tpr,thresholds=roc_curve(y_test,ypredprob)\n",
    "plt.plot([0,1],[0,1],\"k--\")\n",
    "plt.plot(fpr,tpr,label=\"svc\")\n",
    "plt.xlabel(\"Falsepositiverate\")\n",
    "plt.ylabel(\"Truepositiverate\")\n",
    "plt.title(\"svc\")\n",
    "plt.show()\n",
    "auc_score=roc_auc_score(y_test,m.predict(x_test))\n",
    "auc_score"
   ]
  },
  {
   "cell_type": "markdown",
   "metadata": {},
   "source": [
    "# Hypertuning GradientBooster"
   ]
  },
  {
   "cell_type": "code",
   "execution_count": 96,
   "metadata": {},
   "outputs": [],
   "source": [
    "#Lets hypertune The gradient Boosting and check auc score"
   ]
  },
  {
   "cell_type": "code",
   "execution_count": 98,
   "metadata": {},
   "outputs": [
    {
     "data": {
      "text/plain": [
       "{'learning_rate': 0.01}"
      ]
     },
     "execution_count": 98,
     "metadata": {},
     "output_type": "execute_result"
    }
   ],
   "source": [
    "parameters={'learning_rate':[0.15,0.1,0.05,0.01,0.005,0.001]}\n",
    "gbc=GradientBoostingClassifier()\n",
    "bgbc=GridSearchCV(gbc,parameters)\n",
    "bgbc.fit(x,y)\n",
    "bgbc.best_params_"
   ]
  },
  {
   "cell_type": "code",
   "execution_count": 99,
   "metadata": {},
   "outputs": [
    {
     "data": {
      "text/plain": [
       "{'n_estimators': 2}"
      ]
     },
     "execution_count": 99,
     "metadata": {},
     "output_type": "execute_result"
    }
   ],
   "source": [
    "parameters={'n_estimators': [1, 2, 4, 8, 16, 32, 64, 100, 200]}\n",
    "gbc=GradientBoostingClassifier()\n",
    "bgbc=GridSearchCV(gbc,parameters)\n",
    "bgbc.fit(x,y)\n",
    "bgbc.best_params_"
   ]
  },
  {
   "cell_type": "code",
   "execution_count": 100,
   "metadata": {},
   "outputs": [
    {
     "name": "stdout",
     "output_type": "stream",
     "text": [
      "Accuracy of  ExtraTreesClassifier(bootstrap=False, ccp_alpha=0.0, class_weight=None,\n",
      "                     criterion='gini', max_depth=None, max_features='auto',\n",
      "                     max_leaf_nodes=None, max_samples=None,\n",
      "                     min_impurity_decrease=0.0, min_impurity_split=None,\n",
      "                     min_samples_leaf=1, min_samples_split=2,\n",
      "                     min_weight_fraction_leaf=0.0, n_estimators=100,\n",
      "                     n_jobs=None, oob_score=False, random_state=None, verbose=0,\n",
      "                     warm_start=False) is :\n",
      "0.9918272037361354\n",
      "[[1697    1]\n",
      " [  13    2]]\n",
      "              precision    recall  f1-score   support\n",
      "\n",
      "           0       0.99      1.00      1.00      1698\n",
      "           1       0.67      0.13      0.22        15\n",
      "\n",
      "    accuracy                           0.99      1713\n",
      "   macro avg       0.83      0.57      0.61      1713\n",
      "weighted avg       0.99      0.99      0.99      1713\n",
      "\n",
      "_________________________________________________________________________________________\n",
      "\n",
      "\n"
     ]
    }
   ],
   "source": [
    "g1=GradientBoostingClassifier(learning_rate= 0.01,n_estimators= 2)\n",
    "g1.fit(x_train,y_train)\n",
    "g1.score(x_train,y_train)\n",
    "predg1=m.predict(x_test)\n",
    "print(\"Accuracy of \",m,\"is :\")\n",
    "print(accuracy_score(y_test,predg1))\n",
    "print(confusion_matrix(y_test,predg1))\n",
    "print(classification_report(y_test,predg1))\n",
    "print(\"_________________________________________________________________________________________\")\n",
    "print('\\n')"
   ]
  },
  {
   "cell_type": "code",
   "execution_count": 101,
   "metadata": {},
   "outputs": [
    {
     "data": {
      "image/png": "[encoded data removed]",
      "text/plain": [
       "<Figure size 432x288 with 1 Axes>"
      ]
     },
     "metadata": {
      "needs_background": "light"
     },
     "output_type": "display_data"
    },
    {
     "data": {
      "text/plain": [
       "0.5663722025912838"
      ]
     },
     "execution_count": 101,
     "metadata": {},
     "output_type": "execute_result"
    }
   ],
   "source": [
    "ypredprob=g1.predict_proba(x_test)[:,1]\n",
    "ypredprob\n",
    "fpr,tpr,thresholds=roc_curve(y_test,ypredprob)\n",
    "plt.plot([0,1],[0,1],\"k--\")\n",
    "plt.plot(fpr,tpr,label=\"svc\")\n",
    "plt.xlabel(\"Falsepositiverate\")\n",
    "plt.ylabel(\"Truepositiverate\")\n",
    "plt.title(\"svc\")\n",
    "plt.show()\n",
    "auc_score=roc_auc_score(y_test,m.predict(x_test))\n",
    "auc_score"
   ]
  },
  {
   "cell_type": "code",
   "execution_count": 103,
   "metadata": {},
   "outputs": [
    {
     "data": {
      "text/plain": [
       "['space_best_model.obj']"
      ]
     },
     "execution_count": 103,
     "metadata": {},
     "output_type": "execute_result"
    }
   ],
   "source": [
    "#Saving the model\n",
    "from sklearn.externals import joblib\n",
    "joblib.dump(g1,\"space_best_model.obj\")"
   ]
  },
  {
   "cell_type": "code",
   "execution_count": null,
   "metadata": {},
   "outputs": [],
   "source": []
  },
  {
   "cell_type": "code",
   "execution_count": null,
   "metadata": {},
   "outputs": [],
   "source": []
  }
 ],
 "metadata": {
  "kernelspec": {
   "display_name": "Python 3",
   "language": "python",
   "name": "python3"
  },
  "language_info": {
   "codemirror_mode": {
    "name": "ipython",
    "version": 3
   },
   "file_extension": ".py",
   "mimetype": "text/x-python",
   "name": "python",
   "nbconvert_exporter": "python",
   "pygments_lexer": "ipython3",
   "version": "3.7.6"
  }
 },
 "nbformat": 4,
 "nbformat_minor": 4
}
