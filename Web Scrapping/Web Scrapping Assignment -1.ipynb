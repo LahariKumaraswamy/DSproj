{
 "cells": [
  {
   "cell_type": "markdown",
   "metadata": {},
   "source": [
    "# Assignment 1"
   ]
  },
  {
   "cell_type": "markdown",
   "metadata": {},
   "source": [
    "# 1.Headers of wikepedia"
   ]
  },
  {
   "cell_type": "code",
   "execution_count": 1,
   "metadata": {},
   "outputs": [
    {
     "name": "stdout",
     "output_type": "stream",
     "text": [
      "h1 Main Page\n",
      "h2 From today's featured article\n",
      "h2 Did you know ...\n",
      "h2 In the news\n",
      "h2 On this day\n",
      "h2 From today's featured list\n",
      "h2 Today's featured picture\n",
      "h2 Other areas of Wikipedia\n",
      "h2 Wikipedia's sister projects\n",
      "h2 Wikipedia languages\n",
      "h2 Navigation menu\n",
      "h3 Personal tools\n",
      "h3 Namespaces\n",
      "h3 Variants\n",
      "h3 Views\n",
      "h3 More\n",
      "h3 Search\n",
      "h3 Navigation\n",
      "h3 Contribute\n",
      "h3 Tools\n",
      "h3 Print/export\n",
      "h3 In other projects\n",
      "h3 Languages\n"
     ]
    }
   ],
   "source": [
    "#Importing the necessary libraries\n",
    "from bs4 import BeautifulSoup\n",
    "import requests\n",
    "\n",
    "# Headers of wikipedia\n",
    "\n",
    "url = requests.get('https://en.wikipedia.org/wiki/Main_Page')\n",
    "soup = BeautifulSoup(url.text, 'html.parser')\n",
    "for heading in soup.find_all([\"h1\", \"h2\", \"h3\"]):\n",
    "    print(heading.name + ' ' + heading.text.strip())"
   ]
  },
  {
   "cell_type": "markdown",
   "metadata": {},
   "source": [
    "# 2.IMDB TOP 100 MOVIES"
   ]
  },
  {
   "cell_type": "code",
   "execution_count": 2,
   "metadata": {},
   "outputs": [],
   "source": [
    "#Sending access request to the web page\n",
    "page2=requests.get(\"https://www.imdb.com/search/title/?count=100&groups=top_1000&sort=user_rating\")"
   ]
  },
  {
   "cell_type": "code",
   "execution_count": 3,
   "metadata": {},
   "outputs": [],
   "source": [
    "#Instantiating\n",
    "soup2=BeautifulSoup(page2.content,'html.parser')"
   ]
  },
  {
   "cell_type": "code",
   "execution_count": 4,
   "metadata": {},
   "outputs": [],
   "source": [
    "title=soup2.findAll('div',class_=\"lister-item mode-advanced\")\n",
    "first=title[0]"
   ]
  },
  {
   "cell_type": "code",
   "execution_count": 5,
   "metadata": {},
   "outputs": [
    {
     "data": {
      "text/plain": [
       "<div class=\"lister-item mode-advanced\">\n",
       "<div class=\"lister-top-right\">\n",
       "<div class=\"ribbonize\" data-caller=\"filmosearch\" data-tconst=\"tt0111161\"></div>\n",
       "</div>\n",
       "<div class=\"lister-item-image float-left\">\n",
       "<a href=\"/title/tt0111161/\"> <img alt=\"The Shawshank Redemption\" class=\"loadlate\" data-tconst=\"tt0111161\" height=\"98\" loadlate=\"https://m.media-amazon.com/images/M/MV5BMDFkYTc0MGEtZmNhMC00ZDIzLWFmNTEtODM1ZmRlYWMwMWFmXkEyXkFqcGdeQXVyMTMxODk2OTU@._V1_UX67_CR0,0,67,98_AL_.jpg\" src=\"https://m.media-amazon.com/images/S/sash/4FyxwxECzL-U1J8.png\" width=\"67\"/>\n",
       "</a> </div>\n",
       "<div class=\"lister-item-content\">\n",
       "<h3 class=\"lister-item-header\">\n",
       "<span class=\"lister-item-index unbold text-primary\">1.</span>\n",
       "<a href=\"/title/tt0111161/\">The Shawshank Redemption</a>\n",
       "<span class=\"lister-item-year text-muted unbold\">(1994)</span>\n",
       "</h3>\n",
       "<p class=\"text-muted\">\n",
       "<span class=\"certificate\">A</span>\n",
       "<span class=\"ghost\">|</span>\n",
       "<span class=\"runtime\">142 min</span>\n",
       "<span class=\"ghost\">|</span>\n",
       "<span class=\"genre\">\n",
       "Drama            </span>\n",
       "</p>\n",
       "<div class=\"ratings-bar\">\n",
       "<div class=\"inline-block ratings-imdb-rating\" data-value=\"9.3\" name=\"ir\">\n",
       "<span class=\"global-sprite rating-star imdb-rating\"></span>\n",
       "<strong>9.3</strong>\n",
       "</div>\n",
       "<div class=\"inline-block ratings-user-rating\">\n",
       "<span class=\"userRatingValue\" data-tconst=\"tt0111161\" id=\"urv_tt0111161\">\n",
       "<span class=\"global-sprite rating-star no-rating\"></span>\n",
       "<span class=\"rate\" data-no-rating=\"Rate this\" data-value=\"0\" name=\"ur\">Rate this</span>\n",
       "</span>\n",
       "<div class=\"starBarWidget\" id=\"sb_tt0111161\">\n",
       "<div class=\"rating rating-list\" data-auth=\"\" data-ga-identifier=\"\" data-starbar-class=\"rating-list\" data-user=\"\" id=\"tt0111161|imdb|9.3|9.3|adv_li_tt||advsearch|title\" itemprop=\"aggregateRating\" itemscope=\"\" itemtype=\"http://schema.org/AggregateRating\" title=\"Users rated this 9.3/10 (2,336,077 votes) - click stars to rate\">\n",
       "<meta content=\"9.3\" itemprop=\"ratingValue\"/>\n",
       "<meta content=\"10\" itemprop=\"bestRating\"/>\n",
       "<meta content=\"2336077\" itemprop=\"ratingCount\"/>\n",
       "<span class=\"rating-bg\"> </span>\n",
       "<span class=\"rating-imdb\" style=\"width: 130.2px\"> </span>\n",
       "<span class=\"rating-stars\">\n",
       "<a href=\"/register/login?why=vote\" rel=\"nofollow\" title=\"Register or login to rate this title\"><span>1</span></a>\n",
       "<a href=\"/register/login?why=vote\" rel=\"nofollow\" title=\"Register or login to rate this title\"><span>2</span></a>\n",
       "<a href=\"/register/login?why=vote\" rel=\"nofollow\" title=\"Register or login to rate this title\"><span>3</span></a>\n",
       "<a href=\"/register/login?why=vote\" rel=\"nofollow\" title=\"Register or login to rate this title\"><span>4</span></a>\n",
       "<a href=\"/register/login?why=vote\" rel=\"nofollow\" title=\"Register or login to rate this title\"><span>5</span></a>\n",
       "<a href=\"/register/login?why=vote\" rel=\"nofollow\" title=\"Register or login to rate this title\"><span>6</span></a>\n",
       "<a href=\"/register/login?why=vote\" rel=\"nofollow\" title=\"Register or login to rate this title\"><span>7</span></a>\n",
       "<a href=\"/register/login?why=vote\" rel=\"nofollow\" title=\"Register or login to rate this title\"><span>8</span></a>\n",
       "<a href=\"/register/login?why=vote\" rel=\"nofollow\" title=\"Register or login to rate this title\"><span>9</span></a>\n",
       "<a href=\"/register/login?why=vote\" rel=\"nofollow\" title=\"Register or login to rate this title\"><span>10</span></a>\n",
       "</span>\n",
       "<span class=\"rating-rating\"><span class=\"value\">9.3</span><span class=\"grey\">/</span><span class=\"grey\">10</span></span>\n",
       "<span class=\"rating-cancel\"><a href=\"/title/tt0111161/vote?v=X;k=\" rel=\"nofollow\" title=\"Delete\"><span>X</span></a></span>\n",
       " </div>\n",
       "</div>\n",
       "</div>\n",
       "<div class=\"inline-block ratings-metascore\">\n",
       "<span class=\"metascore favorable\">80        </span>\n",
       "        Metascore\n",
       "            </div>\n",
       "</div>\n",
       "<p class=\"text-muted\">\n",
       "    Two imprisoned men bond over a number of years, finding solace and eventual redemption through acts of common decency.</p>\n",
       "<p class=\"\">\n",
       "    Director:\n",
       "<a href=\"/name/nm0001104/\">Frank Darabont</a>\n",
       "<span class=\"ghost\">|</span> \n",
       "    Stars:\n",
       "<a href=\"/name/nm0000209/\">Tim Robbins</a>, \n",
       "<a href=\"/name/nm0000151/\">Morgan Freeman</a>, \n",
       "<a href=\"/name/nm0348409/\">Bob Gunton</a>, \n",
       "<a href=\"/name/nm0006669/\">William Sadler</a>\n",
       "</p>\n",
       "<p class=\"sort-num_votes-visible\">\n",
       "<span class=\"text-muted\">Votes:</span>\n",
       "<span data-value=\"2336077\" name=\"nv\">2,336,077</span>\n",
       "<span class=\"ghost\">|</span> <span class=\"text-muted\">Gross:</span>\n",
       "<span data-value=\"28,341,469\" name=\"nv\">$28.34M</span>\n",
       "</p>\n",
       "</div>\n",
       "</div>"
      ]
     },
     "execution_count": 5,
     "metadata": {},
     "output_type": "execute_result"
    }
   ],
   "source": [
    "first"
   ]
  },
  {
   "cell_type": "code",
   "execution_count": 6,
   "metadata": {},
   "outputs": [
    {
     "data": {
      "text/plain": [
       "'1.'"
      ]
     },
     "execution_count": 6,
     "metadata": {},
     "output_type": "execute_result"
    }
   ],
   "source": [
    "#Position of the book\n",
    "first.find('span',class_=\"lister-item-index unbold text-primary\").text"
   ]
  },
  {
   "cell_type": "code",
   "execution_count": 7,
   "metadata": {},
   "outputs": [
    {
     "data": {
      "text/plain": [
       "'The Shawshank Redemption'"
      ]
     },
     "execution_count": 7,
     "metadata": {},
     "output_type": "execute_result"
    }
   ],
   "source": [
    "#Name of the movie\n",
    "first.h3.a.text"
   ]
  },
  {
   "cell_type": "code",
   "execution_count": 8,
   "metadata": {},
   "outputs": [
    {
     "data": {
      "text/plain": [
       "'(1994)'"
      ]
     },
     "execution_count": 8,
     "metadata": {},
     "output_type": "execute_result"
    }
   ],
   "source": [
    "#Year the movie was released\n",
    "first.find('span',class_=\"lister-item-year text-muted unbold\").text"
   ]
  },
  {
   "cell_type": "code",
   "execution_count": 9,
   "metadata": {},
   "outputs": [
    {
     "data": {
      "text/plain": [
       "'9.3'"
      ]
     },
     "execution_count": 9,
     "metadata": {},
     "output_type": "execute_result"
    }
   ],
   "source": [
    "#Imdb rating\n",
    "first.find('div',class_=\"inline-block ratings-imdb-rating\")['data-value']"
   ]
  },
  {
   "cell_type": "code",
   "execution_count": 10,
   "metadata": {},
   "outputs": [],
   "source": [
    "#Lets create empty list and append all the data gained\n",
    "POS=[]\n",
    "Movie_Title=[]\n",
    "Year_Of_Release=[]\n",
    "IMDB_Rating=[]\n",
    "for i in title:\n",
    "    POS.append(i.find('span',class_=\"lister-item-index unbold text-primary\").text)\n",
    "    Movie_Title.append(i.h3.a.text)\n",
    "    Year_Of_Release.append(i.find('span',class_=\"lister-item-year text-muted unbold\").text)\n",
    "    IMDB_Rating.append(i.find('div',class_=\"inline-block ratings-imdb-rating\")['data-value'])\n",
    "    \n"
   ]
  },
  {
   "cell_type": "code",
   "execution_count": 11,
   "metadata": {},
   "outputs": [],
   "source": [
    "#Creating the list of the lists\n",
    "data=list(zip(POS,Movie_Title,Year_Of_Release,IMDB_Rating))"
   ]
  },
  {
   "cell_type": "code",
   "execution_count": 12,
   "metadata": {},
   "outputs": [],
   "source": [
    "#Import pandas\n",
    "import pandas as pd\n",
    "import numpy as np\n",
    "df=pd.DataFrame(data,columns=[\"POS\",\"Name Of the Movie\",\"Year of Release \",\"IMDB Rating\"])\n"
   ]
  },
  {
   "cell_type": "code",
   "execution_count": 13,
   "metadata": {},
   "outputs": [
    {
     "data": {
      "text/html": [
       "<div>\n",
       "<style scoped>\n",
       "    .dataframe tbody tr th:only-of-type {\n",
       "        vertical-align: middle;\n",
       "    }\n",
       "\n",
       "    .dataframe tbody tr th {\n",
       "        vertical-align: top;\n",
       "    }\n",
       "\n",
       "    .dataframe thead th {\n",
       "        text-align: right;\n",
       "    }\n",
       "</style>\n",
       "<table border=\"1\" class=\"dataframe\">\n",
       "  <thead>\n",
       "    <tr style=\"text-align: right;\">\n",
       "      <th></th>\n",
       "      <th>Name Of the Movie</th>\n",
       "      <th>Year of Release</th>\n",
       "      <th>IMDB Rating</th>\n",
       "    </tr>\n",
       "    <tr>\n",
       "      <th>POS</th>\n",
       "      <th></th>\n",
       "      <th></th>\n",
       "      <th></th>\n",
       "    </tr>\n",
       "  </thead>\n",
       "  <tbody>\n",
       "    <tr>\n",
       "      <th>1.</th>\n",
       "      <td>The Shawshank Redemption</td>\n",
       "      <td>(1994)</td>\n",
       "      <td>9.3</td>\n",
       "    </tr>\n",
       "    <tr>\n",
       "      <th>2.</th>\n",
       "      <td>The Godfather</td>\n",
       "      <td>(1972)</td>\n",
       "      <td>9.2</td>\n",
       "    </tr>\n",
       "    <tr>\n",
       "      <th>3.</th>\n",
       "      <td>The Dark Knight</td>\n",
       "      <td>(2008)</td>\n",
       "      <td>9</td>\n",
       "    </tr>\n",
       "    <tr>\n",
       "      <th>4.</th>\n",
       "      <td>The Godfather: Part II</td>\n",
       "      <td>(1974)</td>\n",
       "      <td>9</td>\n",
       "    </tr>\n",
       "    <tr>\n",
       "      <th>5.</th>\n",
       "      <td>12 Angry Men</td>\n",
       "      <td>(1957)</td>\n",
       "      <td>9</td>\n",
       "    </tr>\n",
       "    <tr>\n",
       "      <th>...</th>\n",
       "      <td>...</td>\n",
       "      <td>...</td>\n",
       "      <td>...</td>\n",
       "    </tr>\n",
       "    <tr>\n",
       "      <th>96.</th>\n",
       "      <td>Amélie</td>\n",
       "      <td>(2001)</td>\n",
       "      <td>8.3</td>\n",
       "    </tr>\n",
       "    <tr>\n",
       "      <th>97.</th>\n",
       "      <td>Snatch</td>\n",
       "      <td>(2000)</td>\n",
       "      <td>8.3</td>\n",
       "    </tr>\n",
       "    <tr>\n",
       "      <th>98.</th>\n",
       "      <td>Requiem for a Dream</td>\n",
       "      <td>(2000)</td>\n",
       "      <td>8.3</td>\n",
       "    </tr>\n",
       "    <tr>\n",
       "      <th>99.</th>\n",
       "      <td>American Beauty</td>\n",
       "      <td>(1999)</td>\n",
       "      <td>8.3</td>\n",
       "    </tr>\n",
       "    <tr>\n",
       "      <th>100.</th>\n",
       "      <td>Good Will Hunting</td>\n",
       "      <td>(1997)</td>\n",
       "      <td>8.3</td>\n",
       "    </tr>\n",
       "  </tbody>\n",
       "</table>\n",
       "<p>100 rows × 3 columns</p>\n",
       "</div>"
      ],
      "text/plain": [
       "             Name Of the Movie Year of Release  IMDB Rating\n",
       "POS                                                        \n",
       "1.    The Shawshank Redemption           (1994)         9.3\n",
       "2.               The Godfather           (1972)         9.2\n",
       "3.             The Dark Knight           (2008)           9\n",
       "4.      The Godfather: Part II           (1974)           9\n",
       "5.                12 Angry Men           (1957)           9\n",
       "...                        ...              ...         ...\n",
       "96.                     Amélie           (2001)         8.3\n",
       "97.                     Snatch           (2000)         8.3\n",
       "98.        Requiem for a Dream           (2000)         8.3\n",
       "99.            American Beauty           (1999)         8.3\n",
       "100.         Good Will Hunting           (1997)         8.3\n",
       "\n",
       "[100 rows x 3 columns]"
      ]
     },
     "execution_count": 13,
     "metadata": {},
     "output_type": "execute_result"
    }
   ],
   "source": [
    "#Lets st index as the position of the book\n",
    "df.set_index(\"POS\")"
   ]
  },
  {
   "cell_type": "code",
   "execution_count": 14,
   "metadata": {},
   "outputs": [],
   "source": [
    "#Importing df to csv\n",
    "df.to_csv(\"IMDB TOP 100 Movies\")"
   ]
  },
  {
   "cell_type": "markdown",
   "metadata": {},
   "source": [
    "#  3.IMDB TOP 100  INDIAN MOVIES"
   ]
  },
  {
   "cell_type": "code",
   "execution_count": 15,
   "metadata": {},
   "outputs": [],
   "source": [
    "#Lets send request to the respective webpage\n",
    "page3=requests.get(\"https://www.imdb.com/list/ls056092300/?sort=user_rating,desc&st_dt=&mode=detail&page=1\")"
   ]
  },
  {
   "cell_type": "code",
   "execution_count": 16,
   "metadata": {},
   "outputs": [],
   "source": [
    "#Instantiating\n",
    "soup3=BeautifulSoup(page3.content,'html.parser')"
   ]
  },
  {
   "cell_type": "code",
   "execution_count": 17,
   "metadata": {},
   "outputs": [],
   "source": [
    "title=soup3.findAll('div',class_=\"lister-item mode-detail\")\n",
    "first=title[0]"
   ]
  },
  {
   "cell_type": "code",
   "execution_count": 18,
   "metadata": {},
   "outputs": [
    {
     "data": {
      "text/plain": [
       "<div class=\"lister-item mode-detail\">\n",
       "<div class=\"lister-item-image ribbonize\" data-tconst=\"tt0086231\">\n",
       "<a href=\"/title/tt0086231/\"> <img alt=\"Sagara Sangamam\" class=\"loadlate\" data-tconst=\"tt0086231\" height=\"209\" loadlate=\"https://m.media-amazon.com/images/M/MV5BNmJhYzQ0MjUtZmM4OS00ZmI4LTgxZjctNjE4Y2MyNjc3NzM2XkEyXkFqcGdeQXVyODEzOTQwNTY@._V1_UY209_CR4,0,140,209_AL_.jpg\" src=\"https://m.media-amazon.com/images/S/sash/4FyxwxECzL-U1J8.png\" width=\"140\"/>\n",
       "</a> </div>\n",
       "<div class=\"lister-item-content\">\n",
       "<h3 class=\"lister-item-header\">\n",
       "<span class=\"lister-item-index unbold text-primary\">1.</span>\n",
       "<a href=\"/title/tt0086231/\">Sagara Sangamam</a>\n",
       "<span class=\"lister-item-year text-muted unbold\">(1983)</span>\n",
       "</h3>\n",
       "<p class=\"text-muted text-small\">\n",
       "<span class=\"certificate\">U</span>\n",
       "<span class=\"ghost\">|</span>\n",
       "<span class=\"runtime\">160 min</span>\n",
       "<span class=\"ghost\">|</span>\n",
       "<span class=\"genre\">\n",
       "Musical, Romance, Drama            </span>\n",
       "</p>\n",
       "<div class=\"ipl-rating-widget\">\n",
       "<div class=\"ipl-rating-star small\">\n",
       "<span class=\"ipl-rating-star__star\">\n",
       "<svg class=\"ipl-icon ipl-star-icon\" fill=\"#000000\" height=\"24\" viewbox=\"0 0 24 24\" width=\"24\" xmlns=\"http://www.w3.org/2000/svg\">\n",
       "<path d=\"M0 0h24v24H0z\" fill=\"none\"></path>\n",
       "<path d=\"M12 17.27L18.18 21l-1.64-7.03L22 9.24l-7.19-.61L12 2 9.19 8.63 2 9.24l5.46 4.73L5.82 21z\"></path>\n",
       "<path d=\"M0 0h24v24H0z\" fill=\"none\"></path>\n",
       "</svg>\n",
       "</span>\n",
       "<span class=\"ipl-rating-star__rating\">8.8</span>\n",
       "</div>\n",
       "<div class=\"ipl-rating-interactive small ipl-rating-interactive--no-rating\">\n",
       "<input class=\"ipl-rating-interactive__state\" data-reftag=\"ur_rt\" data-tconst=\"tt0086231\" id=\"checkbox-tt0086231\" type=\"checkbox\"/>\n",
       "<label class=\"ipl-rating-interactive__star-container\" for=\"checkbox-tt0086231\">\n",
       "<div class=\"ipl-rating-star ipl-rating-interactive__star\">\n",
       "<span class=\"ipl-rating-star__star\">\n",
       "<svg class=\"ipl-icon ipl-star-icon\" fill=\"#000000\" height=\"24\" viewbox=\"0 0 24 24\" width=\"24\" xmlns=\"http://www.w3.org/2000/svg\">\n",
       "<path d=\"M0 0h24v24H0z\" fill=\"none\"></path>\n",
       "<path d=\"M12 17.27L18.18 21l-1.64-7.03L22 9.24l-7.19-.61L12 2 9.19 8.63 2 9.24l5.46 4.73L5.82 21z\"></path>\n",
       "<path d=\"M0 0h24v24H0z\" fill=\"none\"></path>\n",
       "</svg>\n",
       "</span>\n",
       "<span class=\"ipl-rating-star__rating\">0</span>\n",
       "</div>\n",
       "<div class=\"ipl-rating-star ipl-rating-interactive__star--empty\">\n",
       "<span class=\"ipl-rating-star__star\">\n",
       "<svg class=\"ipl-icon ipl-star-border-icon\" fill=\"#000000\" height=\"24\" viewbox=\"0 0 24 24\" width=\"24\" xmlns=\"http://www.w3.org/2000/svg\">\n",
       "<path d=\"M22 9.24l-7.19-.62L12 2 9.19 8.63 2 9.24l5.46 4.73L5.82 21 12 17.27 18.18 21l-1.63-7.03L22 9.24zM12 15.4l-3.76 2.27 1-4.28-3.32-2.88 4.38-.38L12 6.1l1.71 4.04 4.38.38-3.32 2.88 1 4.28L12 15.4z\"></path>\n",
       "<path d=\"M0 0h24v24H0z\" fill=\"none\"></path>\n",
       "</svg>\n",
       "</span>\n",
       "<span class=\"ipl-rating-star__rating\">Rate</span>\n",
       "</div>\n",
       "</label>\n",
       "<div class=\"ipl-rating-selector\" data-value=\"0\" id=\"ipl-rating-selector-tt0086231\">\n",
       "<div class=\"ipl-rating-selector__selector ipl-rating-selector__wrapper\">\n",
       "<div class=\"ipl-rating-selector__reset\">\n",
       "<a href=\"#void\"> <svg class=\"ipl-icon ipl-cancel-icon\" fill=\"#000000\" height=\"24\" viewbox=\"0 0 24 24\" width=\"24\" xmlns=\"http://www.w3.org/2000/svg\">\n",
       "<path d=\"M12 2C6.47 2 2 6.47 2 12s4.47 10 10 10 10-4.47 10-10S17.53 2 12 2zm5 13.59L15.59 17 12 13.41 8.41 17 7 15.59 10.59 12 7 8.41 8.41 7 12 10.59 15.59 7 17 8.41 13.41 12 17 15.59z\"></path>\n",
       "<path d=\"M0 0h24v24H0z\" fill=\"none\"></path>\n",
       "</svg>\n",
       "</a>\n",
       "</div>\n",
       "<span class=\"ipl-rating-selector__divider\"></span>\n",
       "<form action=\"/ratings/_ajax/title\" class=\"ipl-rating-selector__star-list\" method=\"post\">\n",
       "<a class=\"ipl-rating-selector__star-link\" data-value=\"1\" href=\"#void\">\n",
       "<div class=\"ipl-rating-star ipl-rating-interactive__star\">\n",
       "<span class=\"ipl-rating-star__star\">\n",
       "<svg class=\"ipl-icon ipl-star-icon\" fill=\"#000000\" height=\"24\" viewbox=\"0 0 24 24\" width=\"24\" xmlns=\"http://www.w3.org/2000/svg\">\n",
       "<path d=\"M0 0h24v24H0z\" fill=\"none\"></path>\n",
       "<path d=\"M12 17.27L18.18 21l-1.64-7.03L22 9.24l-7.19-.61L12 2 9.19 8.63 2 9.24l5.46 4.73L5.82 21z\"></path>\n",
       "<path d=\"M0 0h24v24H0z\" fill=\"none\"></path>\n",
       "</svg>\n",
       "</span>\n",
       "<span class=\"ipl-rating-star__rating\">1</span>\n",
       "</div>\n",
       "<div class=\"ipl-rating-star ipl-rating-interactive__star--empty\">\n",
       "<span class=\"ipl-rating-star__star\">\n",
       "<svg class=\"ipl-icon ipl-star-border-icon\" fill=\"#000000\" height=\"24\" viewbox=\"0 0 24 24\" width=\"24\" xmlns=\"http://www.w3.org/2000/svg\">\n",
       "<path d=\"M22 9.24l-7.19-.62L12 2 9.19 8.63 2 9.24l5.46 4.73L5.82 21 12 17.27 18.18 21l-1.63-7.03L22 9.24zM12 15.4l-3.76 2.27 1-4.28-3.32-2.88 4.38-.38L12 6.1l1.71 4.04 4.38.38-3.32 2.88 1 4.28L12 15.4z\"></path>\n",
       "<path d=\"M0 0h24v24H0z\" fill=\"none\"></path>\n",
       "</svg>\n",
       "</span>\n",
       "<span class=\"ipl-rating-star__rating\">Rate</span>\n",
       "</div>\n",
       "</a>\n",
       "<a class=\"ipl-rating-selector__star-link\" data-value=\"2\" href=\"#void\">\n",
       "<div class=\"ipl-rating-star ipl-rating-interactive__star\">\n",
       "<span class=\"ipl-rating-star__star\">\n",
       "<svg class=\"ipl-icon ipl-star-icon\" fill=\"#000000\" height=\"24\" viewbox=\"0 0 24 24\" width=\"24\" xmlns=\"http://www.w3.org/2000/svg\">\n",
       "<path d=\"M0 0h24v24H0z\" fill=\"none\"></path>\n",
       "<path d=\"M12 17.27L18.18 21l-1.64-7.03L22 9.24l-7.19-.61L12 2 9.19 8.63 2 9.24l5.46 4.73L5.82 21z\"></path>\n",
       "<path d=\"M0 0h24v24H0z\" fill=\"none\"></path>\n",
       "</svg>\n",
       "</span>\n",
       "<span class=\"ipl-rating-star__rating\">2</span>\n",
       "</div>\n",
       "<div class=\"ipl-rating-star ipl-rating-interactive__star--empty\">\n",
       "<span class=\"ipl-rating-star__star\">\n",
       "<svg class=\"ipl-icon ipl-star-border-icon\" fill=\"#000000\" height=\"24\" viewbox=\"0 0 24 24\" width=\"24\" xmlns=\"http://www.w3.org/2000/svg\">\n",
       "<path d=\"M22 9.24l-7.19-.62L12 2 9.19 8.63 2 9.24l5.46 4.73L5.82 21 12 17.27 18.18 21l-1.63-7.03L22 9.24zM12 15.4l-3.76 2.27 1-4.28-3.32-2.88 4.38-.38L12 6.1l1.71 4.04 4.38.38-3.32 2.88 1 4.28L12 15.4z\"></path>\n",
       "<path d=\"M0 0h24v24H0z\" fill=\"none\"></path>\n",
       "</svg>\n",
       "</span>\n",
       "<span class=\"ipl-rating-star__rating\">Rate</span>\n",
       "</div>\n",
       "</a>\n",
       "<a class=\"ipl-rating-selector__star-link\" data-value=\"3\" href=\"#void\">\n",
       "<div class=\"ipl-rating-star ipl-rating-interactive__star\">\n",
       "<span class=\"ipl-rating-star__star\">\n",
       "<svg class=\"ipl-icon ipl-star-icon\" fill=\"#000000\" height=\"24\" viewbox=\"0 0 24 24\" width=\"24\" xmlns=\"http://www.w3.org/2000/svg\">\n",
       "<path d=\"M0 0h24v24H0z\" fill=\"none\"></path>\n",
       "<path d=\"M12 17.27L18.18 21l-1.64-7.03L22 9.24l-7.19-.61L12 2 9.19 8.63 2 9.24l5.46 4.73L5.82 21z\"></path>\n",
       "<path d=\"M0 0h24v24H0z\" fill=\"none\"></path>\n",
       "</svg>\n",
       "</span>\n",
       "<span class=\"ipl-rating-star__rating\">3</span>\n",
       "</div>\n",
       "<div class=\"ipl-rating-star ipl-rating-interactive__star--empty\">\n",
       "<span class=\"ipl-rating-star__star\">\n",
       "<svg class=\"ipl-icon ipl-star-border-icon\" fill=\"#000000\" height=\"24\" viewbox=\"0 0 24 24\" width=\"24\" xmlns=\"http://www.w3.org/2000/svg\">\n",
       "<path d=\"M22 9.24l-7.19-.62L12 2 9.19 8.63 2 9.24l5.46 4.73L5.82 21 12 17.27 18.18 21l-1.63-7.03L22 9.24zM12 15.4l-3.76 2.27 1-4.28-3.32-2.88 4.38-.38L12 6.1l1.71 4.04 4.38.38-3.32 2.88 1 4.28L12 15.4z\"></path>\n",
       "<path d=\"M0 0h24v24H0z\" fill=\"none\"></path>\n",
       "</svg>\n",
       "</span>\n",
       "<span class=\"ipl-rating-star__rating\">Rate</span>\n",
       "</div>\n",
       "</a>\n",
       "<a class=\"ipl-rating-selector__star-link\" data-value=\"4\" href=\"#void\">\n",
       "<div class=\"ipl-rating-star ipl-rating-interactive__star\">\n",
       "<span class=\"ipl-rating-star__star\">\n",
       "<svg class=\"ipl-icon ipl-star-icon\" fill=\"#000000\" height=\"24\" viewbox=\"0 0 24 24\" width=\"24\" xmlns=\"http://www.w3.org/2000/svg\">\n",
       "<path d=\"M0 0h24v24H0z\" fill=\"none\"></path>\n",
       "<path d=\"M12 17.27L18.18 21l-1.64-7.03L22 9.24l-7.19-.61L12 2 9.19 8.63 2 9.24l5.46 4.73L5.82 21z\"></path>\n",
       "<path d=\"M0 0h24v24H0z\" fill=\"none\"></path>\n",
       "</svg>\n",
       "</span>\n",
       "<span class=\"ipl-rating-star__rating\">4</span>\n",
       "</div>\n",
       "<div class=\"ipl-rating-star ipl-rating-interactive__star--empty\">\n",
       "<span class=\"ipl-rating-star__star\">\n",
       "<svg class=\"ipl-icon ipl-star-border-icon\" fill=\"#000000\" height=\"24\" viewbox=\"0 0 24 24\" width=\"24\" xmlns=\"http://www.w3.org/2000/svg\">\n",
       "<path d=\"M22 9.24l-7.19-.62L12 2 9.19 8.63 2 9.24l5.46 4.73L5.82 21 12 17.27 18.18 21l-1.63-7.03L22 9.24zM12 15.4l-3.76 2.27 1-4.28-3.32-2.88 4.38-.38L12 6.1l1.71 4.04 4.38.38-3.32 2.88 1 4.28L12 15.4z\"></path>\n",
       "<path d=\"M0 0h24v24H0z\" fill=\"none\"></path>\n",
       "</svg>\n",
       "</span>\n",
       "<span class=\"ipl-rating-star__rating\">Rate</span>\n",
       "</div>\n",
       "</a>\n",
       "<a class=\"ipl-rating-selector__star-link\" data-value=\"5\" href=\"#void\">\n",
       "<div class=\"ipl-rating-star ipl-rating-interactive__star\">\n",
       "<span class=\"ipl-rating-star__star\">\n",
       "<svg class=\"ipl-icon ipl-star-icon\" fill=\"#000000\" height=\"24\" viewbox=\"0 0 24 24\" width=\"24\" xmlns=\"http://www.w3.org/2000/svg\">\n",
       "<path d=\"M0 0h24v24H0z\" fill=\"none\"></path>\n",
       "<path d=\"M12 17.27L18.18 21l-1.64-7.03L22 9.24l-7.19-.61L12 2 9.19 8.63 2 9.24l5.46 4.73L5.82 21z\"></path>\n",
       "<path d=\"M0 0h24v24H0z\" fill=\"none\"></path>\n",
       "</svg>\n",
       "</span>\n",
       "<span class=\"ipl-rating-star__rating\">5</span>\n",
       "</div>\n",
       "<div class=\"ipl-rating-star ipl-rating-interactive__star--empty\">\n",
       "<span class=\"ipl-rating-star__star\">\n",
       "<svg class=\"ipl-icon ipl-star-border-icon\" fill=\"#000000\" height=\"24\" viewbox=\"0 0 24 24\" width=\"24\" xmlns=\"http://www.w3.org/2000/svg\">\n",
       "<path d=\"M22 9.24l-7.19-.62L12 2 9.19 8.63 2 9.24l5.46 4.73L5.82 21 12 17.27 18.18 21l-1.63-7.03L22 9.24zM12 15.4l-3.76 2.27 1-4.28-3.32-2.88 4.38-.38L12 6.1l1.71 4.04 4.38.38-3.32 2.88 1 4.28L12 15.4z\"></path>\n",
       "<path d=\"M0 0h24v24H0z\" fill=\"none\"></path>\n",
       "</svg>\n",
       "</span>\n",
       "<span class=\"ipl-rating-star__rating\">Rate</span>\n",
       "</div>\n",
       "</a>\n",
       "<a class=\"ipl-rating-selector__star-link\" data-value=\"6\" href=\"#void\">\n",
       "<div class=\"ipl-rating-star ipl-rating-interactive__star\">\n",
       "<span class=\"ipl-rating-star__star\">\n",
       "<svg class=\"ipl-icon ipl-star-icon\" fill=\"#000000\" height=\"24\" viewbox=\"0 0 24 24\" width=\"24\" xmlns=\"http://www.w3.org/2000/svg\">\n",
       "<path d=\"M0 0h24v24H0z\" fill=\"none\"></path>\n",
       "<path d=\"M12 17.27L18.18 21l-1.64-7.03L22 9.24l-7.19-.61L12 2 9.19 8.63 2 9.24l5.46 4.73L5.82 21z\"></path>\n",
       "<path d=\"M0 0h24v24H0z\" fill=\"none\"></path>\n",
       "</svg>\n",
       "</span>\n",
       "<span class=\"ipl-rating-star__rating\">6</span>\n",
       "</div>\n",
       "<div class=\"ipl-rating-star ipl-rating-interactive__star--empty\">\n",
       "<span class=\"ipl-rating-star__star\">\n",
       "<svg class=\"ipl-icon ipl-star-border-icon\" fill=\"#000000\" height=\"24\" viewbox=\"0 0 24 24\" width=\"24\" xmlns=\"http://www.w3.org/2000/svg\">\n",
       "<path d=\"M22 9.24l-7.19-.62L12 2 9.19 8.63 2 9.24l5.46 4.73L5.82 21 12 17.27 18.18 21l-1.63-7.03L22 9.24zM12 15.4l-3.76 2.27 1-4.28-3.32-2.88 4.38-.38L12 6.1l1.71 4.04 4.38.38-3.32 2.88 1 4.28L12 15.4z\"></path>\n",
       "<path d=\"M0 0h24v24H0z\" fill=\"none\"></path>\n",
       "</svg>\n",
       "</span>\n",
       "<span class=\"ipl-rating-star__rating\">Rate</span>\n",
       "</div>\n",
       "</a>\n",
       "<a class=\"ipl-rating-selector__star-link\" data-value=\"7\" href=\"#void\">\n",
       "<div class=\"ipl-rating-star ipl-rating-interactive__star\">\n",
       "<span class=\"ipl-rating-star__star\">\n",
       "<svg class=\"ipl-icon ipl-star-icon\" fill=\"#000000\" height=\"24\" viewbox=\"0 0 24 24\" width=\"24\" xmlns=\"http://www.w3.org/2000/svg\">\n",
       "<path d=\"M0 0h24v24H0z\" fill=\"none\"></path>\n",
       "<path d=\"M12 17.27L18.18 21l-1.64-7.03L22 9.24l-7.19-.61L12 2 9.19 8.63 2 9.24l5.46 4.73L5.82 21z\"></path>\n",
       "<path d=\"M0 0h24v24H0z\" fill=\"none\"></path>\n",
       "</svg>\n",
       "</span>\n",
       "<span class=\"ipl-rating-star__rating\">7</span>\n",
       "</div>\n",
       "<div class=\"ipl-rating-star ipl-rating-interactive__star--empty\">\n",
       "<span class=\"ipl-rating-star__star\">\n",
       "<svg class=\"ipl-icon ipl-star-border-icon\" fill=\"#000000\" height=\"24\" viewbox=\"0 0 24 24\" width=\"24\" xmlns=\"http://www.w3.org/2000/svg\">\n",
       "<path d=\"M22 9.24l-7.19-.62L12 2 9.19 8.63 2 9.24l5.46 4.73L5.82 21 12 17.27 18.18 21l-1.63-7.03L22 9.24zM12 15.4l-3.76 2.27 1-4.28-3.32-2.88 4.38-.38L12 6.1l1.71 4.04 4.38.38-3.32 2.88 1 4.28L12 15.4z\"></path>\n",
       "<path d=\"M0 0h24v24H0z\" fill=\"none\"></path>\n",
       "</svg>\n",
       "</span>\n",
       "<span class=\"ipl-rating-star__rating\">Rate</span>\n",
       "</div>\n",
       "</a>\n",
       "<a class=\"ipl-rating-selector__star-link\" data-value=\"8\" href=\"#void\">\n",
       "<div class=\"ipl-rating-star ipl-rating-interactive__star\">\n",
       "<span class=\"ipl-rating-star__star\">\n",
       "<svg class=\"ipl-icon ipl-star-icon\" fill=\"#000000\" height=\"24\" viewbox=\"0 0 24 24\" width=\"24\" xmlns=\"http://www.w3.org/2000/svg\">\n",
       "<path d=\"M0 0h24v24H0z\" fill=\"none\"></path>\n",
       "<path d=\"M12 17.27L18.18 21l-1.64-7.03L22 9.24l-7.19-.61L12 2 9.19 8.63 2 9.24l5.46 4.73L5.82 21z\"></path>\n",
       "<path d=\"M0 0h24v24H0z\" fill=\"none\"></path>\n",
       "</svg>\n",
       "</span>\n",
       "<span class=\"ipl-rating-star__rating\">8</span>\n",
       "</div>\n",
       "<div class=\"ipl-rating-star ipl-rating-interactive__star--empty\">\n",
       "<span class=\"ipl-rating-star__star\">\n",
       "<svg class=\"ipl-icon ipl-star-border-icon\" fill=\"#000000\" height=\"24\" viewbox=\"0 0 24 24\" width=\"24\" xmlns=\"http://www.w3.org/2000/svg\">\n",
       "<path d=\"M22 9.24l-7.19-.62L12 2 9.19 8.63 2 9.24l5.46 4.73L5.82 21 12 17.27 18.18 21l-1.63-7.03L22 9.24zM12 15.4l-3.76 2.27 1-4.28-3.32-2.88 4.38-.38L12 6.1l1.71 4.04 4.38.38-3.32 2.88 1 4.28L12 15.4z\"></path>\n",
       "<path d=\"M0 0h24v24H0z\" fill=\"none\"></path>\n",
       "</svg>\n",
       "</span>\n",
       "<span class=\"ipl-rating-star__rating\">Rate</span>\n",
       "</div>\n",
       "</a>\n",
       "<a class=\"ipl-rating-selector__star-link\" data-value=\"9\" href=\"#void\">\n",
       "<div class=\"ipl-rating-star ipl-rating-interactive__star\">\n",
       "<span class=\"ipl-rating-star__star\">\n",
       "<svg class=\"ipl-icon ipl-star-icon\" fill=\"#000000\" height=\"24\" viewbox=\"0 0 24 24\" width=\"24\" xmlns=\"http://www.w3.org/2000/svg\">\n",
       "<path d=\"M0 0h24v24H0z\" fill=\"none\"></path>\n",
       "<path d=\"M12 17.27L18.18 21l-1.64-7.03L22 9.24l-7.19-.61L12 2 9.19 8.63 2 9.24l5.46 4.73L5.82 21z\"></path>\n",
       "<path d=\"M0 0h24v24H0z\" fill=\"none\"></path>\n",
       "</svg>\n",
       "</span>\n",
       "<span class=\"ipl-rating-star__rating\">9</span>\n",
       "</div>\n",
       "<div class=\"ipl-rating-star ipl-rating-interactive__star--empty\">\n",
       "<span class=\"ipl-rating-star__star\">\n",
       "<svg class=\"ipl-icon ipl-star-border-icon\" fill=\"#000000\" height=\"24\" viewbox=\"0 0 24 24\" width=\"24\" xmlns=\"http://www.w3.org/2000/svg\">\n",
       "<path d=\"M22 9.24l-7.19-.62L12 2 9.19 8.63 2 9.24l5.46 4.73L5.82 21 12 17.27 18.18 21l-1.63-7.03L22 9.24zM12 15.4l-3.76 2.27 1-4.28-3.32-2.88 4.38-.38L12 6.1l1.71 4.04 4.38.38-3.32 2.88 1 4.28L12 15.4z\"></path>\n",
       "<path d=\"M0 0h24v24H0z\" fill=\"none\"></path>\n",
       "</svg>\n",
       "</span>\n",
       "<span class=\"ipl-rating-star__rating\">Rate</span>\n",
       "</div>\n",
       "</a>\n",
       "<a class=\"ipl-rating-selector__star-link\" data-value=\"10\" href=\"#void\">\n",
       "<div class=\"ipl-rating-star ipl-rating-interactive__star\">\n",
       "<span class=\"ipl-rating-star__star\">\n",
       "<svg class=\"ipl-icon ipl-star-icon\" fill=\"#000000\" height=\"24\" viewbox=\"0 0 24 24\" width=\"24\" xmlns=\"http://www.w3.org/2000/svg\">\n",
       "<path d=\"M0 0h24v24H0z\" fill=\"none\"></path>\n",
       "<path d=\"M12 17.27L18.18 21l-1.64-7.03L22 9.24l-7.19-.61L12 2 9.19 8.63 2 9.24l5.46 4.73L5.82 21z\"></path>\n",
       "<path d=\"M0 0h24v24H0z\" fill=\"none\"></path>\n",
       "</svg>\n",
       "</span>\n",
       "<span class=\"ipl-rating-star__rating\">10</span>\n",
       "</div>\n",
       "<div class=\"ipl-rating-star ipl-rating-interactive__star--empty\">\n",
       "<span class=\"ipl-rating-star__star\">\n",
       "<svg class=\"ipl-icon ipl-star-border-icon\" fill=\"#000000\" height=\"24\" viewbox=\"0 0 24 24\" width=\"24\" xmlns=\"http://www.w3.org/2000/svg\">\n",
       "<path d=\"M22 9.24l-7.19-.62L12 2 9.19 8.63 2 9.24l5.46 4.73L5.82 21 12 17.27 18.18 21l-1.63-7.03L22 9.24zM12 15.4l-3.76 2.27 1-4.28-3.32-2.88 4.38-.38L12 6.1l1.71 4.04 4.38.38-3.32 2.88 1 4.28L12 15.4z\"></path>\n",
       "<path d=\"M0 0h24v24H0z\" fill=\"none\"></path>\n",
       "</svg>\n",
       "</span>\n",
       "<span class=\"ipl-rating-star__rating\">Rate</span>\n",
       "</div>\n",
       "</a>\n",
       "<fieldset class=\"ipl-rating-selector__fieldset\">\n",
       "<input name=\"tconst\" type=\"hidden\" value=\"tt0086231\">\n",
       "<input name=\"rating\" type=\"text\" value=\"0\"/>\n",
       "<input name=\"auth\" type=\"hidden\" value=\"\"/>\n",
       "<input name=\"tracking_tag\" type=\"hidden\" value=\"ur_rt\"/>\n",
       "<input name=\"pageType\" type=\"hidden\" value=\"list\"/>\n",
       "<input name=\"subpageType\" type=\"hidden\" value=\"title\"/>\n",
       "</input></fieldset>\n",
       "<noscript>\n",
       "<input class=\"ipl-rating-selector__rating-submit\" type=\"submit\" value=\"Vote\"/>\n",
       "</noscript>\n",
       "</form>\n",
       "<span class=\"ipl-rating-selector__rating-value\">0</span>\n",
       "</div>\n",
       "<div class=\"ipl-rating-selector__error ipl-rating-selector__wrapper\">\n",
       "<span>Error: please try again.</span>\n",
       "</div>\n",
       "</div>\n",
       "<div class=\"ipl-rating-interactive__loader\">\n",
       "<img alt=\"loading\" src=\"https://m.media-amazon.com/images/G/01/IMDb/spinning-progress.gif\"/>\n",
       "</div>\n",
       "</div>\n",
       "</div>\n",
       "<p class=\"\">\n",
       "    A classical dancer, Balakrishna, (Kamal Haasan) faces many struggles, but is eventually redeemed.</p>\n",
       "<p class=\"text-muted text-small\">\n",
       "    Director:\n",
       "<a href=\"/name/nm0899649/\">K. Viswanath</a>\n",
       "<span class=\"ghost\">|</span> \n",
       "    Stars:\n",
       "<a href=\"/name/nm0352032/\">Kamal Haasan</a>, \n",
       "<a href=\"/name/nm0419685/\">Jaya Prada</a>, \n",
       "<a href=\"/name/nm0764871/\">Sarath Babu</a>, \n",
       "<a href=\"/name/nm0004465/\">Sailaja S.P.</a>\n",
       "</p>\n",
       "<p class=\"text-muted text-small\">\n",
       "<span class=\"text-muted\">Votes:</span>\n",
       "<span data-value=\"2787\" name=\"nv\">2,787</span>\n",
       "</p>\n",
       "<div class=\"wtw-option-standalone\" data-baseref=\"wl_li\" data-tconst=\"tt0086231\" data-watchtype=\"minibar\"></div>\n",
       "</div>\n",
       "<div class=\"clear\"></div>\n",
       "</div>"
      ]
     },
     "execution_count": 18,
     "metadata": {},
     "output_type": "execute_result"
    }
   ],
   "source": [
    "first"
   ]
  },
  {
   "cell_type": "code",
   "execution_count": 19,
   "metadata": {},
   "outputs": [
    {
     "data": {
      "text/plain": [
       "'1.'"
      ]
     },
     "execution_count": 19,
     "metadata": {},
     "output_type": "execute_result"
    }
   ],
   "source": [
    "#position of the book\n",
    "first.find('span',class_=\"lister-item-index unbold text-primary\").text"
   ]
  },
  {
   "cell_type": "code",
   "execution_count": 20,
   "metadata": {},
   "outputs": [
    {
     "data": {
      "text/plain": [
       "'Sagara Sangamam'"
      ]
     },
     "execution_count": 20,
     "metadata": {},
     "output_type": "execute_result"
    }
   ],
   "source": [
    "#Movies name\n",
    "first.h3.a.text"
   ]
  },
  {
   "cell_type": "code",
   "execution_count": 21,
   "metadata": {},
   "outputs": [
    {
     "data": {
      "text/plain": [
       "'(1983)'"
      ]
     },
     "execution_count": 21,
     "metadata": {},
     "output_type": "execute_result"
    }
   ],
   "source": [
    "#Year of release\n",
    "first.find('span',class_=\"lister-item-year text-muted unbold\").text"
   ]
  },
  {
   "cell_type": "code",
   "execution_count": 22,
   "metadata": {},
   "outputs": [
    {
     "data": {
      "text/plain": [
       "'8.8'"
      ]
     },
     "execution_count": 22,
     "metadata": {},
     "output_type": "execute_result"
    }
   ],
   "source": [
    "#IMDB Rating\n",
    "first.find('span',class_=\"ipl-rating-star__rating\").text"
   ]
  },
  {
   "cell_type": "code",
   "execution_count": 23,
   "metadata": {},
   "outputs": [],
   "source": [
    "#Creating empty list and appendin the data collected\n",
    "POS=[]\n",
    "Movie=[]\n",
    "Year=[]\n",
    "imdb=[]\n",
    "\n",
    "for i in title:\n",
    "    POS.append(i.find('span',class_=\"lister-item-index unbold text-primary\").text)\n",
    "    Movie.append(i.h3.a.text)\n",
    "    Year.append(i.find('span',class_=\"lister-item-year text-muted unbold\").text)\n",
    "    imdb.append(i.find('span',class_=\"ipl-rating-star__rating\").text)"
   ]
  },
  {
   "cell_type": "code",
   "execution_count": 24,
   "metadata": {},
   "outputs": [],
   "source": [
    "#list of the appended data\n",
    "data1=list(zip(POS,Movie,Year,imdb))"
   ]
  },
  {
   "cell_type": "code",
   "execution_count": 25,
   "metadata": {},
   "outputs": [],
   "source": [
    "#Importing pandas\n",
    "import pandas as pd\n",
    "df=pd.DataFrame(data1,columns=[\"POS\",\"Name Of the Movie\",\"Year of Release \",\"IMDB Rating\"])"
   ]
  },
  {
   "cell_type": "code",
   "execution_count": 26,
   "metadata": {},
   "outputs": [
    {
     "data": {
      "text/html": [
       "<div>\n",
       "<style scoped>\n",
       "    .dataframe tbody tr th:only-of-type {\n",
       "        vertical-align: middle;\n",
       "    }\n",
       "\n",
       "    .dataframe tbody tr th {\n",
       "        vertical-align: top;\n",
       "    }\n",
       "\n",
       "    .dataframe thead th {\n",
       "        text-align: right;\n",
       "    }\n",
       "</style>\n",
       "<table border=\"1\" class=\"dataframe\">\n",
       "  <thead>\n",
       "    <tr style=\"text-align: right;\">\n",
       "      <th></th>\n",
       "      <th>Name Of the Movie</th>\n",
       "      <th>Year of Release</th>\n",
       "      <th>IMDB Rating</th>\n",
       "    </tr>\n",
       "    <tr>\n",
       "      <th>POS</th>\n",
       "      <th></th>\n",
       "      <th></th>\n",
       "      <th></th>\n",
       "    </tr>\n",
       "  </thead>\n",
       "  <tbody>\n",
       "    <tr>\n",
       "      <th>1.</th>\n",
       "      <td>Sagara Sangamam</td>\n",
       "      <td>(1983)</td>\n",
       "      <td>8.8</td>\n",
       "    </tr>\n",
       "    <tr>\n",
       "      <th>2.</th>\n",
       "      <td>Goopy Gyne Bagha Byne</td>\n",
       "      <td>(1969)</td>\n",
       "      <td>8.8</td>\n",
       "    </tr>\n",
       "    <tr>\n",
       "      <th>3.</th>\n",
       "      <td>Pather Panchali</td>\n",
       "      <td>(1955)</td>\n",
       "      <td>8.6</td>\n",
       "    </tr>\n",
       "    <tr>\n",
       "      <th>4.</th>\n",
       "      <td>Nayakan</td>\n",
       "      <td>(1987)</td>\n",
       "      <td>8.6</td>\n",
       "    </tr>\n",
       "    <tr>\n",
       "      <th>5.</th>\n",
       "      <td>Pushpaka Vimana</td>\n",
       "      <td>(1987)</td>\n",
       "      <td>8.6</td>\n",
       "    </tr>\n",
       "    <tr>\n",
       "      <th>...</th>\n",
       "      <td>...</td>\n",
       "      <td>...</td>\n",
       "      <td>...</td>\n",
       "    </tr>\n",
       "    <tr>\n",
       "      <th>96.</th>\n",
       "      <td>Vanaja</td>\n",
       "      <td>(2006)</td>\n",
       "      <td>7.1</td>\n",
       "    </tr>\n",
       "    <tr>\n",
       "      <th>97.</th>\n",
       "      <td>Amma Ariyan</td>\n",
       "      <td>(1987)</td>\n",
       "      <td>7.1</td>\n",
       "    </tr>\n",
       "    <tr>\n",
       "      <th>98.</th>\n",
       "      <td>Chandni</td>\n",
       "      <td>(1989)</td>\n",
       "      <td>6.8</td>\n",
       "    </tr>\n",
       "    <tr>\n",
       "      <th>99.</th>\n",
       "      <td>Neecha Nagar</td>\n",
       "      <td>(1946)</td>\n",
       "      <td>6.8</td>\n",
       "    </tr>\n",
       "    <tr>\n",
       "      <th>100.</th>\n",
       "      <td>English, August</td>\n",
       "      <td>(1994)</td>\n",
       "      <td>6.7</td>\n",
       "    </tr>\n",
       "  </tbody>\n",
       "</table>\n",
       "<p>100 rows × 3 columns</p>\n",
       "</div>"
      ],
      "text/plain": [
       "          Name Of the Movie Year of Release  IMDB Rating\n",
       "POS                                                     \n",
       "1.          Sagara Sangamam           (1983)         8.8\n",
       "2.    Goopy Gyne Bagha Byne           (1969)         8.8\n",
       "3.          Pather Panchali           (1955)         8.6\n",
       "4.                  Nayakan           (1987)         8.6\n",
       "5.          Pushpaka Vimana           (1987)         8.6\n",
       "...                     ...              ...         ...\n",
       "96.                  Vanaja           (2006)         7.1\n",
       "97.             Amma Ariyan           (1987)         7.1\n",
       "98.                 Chandni           (1989)         6.8\n",
       "99.            Neecha Nagar           (1946)         6.8\n",
       "100.        English, August           (1994)         6.7\n",
       "\n",
       "[100 rows x 3 columns]"
      ]
     },
     "execution_count": 26,
     "metadata": {},
     "output_type": "execute_result"
    }
   ],
   "source": [
    "#Setting index to poistion of the book\n",
    "df.set_index('POS')"
   ]
  },
  {
   "cell_type": "code",
   "execution_count": 27,
   "metadata": {},
   "outputs": [],
   "source": [
    "#Exporting the df to csv\n",
    "df.to_csv(\"IMDB TOP 100  INDIAN Movies\")"
   ]
  },
  {
   "cell_type": "markdown",
   "metadata": {},
   "source": [
    "# 4.REVIEW OF BOOKS"
   ]
  },
  {
   "cell_type": "code",
   "execution_count": 28,
   "metadata": {},
   "outputs": [],
   "source": [
    "#Sending access request to the web page\n",
    "page4=requests.get(\"https://bookpage.com/reviews\")"
   ]
  },
  {
   "cell_type": "code",
   "execution_count": 29,
   "metadata": {},
   "outputs": [],
   "source": [
    "#Instantiating\n",
    "soup4=BeautifulSoup(page4.content,'html.parser')"
   ]
  },
  {
   "cell_type": "code",
   "execution_count": 30,
   "metadata": {},
   "outputs": [],
   "source": [
    "book=soup4.findAll('div',class_=\"row-fluid article-row\")\n",
    "first=book[0]"
   ]
  },
  {
   "cell_type": "code",
   "execution_count": 31,
   "metadata": {},
   "outputs": [
    {
     "data": {
      "text/plain": [
       "<div class=\"row-fluid article-row\">\n",
       "<div class=\"bp-block article-info\">\n",
       "<div class=\"article-list-left\">\n",
       "<a href=\"/reviews/25844-alexander-larman-crown-crisis-biography\"><img alt=\"Medium\" src=\"https://t1.bookpage.com/books/images/440f0ceb7e692a5d1c0d104407acc1d5/medium.jpg\"/></a>\n",
       "</div>\n",
       "<div class=\"flex-article-content\">\n",
       "<h4 class=\"italic\">\n",
       "<a href=\"/reviews/25844-alexander-larman-crown-crisis-biography\">The Crown in Crisis</a>\n",
       "</h4>\n",
       "<p class=\"sans bold\">\n",
       "Alexander Larman\n",
       "</p>\n",
       "<p class=\"genre-links hidden-phone\">\n",
       "<a href=\"/search?book_genre=nonfiction\">Nonfiction</a>\n",
       " / \n",
       "<a href=\"/search?book_genre=biography\">Biography</a>\n",
       " / \n",
       "<a href=\"/search?book_genre=european_history\">European History</a>\n",
       "</p>\n",
       "<p class=\"excerpt\">\n",
       "In <strong>The Crown in Crisis</strong>, historian and journalist Alexander Larman details one of the royal family’s biggest scandals: When King Edward VIII abdicated the throne in order to marry his lover, Wallis Simpson.\n",
       "</p>\n",
       "<div class=\"read-full\">\n",
       "<a href=\"/reviews/25844-alexander-larman-crown-crisis-nonfiction\">Read the Review <i class=\"zmdi zmdi-chevron-right\"></i></a>\n",
       "</div>\n",
       "</div>\n",
       "<br class=\"clear\"/>\n",
       "</div>\n",
       "</div>"
      ]
     },
     "execution_count": 31,
     "metadata": {},
     "output_type": "execute_result"
    }
   ],
   "source": [
    "first"
   ]
  },
  {
   "cell_type": "code",
   "execution_count": 32,
   "metadata": {},
   "outputs": [
    {
     "data": {
      "text/plain": [
       "'The Crown in Crisis'"
      ]
     },
     "execution_count": 32,
     "metadata": {},
     "output_type": "execute_result"
    }
   ],
   "source": [
    "#Book's Name\n",
    "first.h4.a.text"
   ]
  },
  {
   "cell_type": "code",
   "execution_count": 33,
   "metadata": {},
   "outputs": [
    {
     "data": {
      "text/plain": [
       "' Alexander Larman '"
      ]
     },
     "execution_count": 33,
     "metadata": {},
     "output_type": "execute_result"
    }
   ],
   "source": [
    "#Author's name\n",
    "first.p.text.replace(\"\\n\",\" \")"
   ]
  },
  {
   "cell_type": "code",
   "execution_count": 34,
   "metadata": {},
   "outputs": [
    {
     "data": {
      "text/plain": [
       "' Nonfiction  /  Biography  /  European History '"
      ]
     },
     "execution_count": 34,
     "metadata": {},
     "output_type": "execute_result"
    }
   ],
   "source": [
    "#Genre of the book\n",
    "first.find('p',class_=\"genre-links hidden-phone\").text.replace('\\n',\" \")"
   ]
  },
  {
   "cell_type": "code",
   "execution_count": 35,
   "metadata": {},
   "outputs": [
    {
     "data": {
      "text/plain": [
       "' In The Crown in Crisis, historian and journalist Alexander Larman details one of the royal family’s biggest scandals: When King Edward VIII abdicated the throne in order to marry his lover, Wallis Simpson. '"
      ]
     },
     "execution_count": 35,
     "metadata": {},
     "output_type": "execute_result"
    }
   ],
   "source": [
    "#Review of the book\n",
    "first.find('p',class_=\"excerpt\").text.replace('\\n',\" \")"
   ]
  },
  {
   "cell_type": "code",
   "execution_count": 36,
   "metadata": {},
   "outputs": [],
   "source": [
    "#Creating expty lists and appending\n",
    "Book_Name=[]\n",
    "Author=[]\n",
    "Genre=[]\n",
    "Review=[]\n",
    "\n",
    "\n",
    "for i in book:\n",
    "    Book_Name.append(i.h4.a.text)\n",
    "    Author.append(i.p.text.replace(\"\\n\",\" \"))\n",
    "    Genre.append(i.find('p',class_=\"genre-links hidden-phone\").text.replace('\\n',\" \"))\n",
    "    Review.append(i.find('p',class_=\"excerpt\").text.replace('\\n',\" \"))      "
   ]
  },
  {
   "cell_type": "code",
   "execution_count": 37,
   "metadata": {},
   "outputs": [],
   "source": [
    "data2=list(zip(Book_Name,Author,Genre,Review))"
   ]
  },
  {
   "cell_type": "code",
   "execution_count": 38,
   "metadata": {},
   "outputs": [],
   "source": [
    "#Importing pandas and creating the data frame\n",
    "import pandas as pd\n",
    "df=pd.DataFrame(data2,columns=['Book_Name','Author','Genre','Review'])"
   ]
  },
  {
   "cell_type": "code",
   "execution_count": 39,
   "metadata": {},
   "outputs": [],
   "source": [
    "#We need only 5 books informtaion so slicing \n",
    "df1=df[0:5]"
   ]
  },
  {
   "cell_type": "code",
   "execution_count": 40,
   "metadata": {},
   "outputs": [
    {
     "data": {
      "text/html": [
       "<div>\n",
       "<style scoped>\n",
       "    .dataframe tbody tr th:only-of-type {\n",
       "        vertical-align: middle;\n",
       "    }\n",
       "\n",
       "    .dataframe tbody tr th {\n",
       "        vertical-align: top;\n",
       "    }\n",
       "\n",
       "    .dataframe thead th {\n",
       "        text-align: right;\n",
       "    }\n",
       "</style>\n",
       "<table border=\"1\" class=\"dataframe\">\n",
       "  <thead>\n",
       "    <tr style=\"text-align: right;\">\n",
       "      <th></th>\n",
       "      <th>Book_Name</th>\n",
       "      <th>Author</th>\n",
       "      <th>Genre</th>\n",
       "      <th>Review</th>\n",
       "    </tr>\n",
       "  </thead>\n",
       "  <tbody>\n",
       "    <tr>\n",
       "      <th>0</th>\n",
       "      <td>The Crown in Crisis</td>\n",
       "      <td>Alexander Larman</td>\n",
       "      <td>Nonfiction  /  Biography  /  European History</td>\n",
       "      <td>In The Crown in Crisis, historian and journal...</td>\n",
       "    </tr>\n",
       "    <tr>\n",
       "      <th>1</th>\n",
       "      <td>The Doctors Blackwell</td>\n",
       "      <td>Janice P. Nimura</td>\n",
       "      <td>Nonfiction  /  American History  /  Medicine</td>\n",
       "      <td>Janice P. Nimura’s compelling biography The D...</td>\n",
       "    </tr>\n",
       "    <tr>\n",
       "      <th>2</th>\n",
       "      <td>Summerwater</td>\n",
       "      <td>Sarah Moss</td>\n",
       "      <td>Fiction  /  Literary Fiction</td>\n",
       "      <td>Gabriel García Márquez once wrote, “Everyone ...</td>\n",
       "    </tr>\n",
       "    <tr>\n",
       "      <th>3</th>\n",
       "      <td>Winterkeep</td>\n",
       "      <td>Kristin Cashore</td>\n",
       "      <td>YA  /  YA Fiction</td>\n",
       "      <td>Fans of Kristin Cashore’s previous books set ...</td>\n",
       "    </tr>\n",
       "    <tr>\n",
       "      <th>4</th>\n",
       "      <td>Amari and the Night Brothers</td>\n",
       "      <td>B. B. Alston</td>\n",
       "      <td>Children's  /  Middle Grade</td>\n",
       "      <td>Things are not going well for Amari Peters. H...</td>\n",
       "    </tr>\n",
       "  </tbody>\n",
       "</table>\n",
       "</div>"
      ],
      "text/plain": [
       "                      Book_Name              Author  \\\n",
       "0           The Crown in Crisis   Alexander Larman    \n",
       "1         The Doctors Blackwell   Janice P. Nimura    \n",
       "2                   Summerwater         Sarah Moss    \n",
       "3                    Winterkeep    Kristin Cashore    \n",
       "4  Amari and the Night Brothers       B. B. Alston    \n",
       "\n",
       "                                             Genre  \\\n",
       "0   Nonfiction  /  Biography  /  European History    \n",
       "1    Nonfiction  /  American History  /  Medicine    \n",
       "2                    Fiction  /  Literary Fiction    \n",
       "3                               YA  /  YA Fiction    \n",
       "4                     Children's  /  Middle Grade    \n",
       "\n",
       "                                              Review  \n",
       "0   In The Crown in Crisis, historian and journal...  \n",
       "1   Janice P. Nimura’s compelling biography The D...  \n",
       "2   Gabriel García Márquez once wrote, “Everyone ...  \n",
       "3   Fans of Kristin Cashore’s previous books set ...  \n",
       "4   Things are not going well for Amari Peters. H...  "
      ]
     },
     "execution_count": 40,
     "metadata": {},
     "output_type": "execute_result"
    }
   ],
   "source": [
    "df1"
   ]
  },
  {
   "cell_type": "markdown",
   "metadata": {},
   "source": [
    "# 5i.Men's Top 10 ODI teams"
   ]
  },
  {
   "cell_type": "code",
   "execution_count": 41,
   "metadata": {},
   "outputs": [],
   "source": [
    "#Importing required Analysis\n",
    "import selenium\n",
    "import pandas as pd\n",
    "from selenium import webdriver"
   ]
  },
  {
   "cell_type": "code",
   "execution_count": 42,
   "metadata": {},
   "outputs": [],
   "source": [
    "#webdriver address\n",
    "driver5i=webdriver.Chrome(r\"C:/Users/THIS PC/Downloads/chromedriver_win32/chromedriver.exe\")"
   ]
  },
  {
   "cell_type": "code",
   "execution_count": 43,
   "metadata": {},
   "outputs": [],
   "source": [
    "#url of the website which needs to be scrapped\n",
    "url=\"https://www.icc-cricket.com/rankings/mens/team-rankings/odi\""
   ]
  },
  {
   "cell_type": "code",
   "execution_count": 44,
   "metadata": {},
   "outputs": [],
   "source": [
    "driver5i.get(url)"
   ]
  },
  {
   "cell_type": "code",
   "execution_count": 45,
   "metadata": {},
   "outputs": [],
   "source": [
    "#Creating empty lists\n",
    "POS=[]\n",
    "Team_Name=[]\n",
    "Matches=[]\n",
    "Points=[]\n",
    "Ratings=[]"
   ]
  },
  {
   "cell_type": "code",
   "execution_count": 46,
   "metadata": {},
   "outputs": [
    {
     "name": "stdout",
     "output_type": "stream",
     "text": [
      "1\n",
      "1\n",
      "1\n",
      "1\n"
     ]
    }
   ],
   "source": [
    "#Scrapping the highlighted data in the first row \n",
    "\n",
    "postag1=driver5i.find_element_by_xpath('//td[@class=\"rankings-block__banner--pos\"]')\n",
    "POS.append(postag1.text)\n",
    "print(len(POS))\n",
    "\n",
    "\n",
    "matchtag=driver5i.find_element_by_xpath('//td[@class=\"rankings-block__banner--matches\"]')\n",
    "Matches.append(matchtag.text)\n",
    "print(len(Matches))\n",
    "\n",
    "pointtag=driver5i.find_element_by_xpath('//td[@class=\"rankings-block__banner--points\"]')\n",
    "Points.append(pointtag.text)\n",
    "print(len(Points))\n",
    "\n",
    "ratingtag=driver5i.find_element_by_xpath('//td[@class=\"rankings-block__banner--rating u-text-right\"]')\n",
    "Ratings.append(ratingtag.text)\n",
    "print(len(Ratings))"
   ]
  },
  {
   "cell_type": "code",
   "execution_count": 47,
   "metadata": {},
   "outputs": [
    {
     "name": "stdout",
     "output_type": "stream",
     "text": [
      "20\n",
      "20\n",
      "20\n",
      "20\n",
      "20\n"
     ]
    }
   ],
   "source": [
    "#Scrapping other data\n",
    "postag1=driver5i.find_elements_by_xpath('//td[@class=\"table-body__cell table-body__cell--position u-text-right\"]')\n",
    "\n",
    "for i in postag1:\n",
    "    POS.append(i.text)\n",
    "print(len(POS))\n",
    "\n",
    "\n",
    "nametag1=driver5i.find_elements_by_xpath('//span[@class=\"u-hide-phablet\"]')\n",
    "\n",
    "for i in nametag1:\n",
    "    Team_Name.append(i.text)\n",
    "print(len(Team_Name))\n",
    "\n",
    "matchtag=driver5i.find_elements_by_xpath('//tr[@class=\"table-body\"]/td[3]')\n",
    "\n",
    "for i in matchtag:\n",
    "    Matches.append(i.text)\n",
    "print(len(Matches))\n",
    "\n",
    "pointtag=driver5i.find_elements_by_xpath('//tr[@class=\"table-body\"]/td[4]')\n",
    "\n",
    "for i in pointtag:\n",
    "    Points.append(i.text)\n",
    "print(len(Points))\n",
    "\n",
    "ratingtag=driver5i.find_elements_by_xpath('//td[@class=\"table-body__cell u-text-right rating\"]')\n",
    "\n",
    "for i in ratingtag:\n",
    "    Ratings.append(i.text)\n",
    "print(len(Ratings))"
   ]
  },
  {
   "cell_type": "code",
   "execution_count": 48,
   "metadata": {},
   "outputs": [],
   "source": [
    "data5i=list(zip(POS,Team_Name,Matches,Points,Ratings))"
   ]
  },
  {
   "cell_type": "code",
   "execution_count": 49,
   "metadata": {},
   "outputs": [],
   "source": [
    "#Creating dataframe\n",
    "df5i=pd.DataFrame(data5i,columns=['POS','Team_Name','Matches','Points','Ratings'])"
   ]
  },
  {
   "cell_type": "code",
   "execution_count": 50,
   "metadata": {},
   "outputs": [],
   "source": [
    "df=df5i[0:10]"
   ]
  },
  {
   "cell_type": "code",
   "execution_count": 51,
   "metadata": {},
   "outputs": [
    {
     "data": {
      "text/html": [
       "<div>\n",
       "<style scoped>\n",
       "    .dataframe tbody tr th:only-of-type {\n",
       "        vertical-align: middle;\n",
       "    }\n",
       "\n",
       "    .dataframe tbody tr th {\n",
       "        vertical-align: top;\n",
       "    }\n",
       "\n",
       "    .dataframe thead th {\n",
       "        text-align: right;\n",
       "    }\n",
       "</style>\n",
       "<table border=\"1\" class=\"dataframe\">\n",
       "  <thead>\n",
       "    <tr style=\"text-align: right;\">\n",
       "      <th></th>\n",
       "      <th>Team_Name</th>\n",
       "      <th>Matches</th>\n",
       "      <th>Points</th>\n",
       "      <th>Ratings</th>\n",
       "    </tr>\n",
       "    <tr>\n",
       "      <th>POS</th>\n",
       "      <th></th>\n",
       "      <th></th>\n",
       "      <th></th>\n",
       "      <th></th>\n",
       "    </tr>\n",
       "  </thead>\n",
       "  <tbody>\n",
       "    <tr>\n",
       "      <th>1</th>\n",
       "      <td>England</td>\n",
       "      <td>44</td>\n",
       "      <td>5,405</td>\n",
       "      <td>123</td>\n",
       "    </tr>\n",
       "    <tr>\n",
       "      <th>2</th>\n",
       "      <td>India</td>\n",
       "      <td>52</td>\n",
       "      <td>6,102</td>\n",
       "      <td>117</td>\n",
       "    </tr>\n",
       "    <tr>\n",
       "      <th>3</th>\n",
       "      <td>New Zealand</td>\n",
       "      <td>32</td>\n",
       "      <td>3,716</td>\n",
       "      <td>116</td>\n",
       "    </tr>\n",
       "    <tr>\n",
       "      <th>4</th>\n",
       "      <td>Australia</td>\n",
       "      <td>39</td>\n",
       "      <td>4,344</td>\n",
       "      <td>111</td>\n",
       "    </tr>\n",
       "    <tr>\n",
       "      <th>5</th>\n",
       "      <td>South Africa</td>\n",
       "      <td>31</td>\n",
       "      <td>3,345</td>\n",
       "      <td>108</td>\n",
       "    </tr>\n",
       "    <tr>\n",
       "      <th>6</th>\n",
       "      <td>Pakistan</td>\n",
       "      <td>35</td>\n",
       "      <td>3,490</td>\n",
       "      <td>100</td>\n",
       "    </tr>\n",
       "    <tr>\n",
       "      <th>7</th>\n",
       "      <td>Bangladesh</td>\n",
       "      <td>34</td>\n",
       "      <td>2,989</td>\n",
       "      <td>88</td>\n",
       "    </tr>\n",
       "    <tr>\n",
       "      <th>8</th>\n",
       "      <td>Sri Lanka</td>\n",
       "      <td>39</td>\n",
       "      <td>3,297</td>\n",
       "      <td>85</td>\n",
       "    </tr>\n",
       "    <tr>\n",
       "      <th>9</th>\n",
       "      <td>West Indies</td>\n",
       "      <td>43</td>\n",
       "      <td>3,285</td>\n",
       "      <td>76</td>\n",
       "    </tr>\n",
       "    <tr>\n",
       "      <th>10</th>\n",
       "      <td>Afghanistan</td>\n",
       "      <td>28</td>\n",
       "      <td>1,549</td>\n",
       "      <td>55</td>\n",
       "    </tr>\n",
       "  </tbody>\n",
       "</table>\n",
       "</div>"
      ],
      "text/plain": [
       "        Team_Name Matches Points Ratings\n",
       "POS                                     \n",
       "1         England      44  5,405     123\n",
       "2           India      52  6,102     117\n",
       "3     New Zealand      32  3,716     116\n",
       "4       Australia      39  4,344     111\n",
       "5    South Africa      31  3,345     108\n",
       "6        Pakistan      35  3,490     100\n",
       "7      Bangladesh      34  2,989      88\n",
       "8       Sri Lanka      39  3,297      85\n",
       "9     West Indies      43  3,285      76\n",
       "10    Afghanistan      28  1,549      55"
      ]
     },
     "execution_count": 51,
     "metadata": {},
     "output_type": "execute_result"
    }
   ],
   "source": [
    "df.set_index(\"POS\")"
   ]
  },
  {
   "cell_type": "markdown",
   "metadata": {},
   "source": [
    "# TOP 10 ODI Player"
   ]
  },
  {
   "cell_type": "code",
   "execution_count": 52,
   "metadata": {},
   "outputs": [],
   "source": [
    "driver5b=webdriver.Chrome(r\"C:/Users/THIS PC/Downloads/chromedriver_win32/chromedriver.exe\")"
   ]
  },
  {
   "cell_type": "code",
   "execution_count": 53,
   "metadata": {},
   "outputs": [],
   "source": [
    "url=\"https://www.icc-cricket.com/rankings/mens/player-rankings/odi/batting\""
   ]
  },
  {
   "cell_type": "code",
   "execution_count": 54,
   "metadata": {},
   "outputs": [],
   "source": [
    "driver5b.get(url)"
   ]
  },
  {
   "cell_type": "code",
   "execution_count": 55,
   "metadata": {},
   "outputs": [],
   "source": [
    "#Creating empty lists\n",
    "POS=[]\n",
    "Player_Name=[]\n",
    "Team=[]\n",
    "Rating=[]\n",
    "Career_Best_Rating=[]"
   ]
  },
  {
   "cell_type": "code",
   "execution_count": 56,
   "metadata": {},
   "outputs": [
    {
     "name": "stdout",
     "output_type": "stream",
     "text": [
      "1\n",
      "1\n",
      "1\n",
      "1\n",
      "1\n"
     ]
    }
   ],
   "source": [
    "#Scrapping highlighted data\n",
    "postag1=driver5b.find_element_by_xpath('//td[@class=\"rankings-block__position\"]')\n",
    "POS.append(postag1.text)\n",
    "print(len(POS))\n",
    "\n",
    "nametag1=driver5b.find_element_by_xpath('//div[@class=\"rankings-block__banner--name-large\"]')\n",
    "Player_Name.append(nametag1.text)\n",
    "print(len(Player_Name))\n",
    "\n",
    "teamtag=driver5b.find_element_by_xpath('//div[@class=\"rankings-block__banner--nationality\"]')\n",
    "Team.append(teamtag.text)\n",
    "print(len(Team))\n",
    "\n",
    "ratingtag=driver5b.find_element_by_xpath('//div[@class=\"rankings-block__banner--rating\"]')\n",
    "Rating.append(ratingtag.text)\n",
    "print(len(Rating))\n",
    "\n",
    "careerbesttag=driver5b.find_element_by_xpath('//span[@class=\"rankings-block__career-best-text\"]')\n",
    "Career_Best_Rating.append(careerbesttag.text)\n",
    "print(len(Career_Best_Rating))\n"
   ]
  },
  {
   "cell_type": "code",
   "execution_count": 57,
   "metadata": {},
   "outputs": [
    {
     "name": "stdout",
     "output_type": "stream",
     "text": [
      "100\n",
      "100\n",
      "100\n",
      "100\n",
      "100\n"
     ]
    }
   ],
   "source": [
    "#Creating other data\n",
    "postag=driver5b.find_elements_by_xpath('//td[@class=\"table-body__cell table-body__cell--position u-text-right\"]')\n",
    "\n",
    "for i in postag:\n",
    "    POS.append(i.text)\n",
    "print(len(POS))\n",
    "\n",
    "nametag=driver5b.find_elements_by_xpath('//td[@class=\"table-body__cell rankings-table__name name\"]')\n",
    "\n",
    "for i in nametag:\n",
    "    Player_Name.append(i.text)\n",
    "print(len(Player_Name))\n",
    "\n",
    "teamtag1=driver5b.find_elements_by_xpath('//span[@class=\"table-body__logo-text\"]')\n",
    "for i in teamtag1:\n",
    "    Team.append(i.text)\n",
    "print(len(Team))\n",
    "\n",
    "ratingtag1=driver5b.find_elements_by_xpath('//td[@class=\"table-body__cell rating\"]')\n",
    "for i in ratingtag1:\n",
    "    Rating.append(i.text)\n",
    "print(len(Rating))\n",
    "\n",
    "careerbesttag1=driver5b.find_elements_by_xpath('//td[@class=\"table-body__cell u-text-right u-hide-phablet\"]')\n",
    "for i in careerbesttag1:\n",
    "    Career_Best_Rating.append(i.text)\n",
    "print(len(Career_Best_Rating))\n"
   ]
  },
  {
   "cell_type": "code",
   "execution_count": 58,
   "metadata": {},
   "outputs": [],
   "source": [
    "#Creating DataFrame\n",
    "data=(zip(POS,Player_Name,Team,Rating,Career_Best_Rating))\n",
    "\n",
    "sample_df=pd.DataFrame(data,columns=['POS','Player_Name','Team','Rating','Career_Best_Rating'],index=POS)\n",
    "\n",
    "df=sample_df[0:10]\n"
   ]
  },
  {
   "cell_type": "code",
   "execution_count": 59,
   "metadata": {},
   "outputs": [
    {
     "data": {
      "text/html": [
       "<div>\n",
       "<style scoped>\n",
       "    .dataframe tbody tr th:only-of-type {\n",
       "        vertical-align: middle;\n",
       "    }\n",
       "\n",
       "    .dataframe tbody tr th {\n",
       "        vertical-align: top;\n",
       "    }\n",
       "\n",
       "    .dataframe thead th {\n",
       "        text-align: right;\n",
       "    }\n",
       "</style>\n",
       "<table border=\"1\" class=\"dataframe\">\n",
       "  <thead>\n",
       "    <tr style=\"text-align: right;\">\n",
       "      <th></th>\n",
       "      <th>Player_Name</th>\n",
       "      <th>Team</th>\n",
       "      <th>Rating</th>\n",
       "      <th>Career_Best_Rating</th>\n",
       "    </tr>\n",
       "    <tr>\n",
       "      <th>POS</th>\n",
       "      <th></th>\n",
       "      <th></th>\n",
       "      <th></th>\n",
       "      <th></th>\n",
       "    </tr>\n",
       "  </thead>\n",
       "  <tbody>\n",
       "    <tr>\n",
       "      <th>1</th>\n",
       "      <td>Virat Kohli</td>\n",
       "      <td>IND</td>\n",
       "      <td>870</td>\n",
       "      <td>911 v England, 12/07/2018</td>\n",
       "    </tr>\n",
       "    <tr>\n",
       "      <th>2</th>\n",
       "      <td>Rohit Sharma</td>\n",
       "      <td>IND</td>\n",
       "      <td>842</td>\n",
       "      <td>885 v Sri Lanka, 06/07/2019</td>\n",
       "    </tr>\n",
       "    <tr>\n",
       "      <th>3</th>\n",
       "      <td>Babar Azam</td>\n",
       "      <td>PAK</td>\n",
       "      <td>837</td>\n",
       "      <td>846 v Sri Lanka, 20/10/2017</td>\n",
       "    </tr>\n",
       "    <tr>\n",
       "      <th>4</th>\n",
       "      <td>Ross Taylor</td>\n",
       "      <td>NZ</td>\n",
       "      <td>818</td>\n",
       "      <td>841 v Bangladesh, 05/06/2019</td>\n",
       "    </tr>\n",
       "    <tr>\n",
       "      <th>5</th>\n",
       "      <td>Aaron Finch</td>\n",
       "      <td>AUS</td>\n",
       "      <td>791</td>\n",
       "      <td>798 v England, 25/06/2019</td>\n",
       "    </tr>\n",
       "    <tr>\n",
       "      <th>6</th>\n",
       "      <td>Francois du Plessis</td>\n",
       "      <td>SA</td>\n",
       "      <td>790</td>\n",
       "      <td>820 v Australia, 06/07/2019</td>\n",
       "    </tr>\n",
       "    <tr>\n",
       "      <th>7</th>\n",
       "      <td>David Warner</td>\n",
       "      <td>AUS</td>\n",
       "      <td>773</td>\n",
       "      <td>880 v Pakistan, 26/01/2017</td>\n",
       "    </tr>\n",
       "    <tr>\n",
       "      <th>8</th>\n",
       "      <td>Kane Williamson</td>\n",
       "      <td>NZ</td>\n",
       "      <td>765</td>\n",
       "      <td>799 v India, 09/07/2019</td>\n",
       "    </tr>\n",
       "    <tr>\n",
       "      <th>9</th>\n",
       "      <td>Quinton de Kock</td>\n",
       "      <td>SA</td>\n",
       "      <td>755</td>\n",
       "      <td>813 v Sri Lanka, 10/03/2019</td>\n",
       "    </tr>\n",
       "    <tr>\n",
       "      <th>10</th>\n",
       "      <td>Jonny Bairstow</td>\n",
       "      <td>ENG</td>\n",
       "      <td>754</td>\n",
       "      <td>777 v Australia, 21/06/2018</td>\n",
       "    </tr>\n",
       "  </tbody>\n",
       "</table>\n",
       "</div>"
      ],
      "text/plain": [
       "             Player_Name Team Rating            Career_Best_Rating\n",
       "POS                                                               \n",
       "1            Virat Kohli  IND    870     911 v England, 12/07/2018\n",
       "2           Rohit Sharma  IND    842   885 v Sri Lanka, 06/07/2019\n",
       "3             Babar Azam  PAK    837   846 v Sri Lanka, 20/10/2017\n",
       "4            Ross Taylor   NZ    818  841 v Bangladesh, 05/06/2019\n",
       "5            Aaron Finch  AUS    791     798 v England, 25/06/2019\n",
       "6    Francois du Plessis   SA    790   820 v Australia, 06/07/2019\n",
       "7           David Warner  AUS    773    880 v Pakistan, 26/01/2017\n",
       "8        Kane Williamson   NZ    765       799 v India, 09/07/2019\n",
       "9        Quinton de Kock   SA    755   813 v Sri Lanka, 10/03/2019\n",
       "10        Jonny Bairstow  ENG    754   777 v Australia, 21/06/2018"
      ]
     },
     "execution_count": 59,
     "metadata": {},
     "output_type": "execute_result"
    }
   ],
   "source": [
    "df.set_index(\"POS\")"
   ]
  },
  {
   "cell_type": "markdown",
   "metadata": {},
   "source": [
    "# Top 10 ODI bowlers"
   ]
  },
  {
   "cell_type": "code",
   "execution_count": 60,
   "metadata": {},
   "outputs": [],
   "source": [
    "driver5c=webdriver.Chrome(r\"C:/Users/THIS PC/Downloads/chromedriver_win32/chromedriver.exe\")"
   ]
  },
  {
   "cell_type": "code",
   "execution_count": 61,
   "metadata": {},
   "outputs": [],
   "source": [
    "url=\"https://www.icc-cricket.com/rankings/mens/player-rankings/odi/bowling\""
   ]
  },
  {
   "cell_type": "code",
   "execution_count": 62,
   "metadata": {},
   "outputs": [],
   "source": [
    "driver5c.get(url)"
   ]
  },
  {
   "cell_type": "code",
   "execution_count": 63,
   "metadata": {},
   "outputs": [],
   "source": [
    "#Creating empty list\n",
    "POS=[]\n",
    "Player_Name=[]\n",
    "Team=[]\n",
    "Rating=[]\n",
    "Career_Best_Rating=[]"
   ]
  },
  {
   "cell_type": "code",
   "execution_count": 64,
   "metadata": {},
   "outputs": [
    {
     "name": "stdout",
     "output_type": "stream",
     "text": [
      "1\n",
      "1\n",
      "1\n",
      "1\n",
      "1\n"
     ]
    }
   ],
   "source": [
    "#Creating highlighted data\n",
    "postag1=driver5c.find_element_by_xpath('//td[@class=\"rankings-block__position\"]')\n",
    "POS.append(postag1.text)\n",
    "print(len(POS))\n",
    "\n",
    "nametag1=driver5c.find_element_by_xpath('//div[@class=\"rankings-block__banner--name-large\"]')\n",
    "Player_Name.append(nametag1.text)\n",
    "print(len(Player_Name))\n",
    "\n",
    "teamtag=driver5c.find_element_by_xpath('//div[@class=\"rankings-block__banner--nationality\"]')\n",
    "Team.append(teamtag.text)\n",
    "print(len(Team))\n",
    "\n",
    "ratingtag=driver5c.find_element_by_xpath('//div[@class=\"rankings-block__banner--rating\"]')\n",
    "Rating.append(ratingtag.text)\n",
    "print(len(Rating))\n",
    "\n",
    "careerbesttag=driver5c.find_element_by_xpath('//span[@class=\"rankings-block__career-best-text\"]')\n",
    "Career_Best_Rating.append(careerbesttag.text)\n",
    "print(len(Career_Best_Rating))"
   ]
  },
  {
   "cell_type": "code",
   "execution_count": 65,
   "metadata": {},
   "outputs": [
    {
     "name": "stdout",
     "output_type": "stream",
     "text": [
      "100\n",
      "100\n",
      "100\n",
      "100\n",
      "100\n"
     ]
    }
   ],
   "source": [
    "#Scrapping remaining data\n",
    "postag=driver5c.find_elements_by_xpath('//td[@class=\"table-body__cell table-body__cell--position u-text-right\"]')\n",
    "\n",
    "for i in postag:\n",
    "    POS.append(i.text)\n",
    "print(len(POS))\n",
    "\n",
    "nametag=driver5c.find_elements_by_xpath('//td[@class=\"table-body__cell rankings-table__name name\"]')\n",
    "\n",
    "for i in nametag:\n",
    "    Player_Name.append(i.text)\n",
    "print(len(Player_Name))\n",
    "\n",
    "teamtag1=driver5c.find_elements_by_xpath('//span[@class=\"table-body__logo-text\"]')\n",
    "for i in teamtag1:\n",
    "    Team.append(i.text)\n",
    "print(len(Team))\n",
    "\n",
    "ratingtag1=driver5c.find_elements_by_xpath('//td[@class=\"table-body__cell rating\"]')\n",
    "for i in ratingtag1:\n",
    "    Rating.append(i.text)\n",
    "print(len(Rating))\n",
    "\n",
    "careerbesttag1=driver5c.find_elements_by_xpath('//td[@class=\"table-body__cell u-text-right u-hide-phablet\"]')\n",
    "for i in careerbesttag1:\n",
    "    Career_Best_Rating.append(i.text)\n",
    "print(len(Career_Best_Rating))\n"
   ]
  },
  {
   "cell_type": "code",
   "execution_count": 66,
   "metadata": {},
   "outputs": [],
   "source": [
    "#Creating dataFrame\n",
    "data=(zip(POS,Player_Name,Team,Rating,Career_Best_Rating))\n",
    "\n",
    "sample_df=pd.DataFrame(data,columns=['POS','Player_Name','Team','Rating','Career_Best_Rating'])\n",
    "\n",
    "df=sample_df[0:10]\n"
   ]
  },
  {
   "cell_type": "code",
   "execution_count": 67,
   "metadata": {},
   "outputs": [
    {
     "data": {
      "text/html": [
       "<div>\n",
       "<style scoped>\n",
       "    .dataframe tbody tr th:only-of-type {\n",
       "        vertical-align: middle;\n",
       "    }\n",
       "\n",
       "    .dataframe tbody tr th {\n",
       "        vertical-align: top;\n",
       "    }\n",
       "\n",
       "    .dataframe thead th {\n",
       "        text-align: right;\n",
       "    }\n",
       "</style>\n",
       "<table border=\"1\" class=\"dataframe\">\n",
       "  <thead>\n",
       "    <tr style=\"text-align: right;\">\n",
       "      <th></th>\n",
       "      <th>Player_Name</th>\n",
       "      <th>Team</th>\n",
       "      <th>Rating</th>\n",
       "      <th>Career_Best_Rating</th>\n",
       "    </tr>\n",
       "    <tr>\n",
       "      <th>POS</th>\n",
       "      <th></th>\n",
       "      <th></th>\n",
       "      <th></th>\n",
       "      <th></th>\n",
       "    </tr>\n",
       "  </thead>\n",
       "  <tbody>\n",
       "    <tr>\n",
       "      <th>1</th>\n",
       "      <td>Trent Boult</td>\n",
       "      <td>NZ</td>\n",
       "      <td>722</td>\n",
       "      <td>770 v West Indies, 22/06/2019</td>\n",
       "    </tr>\n",
       "    <tr>\n",
       "      <th>2</th>\n",
       "      <td>Mujeeb Ur Rahman</td>\n",
       "      <td>AFG</td>\n",
       "      <td>701</td>\n",
       "      <td>707 v West Indies, 11/11/2019</td>\n",
       "    </tr>\n",
       "    <tr>\n",
       "      <th>3</th>\n",
       "      <td>Jasprit Bumrah</td>\n",
       "      <td>IND</td>\n",
       "      <td>700</td>\n",
       "      <td>841 v West Indies, 01/11/2018</td>\n",
       "    </tr>\n",
       "    <tr>\n",
       "      <th>4</th>\n",
       "      <td>Chris Woakes</td>\n",
       "      <td>ENG</td>\n",
       "      <td>675</td>\n",
       "      <td>676 v New Zealand, 14/07/2019</td>\n",
       "    </tr>\n",
       "    <tr>\n",
       "      <th>5</th>\n",
       "      <td>Kagiso Rabada</td>\n",
       "      <td>SA</td>\n",
       "      <td>665</td>\n",
       "      <td>724 v England, 29/05/2017</td>\n",
       "    </tr>\n",
       "    <tr>\n",
       "      <th>6</th>\n",
       "      <td>Josh Hazlewood</td>\n",
       "      <td>AUS</td>\n",
       "      <td>660</td>\n",
       "      <td>733 v England, 26/01/2018</td>\n",
       "    </tr>\n",
       "    <tr>\n",
       "      <th>7</th>\n",
       "      <td>Mohammad Amir</td>\n",
       "      <td>PAK</td>\n",
       "      <td>647</td>\n",
       "      <td>663 v Sri Lanka, 02/10/2019</td>\n",
       "    </tr>\n",
       "    <tr>\n",
       "      <th>8</th>\n",
       "      <td>Pat Cummins</td>\n",
       "      <td>AUS</td>\n",
       "      <td>646</td>\n",
       "      <td>729 v Pakistan, 12/06/2019</td>\n",
       "    </tr>\n",
       "    <tr>\n",
       "      <th>9</th>\n",
       "      <td>Matt Henry</td>\n",
       "      <td>NZ</td>\n",
       "      <td>641</td>\n",
       "      <td>675 v Australia, 08/02/2016</td>\n",
       "    </tr>\n",
       "    <tr>\n",
       "      <th>10</th>\n",
       "      <td>Jofra Archer</td>\n",
       "      <td>ENG</td>\n",
       "      <td>637</td>\n",
       "      <td>642 v Australia, 13/09/2020</td>\n",
       "    </tr>\n",
       "  </tbody>\n",
       "</table>\n",
       "</div>"
      ],
      "text/plain": [
       "          Player_Name Team Rating             Career_Best_Rating\n",
       "POS                                                             \n",
       "1         Trent Boult   NZ    722  770 v West Indies, 22/06/2019\n",
       "2    Mujeeb Ur Rahman  AFG    701  707 v West Indies, 11/11/2019\n",
       "3      Jasprit Bumrah  IND    700  841 v West Indies, 01/11/2018\n",
       "4        Chris Woakes  ENG    675  676 v New Zealand, 14/07/2019\n",
       "5       Kagiso Rabada   SA    665      724 v England, 29/05/2017\n",
       "6      Josh Hazlewood  AUS    660      733 v England, 26/01/2018\n",
       "7       Mohammad Amir  PAK    647    663 v Sri Lanka, 02/10/2019\n",
       "8         Pat Cummins  AUS    646     729 v Pakistan, 12/06/2019\n",
       "9          Matt Henry   NZ    641    675 v Australia, 08/02/2016\n",
       "10       Jofra Archer  ENG    637    642 v Australia, 13/09/2020"
      ]
     },
     "execution_count": 67,
     "metadata": {},
     "output_type": "execute_result"
    }
   ],
   "source": [
    "df.set_index('POS')"
   ]
  },
  {
   "cell_type": "markdown",
   "metadata": {},
   "source": [
    "# Top 10 ODI teams in women’s cricket"
   ]
  },
  {
   "cell_type": "code",
   "execution_count": 68,
   "metadata": {},
   "outputs": [],
   "source": [
    "#webdriver address\n",
    "driver6a=webdriver.Chrome(r\"C:/Users/THIS PC/Downloads/chromedriver_win32/chromedriver.exe\")"
   ]
  },
  {
   "cell_type": "code",
   "execution_count": 69,
   "metadata": {},
   "outputs": [],
   "source": [
    "#url of the website which needs to be scrapped\n",
    "url=\"https://www.icc-cricket.com/rankings/womens/team-rankings/odi\""
   ]
  },
  {
   "cell_type": "code",
   "execution_count": 70,
   "metadata": {},
   "outputs": [],
   "source": [
    "driver6a.get(url)"
   ]
  },
  {
   "cell_type": "code",
   "execution_count": 71,
   "metadata": {},
   "outputs": [],
   "source": [
    "#Creating empty lists\n",
    "POS=[]\n",
    "Team_Name=[]\n",
    "Matches=[]\n",
    "Points=[]\n",
    "Ratings=[]"
   ]
  },
  {
   "cell_type": "code",
   "execution_count": 72,
   "metadata": {},
   "outputs": [
    {
     "name": "stdout",
     "output_type": "stream",
     "text": [
      "1\n",
      "1\n",
      "1\n",
      "1\n"
     ]
    }
   ],
   "source": [
    "#Scrapping the highlighted data in the first row \n",
    "\n",
    "postag1=driver6a.find_element_by_xpath('//td[@class=\"rankings-block__banner--pos\"]')\n",
    "POS.append(postag1.text)\n",
    "print(len(POS))\n",
    "\n",
    "\n",
    "matchtag=driver6a.find_element_by_xpath('//td[@class=\"rankings-block__banner--matches\"]')\n",
    "Matches.append(matchtag.text)\n",
    "print(len(Matches))\n",
    "\n",
    "pointtag=driver6a.find_element_by_xpath('//td[@class=\"rankings-block__banner--points\"]')\n",
    "Points.append(pointtag.text)\n",
    "print(len(Points))\n",
    "\n",
    "ratingtag=driver6a.find_element_by_xpath('//td[@class=\"rankings-block__banner--rating u-text-right\"]')\n",
    "Ratings.append(ratingtag.text)\n",
    "print(len(Ratings))"
   ]
  },
  {
   "cell_type": "code",
   "execution_count": 73,
   "metadata": {},
   "outputs": [
    {
     "name": "stdout",
     "output_type": "stream",
     "text": [
      "10\n",
      "10\n",
      "10\n",
      "10\n",
      "10\n"
     ]
    }
   ],
   "source": [
    "#Scrapping other data\n",
    "postag1=driver6a.find_elements_by_xpath('//td[@class=\"table-body__cell table-body__cell--position u-text-right\"]')\n",
    "\n",
    "for i in postag1:\n",
    "    POS.append(i.text)\n",
    "print(len(POS))\n",
    "\n",
    "\n",
    "nametag1=driver6a.find_elements_by_xpath('//span[@class=\"u-hide-phablet\"]')\n",
    "\n",
    "for i in nametag1:\n",
    "    Team_Name.append(i.text)\n",
    "print(len(Team_Name))\n",
    "\n",
    "matchtag=driver6a.find_elements_by_xpath('//tr[@class=\"table-body\"]/td[3]')\n",
    "\n",
    "for i in matchtag:\n",
    "    Matches.append(i.text)\n",
    "print(len(Matches))\n",
    "\n",
    "pointtag=driver6a.find_elements_by_xpath('//tr[@class=\"table-body\"]/td[4]')\n",
    "\n",
    "for i in pointtag:\n",
    "    Points.append(i.text)\n",
    "print(len(Points))\n",
    "\n",
    "ratingtag=driver6a.find_elements_by_xpath('//td[@class=\"table-body__cell u-text-right rating\"]')\n",
    "\n",
    "for i in ratingtag:\n",
    "    Ratings.append(i.text)\n",
    "print(len(Ratings))"
   ]
  },
  {
   "cell_type": "code",
   "execution_count": 74,
   "metadata": {},
   "outputs": [],
   "source": [
    "data6a=list(zip(POS,Team_Name,Matches,Points,Ratings))"
   ]
  },
  {
   "cell_type": "code",
   "execution_count": 75,
   "metadata": {},
   "outputs": [],
   "source": [
    "df6a=pd.DataFrame(data6a,columns=['POS','Team_Name','Matches','Points','Ratings'])"
   ]
  },
  {
   "cell_type": "code",
   "execution_count": 76,
   "metadata": {},
   "outputs": [
    {
     "data": {
      "text/html": [
       "<div>\n",
       "<style scoped>\n",
       "    .dataframe tbody tr th:only-of-type {\n",
       "        vertical-align: middle;\n",
       "    }\n",
       "\n",
       "    .dataframe tbody tr th {\n",
       "        vertical-align: top;\n",
       "    }\n",
       "\n",
       "    .dataframe thead th {\n",
       "        text-align: right;\n",
       "    }\n",
       "</style>\n",
       "<table border=\"1\" class=\"dataframe\">\n",
       "  <thead>\n",
       "    <tr style=\"text-align: right;\">\n",
       "      <th></th>\n",
       "      <th>Team_Name</th>\n",
       "      <th>Matches</th>\n",
       "      <th>Points</th>\n",
       "      <th>Ratings</th>\n",
       "    </tr>\n",
       "    <tr>\n",
       "      <th>POS</th>\n",
       "      <th></th>\n",
       "      <th></th>\n",
       "      <th></th>\n",
       "      <th></th>\n",
       "    </tr>\n",
       "  </thead>\n",
       "  <tbody>\n",
       "    <tr>\n",
       "      <th>1</th>\n",
       "      <td>Australia</td>\n",
       "      <td>15</td>\n",
       "      <td>2,436</td>\n",
       "      <td>162</td>\n",
       "    </tr>\n",
       "    <tr>\n",
       "      <th>2</th>\n",
       "      <td>India</td>\n",
       "      <td>15</td>\n",
       "      <td>1,812</td>\n",
       "      <td>121</td>\n",
       "    </tr>\n",
       "    <tr>\n",
       "      <th>3</th>\n",
       "      <td>England</td>\n",
       "      <td>14</td>\n",
       "      <td>1,670</td>\n",
       "      <td>119</td>\n",
       "    </tr>\n",
       "    <tr>\n",
       "      <th>4</th>\n",
       "      <td>South Africa</td>\n",
       "      <td>16</td>\n",
       "      <td>1,713</td>\n",
       "      <td>107</td>\n",
       "    </tr>\n",
       "    <tr>\n",
       "      <th>5</th>\n",
       "      <td>New Zealand</td>\n",
       "      <td>15</td>\n",
       "      <td>1,384</td>\n",
       "      <td>92</td>\n",
       "    </tr>\n",
       "    <tr>\n",
       "      <th>6</th>\n",
       "      <td>West Indies</td>\n",
       "      <td>12</td>\n",
       "      <td>1,025</td>\n",
       "      <td>85</td>\n",
       "    </tr>\n",
       "    <tr>\n",
       "      <th>7</th>\n",
       "      <td>Pakistan</td>\n",
       "      <td>12</td>\n",
       "      <td>927</td>\n",
       "      <td>77</td>\n",
       "    </tr>\n",
       "    <tr>\n",
       "      <th>8</th>\n",
       "      <td>Bangladesh</td>\n",
       "      <td>5</td>\n",
       "      <td>306</td>\n",
       "      <td>61</td>\n",
       "    </tr>\n",
       "    <tr>\n",
       "      <th>9</th>\n",
       "      <td>Sri Lanka</td>\n",
       "      <td>11</td>\n",
       "      <td>519</td>\n",
       "      <td>47</td>\n",
       "    </tr>\n",
       "    <tr>\n",
       "      <th>10</th>\n",
       "      <td>Ireland</td>\n",
       "      <td>2</td>\n",
       "      <td>25</td>\n",
       "      <td>13</td>\n",
       "    </tr>\n",
       "  </tbody>\n",
       "</table>\n",
       "</div>"
      ],
      "text/plain": [
       "        Team_Name Matches Points Ratings\n",
       "POS                                     \n",
       "1       Australia      15  2,436     162\n",
       "2           India      15  1,812     121\n",
       "3         England      14  1,670     119\n",
       "4    South Africa      16  1,713     107\n",
       "5     New Zealand      15  1,384      92\n",
       "6     West Indies      12  1,025      85\n",
       "7        Pakistan      12    927      77\n",
       "8      Bangladesh       5    306      61\n",
       "9       Sri Lanka      11    519      47\n",
       "10        Ireland       2     25      13"
      ]
     },
     "execution_count": 76,
     "metadata": {},
     "output_type": "execute_result"
    }
   ],
   "source": [
    "df6a.set_index(\"POS\")"
   ]
  },
  {
   "cell_type": "markdown",
   "metadata": {},
   "source": [
    "# TOP 10 ODI player-Women's Cricket"
   ]
  },
  {
   "cell_type": "code",
   "execution_count": 77,
   "metadata": {},
   "outputs": [],
   "source": [
    "driver6b=webdriver.Chrome(r\"C:/Users/THIS PC/Downloads/chromedriver_win32/chromedriver.exe\")"
   ]
  },
  {
   "cell_type": "code",
   "execution_count": 78,
   "metadata": {},
   "outputs": [],
   "source": [
    "url=\"https://www.icc-cricket.com/rankings/womens/player-rankings/odi/batting\""
   ]
  },
  {
   "cell_type": "code",
   "execution_count": 79,
   "metadata": {},
   "outputs": [],
   "source": [
    "driver6b.get(url)"
   ]
  },
  {
   "cell_type": "code",
   "execution_count": 80,
   "metadata": {},
   "outputs": [],
   "source": [
    "#Creating empty lists\n",
    "POS=[]\n",
    "Player_Name=[]\n",
    "Team=[]\n",
    "Rating=[]\n",
    "Career_Best_Rating=[]"
   ]
  },
  {
   "cell_type": "code",
   "execution_count": 81,
   "metadata": {},
   "outputs": [
    {
     "name": "stdout",
     "output_type": "stream",
     "text": [
      "1\n",
      "1\n",
      "1\n",
      "1\n",
      "1\n"
     ]
    }
   ],
   "source": [
    "#Scrapping highlighted data  \n",
    "postag1=driver6b.find_element_by_xpath('//td[@class=\"rankings-block__position\"]')\n",
    "POS.append(postag1.text)\n",
    "print(len(POS))\n",
    "\n",
    "nametag1=driver6b.find_element_by_xpath('//div[@class=\"rankings-block__banner--name-large\"]')\n",
    "Player_Name.append(nametag1.text)\n",
    "print(len(Player_Name))\n",
    "\n",
    "teamtag=driver6b.find_element_by_xpath('//div[@class=\"rankings-block__banner--nationality\"]')\n",
    "Team.append(teamtag.text)\n",
    "print(len(Team))\n",
    "\n",
    "ratingtag=driver6b.find_element_by_xpath('//div[@class=\"rankings-block__banner--rating\"]')\n",
    "Rating.append(ratingtag.text)\n",
    "print(len(Rating))\n",
    "\n",
    "careerbesttag=driver6b.find_element_by_xpath('//span[@class=\"rankings-block__career-best-text\"]')\n",
    "Career_Best_Rating.append(careerbesttag.text)\n",
    "print(len(Career_Best_Rating))\n"
   ]
  },
  {
   "cell_type": "code",
   "execution_count": 82,
   "metadata": {},
   "outputs": [
    {
     "name": "stdout",
     "output_type": "stream",
     "text": [
      "100\n",
      "100\n",
      "100\n",
      "100\n",
      "100\n"
     ]
    }
   ],
   "source": [
    "#Scrapping the remaining data\n",
    "postag=driver6b.find_elements_by_xpath('//td[@class=\"table-body__cell table-body__cell--position u-text-right\"]')\n",
    "\n",
    "for i in postag:\n",
    "    POS.append(i.text)\n",
    "print(len(POS))\n",
    "\n",
    "nametag=driver6b.find_elements_by_xpath('//td[@class=\"table-body__cell rankings-table__name name\"]')\n",
    "\n",
    "for i in nametag:\n",
    "    Player_Name.append(i.text)\n",
    "print(len(Player_Name))\n",
    "\n",
    "teamtag1=driver6b.find_elements_by_xpath('//span[@class=\"table-body__logo-text\"]')\n",
    "for i in teamtag1:\n",
    "    Team.append(i.text)\n",
    "print(len(Team))\n",
    "\n",
    "ratingtag1=driver6b.find_elements_by_xpath('//td[@class=\"table-body__cell rating\"]')\n",
    "for i in ratingtag1:\n",
    "    Rating.append(i.text)\n",
    "print(len(Rating))\n",
    "\n",
    "careerbesttag1=driver6b.find_elements_by_xpath('//td[@class=\"table-body__cell u-text-right u-hide-phablet\"]')\n",
    "for i in careerbesttag1:\n",
    "    Career_Best_Rating.append(i.text)\n",
    "print(len(Career_Best_Rating))\n"
   ]
  },
  {
   "cell_type": "code",
   "execution_count": 83,
   "metadata": {},
   "outputs": [],
   "source": [
    "#Creating data frame\n",
    "\n",
    "data=(zip(POS,Player_Name,Team,Rating,Career_Best_Rating))\n",
    "\n",
    "sample_df=pd.DataFrame(data,columns=['POS','Player_Name','Team','Rating','Career_Best_Rating'],index=POS)\n",
    "\n",
    "df=sample_df[0:10]\n"
   ]
  },
  {
   "cell_type": "code",
   "execution_count": 84,
   "metadata": {},
   "outputs": [
    {
     "data": {
      "text/html": [
       "<div>\n",
       "<style scoped>\n",
       "    .dataframe tbody tr th:only-of-type {\n",
       "        vertical-align: middle;\n",
       "    }\n",
       "\n",
       "    .dataframe tbody tr th {\n",
       "        vertical-align: top;\n",
       "    }\n",
       "\n",
       "    .dataframe thead th {\n",
       "        text-align: right;\n",
       "    }\n",
       "</style>\n",
       "<table border=\"1\" class=\"dataframe\">\n",
       "  <thead>\n",
       "    <tr style=\"text-align: right;\">\n",
       "      <th></th>\n",
       "      <th>Player_Name</th>\n",
       "      <th>Team</th>\n",
       "      <th>Rating</th>\n",
       "      <th>Career_Best_Rating</th>\n",
       "    </tr>\n",
       "    <tr>\n",
       "      <th>POS</th>\n",
       "      <th></th>\n",
       "      <th></th>\n",
       "      <th></th>\n",
       "      <th></th>\n",
       "    </tr>\n",
       "  </thead>\n",
       "  <tbody>\n",
       "    <tr>\n",
       "      <th>1</th>\n",
       "      <td>Meg Lanning</td>\n",
       "      <td>AUS</td>\n",
       "      <td>749</td>\n",
       "      <td>834 v New Zealand, 24/02/2016</td>\n",
       "    </tr>\n",
       "    <tr>\n",
       "      <th>2</th>\n",
       "      <td>Stafanie Taylor</td>\n",
       "      <td>WI</td>\n",
       "      <td>746</td>\n",
       "      <td>765 v India, 02/03/2012</td>\n",
       "    </tr>\n",
       "    <tr>\n",
       "      <th>3</th>\n",
       "      <td>Alyssa Healy</td>\n",
       "      <td>AUS</td>\n",
       "      <td>741</td>\n",
       "      <td>741 v New Zealand, 07/10/2020</td>\n",
       "    </tr>\n",
       "    <tr>\n",
       "      <th>4</th>\n",
       "      <td>Smriti Mandhana</td>\n",
       "      <td>IND</td>\n",
       "      <td>732</td>\n",
       "      <td>797 v England, 28/02/2019</td>\n",
       "    </tr>\n",
       "    <tr>\n",
       "      <th>5</th>\n",
       "      <td>Amy Satterthwaite</td>\n",
       "      <td>NZ</td>\n",
       "      <td>723</td>\n",
       "      <td>756 v Australia, 02/03/2017</td>\n",
       "    </tr>\n",
       "    <tr>\n",
       "      <th>6</th>\n",
       "      <td>Tammy Beaumont</td>\n",
       "      <td>ENG</td>\n",
       "      <td>716</td>\n",
       "      <td>738 v Australia, 04/07/2019</td>\n",
       "    </tr>\n",
       "    <tr>\n",
       "      <th>7</th>\n",
       "      <td>Ellyse Perry</td>\n",
       "      <td>AUS</td>\n",
       "      <td>691</td>\n",
       "      <td>766 v West Indies, 11/09/2019</td>\n",
       "    </tr>\n",
       "    <tr>\n",
       "      <th>8</th>\n",
       "      <td>Lizelle Lee</td>\n",
       "      <td>SA</td>\n",
       "      <td>690</td>\n",
       "      <td>752 v England, 12/06/2018</td>\n",
       "    </tr>\n",
       "    <tr>\n",
       "      <th>9</th>\n",
       "      <td>Laura Wolvaardt</td>\n",
       "      <td>SA</td>\n",
       "      <td>689</td>\n",
       "      <td>712 v New Zealand, 25/01/2020</td>\n",
       "    </tr>\n",
       "    <tr>\n",
       "      <th>10</th>\n",
       "      <td>Mithali Raj</td>\n",
       "      <td>IND</td>\n",
       "      <td>687</td>\n",
       "      <td>839 v Australia, 24/12/2004</td>\n",
       "    </tr>\n",
       "  </tbody>\n",
       "</table>\n",
       "</div>"
      ],
      "text/plain": [
       "           Player_Name Team Rating             Career_Best_Rating\n",
       "POS                                                              \n",
       "1          Meg Lanning  AUS    749  834 v New Zealand, 24/02/2016\n",
       "2      Stafanie Taylor   WI    746        765 v India, 02/03/2012\n",
       "3         Alyssa Healy  AUS    741  741 v New Zealand, 07/10/2020\n",
       "4      Smriti Mandhana  IND    732      797 v England, 28/02/2019\n",
       "5    Amy Satterthwaite   NZ    723    756 v Australia, 02/03/2017\n",
       "6       Tammy Beaumont  ENG    716    738 v Australia, 04/07/2019\n",
       "7         Ellyse Perry  AUS    691  766 v West Indies, 11/09/2019\n",
       "8          Lizelle Lee   SA    690      752 v England, 12/06/2018\n",
       "9      Laura Wolvaardt   SA    689  712 v New Zealand, 25/01/2020\n",
       "10         Mithali Raj  IND    687    839 v Australia, 24/12/2004"
      ]
     },
     "execution_count": 84,
     "metadata": {},
     "output_type": "execute_result"
    }
   ],
   "source": [
    "df.set_index(\"POS\")"
   ]
  },
  {
   "cell_type": "markdown",
   "metadata": {},
   "source": [
    "# Top 10 ODI Bowlers-Women's Cricket"
   ]
  },
  {
   "cell_type": "code",
   "execution_count": 85,
   "metadata": {},
   "outputs": [],
   "source": [
    "driver6c=webdriver.Chrome(r\"C:/Users/THIS PC/Downloads/chromedriver_win32/chromedriver.exe\")"
   ]
  },
  {
   "cell_type": "code",
   "execution_count": 86,
   "metadata": {},
   "outputs": [],
   "source": [
    "url=\"https://www.icc-cricket.com/rankings/womens/player-rankings/odi/bowling\""
   ]
  },
  {
   "cell_type": "code",
   "execution_count": 87,
   "metadata": {},
   "outputs": [],
   "source": [
    "driver6c.get(url)"
   ]
  },
  {
   "cell_type": "code",
   "execution_count": 88,
   "metadata": {},
   "outputs": [],
   "source": [
    "#Creating empty lists\n",
    "POS=[]\n",
    "Player_Name=[]\n",
    "Team=[]\n",
    "Rating=[]\n",
    "Career_Best_Rating=[]"
   ]
  },
  {
   "cell_type": "code",
   "execution_count": 89,
   "metadata": {},
   "outputs": [
    {
     "name": "stdout",
     "output_type": "stream",
     "text": [
      "1\n",
      "1\n",
      "1\n",
      "1\n",
      "1\n"
     ]
    }
   ],
   "source": [
    "#Scrapping highlighted data\n",
    "postag1=driver6c.find_element_by_xpath('//td[@class=\"rankings-block__position\"]')\n",
    "POS.append(postag1.text)\n",
    "print(len(POS))\n",
    "\n",
    "nametag1=driver6c.find_element_by_xpath('//div[@class=\"rankings-block__banner--name-large\"]')\n",
    "Player_Name.append(nametag1.text)\n",
    "print(len(Player_Name))\n",
    "\n",
    "teamtag=driver6c.find_element_by_xpath('//div[@class=\"rankings-block__banner--nationality\"]')\n",
    "Team.append(teamtag.text)\n",
    "print(len(Team))\n",
    "\n",
    "ratingtag=driver6c.find_element_by_xpath('//div[@class=\"rankings-block__banner--rating\"]')\n",
    "Rating.append(ratingtag.text)\n",
    "print(len(Rating))\n",
    "\n",
    "careerbesttag=driver6c.find_element_by_xpath('//span[@class=\"rankings-block__career-best-text\"]')\n",
    "Career_Best_Rating.append(careerbesttag.text)\n",
    "print(len(Career_Best_Rating))"
   ]
  },
  {
   "cell_type": "code",
   "execution_count": 90,
   "metadata": {},
   "outputs": [
    {
     "name": "stdout",
     "output_type": "stream",
     "text": [
      "100\n",
      "100\n",
      "100\n",
      "100\n",
      "100\n"
     ]
    }
   ],
   "source": [
    "#Scrapping remaining data\n",
    "postag=driver6c.find_elements_by_xpath('//td[@class=\"table-body__cell table-body__cell--position u-text-right\"]')\n",
    "\n",
    "for i in postag:\n",
    "    POS.append(i.text)\n",
    "print(len(POS))\n",
    "\n",
    "nametag=driver6c.find_elements_by_xpath('//td[@class=\"table-body__cell rankings-table__name name\"]')\n",
    "\n",
    "for i in nametag:\n",
    "    Player_Name.append(i.text)\n",
    "print(len(Player_Name))\n",
    "\n",
    "teamtag1=driver6c.find_elements_by_xpath('//span[@class=\"table-body__logo-text\"]')\n",
    "for i in teamtag1:\n",
    "    Team.append(i.text)\n",
    "print(len(Team))\n",
    "\n",
    "ratingtag1=driver6c.find_elements_by_xpath('//td[@class=\"table-body__cell rating\"]')\n",
    "for i in ratingtag1:\n",
    "    Rating.append(i.text)\n",
    "print(len(Rating))\n",
    "\n",
    "careerbesttag1=driver6c.find_elements_by_xpath('//td[@class=\"table-body__cell u-text-right u-hide-phablet\"]')\n",
    "for i in careerbesttag1:\n",
    "    Career_Best_Rating.append(i.text)\n",
    "print(len(Career_Best_Rating))\n"
   ]
  },
  {
   "cell_type": "code",
   "execution_count": 91,
   "metadata": {},
   "outputs": [],
   "source": [
    "#Creating data frame\n",
    "data6c=(zip(POS,Player_Name,Team,Rating,Career_Best_Rating))\n",
    "\n",
    "sample_df=pd.DataFrame(data6c,columns=['POS','Player_Name','Team','Rating','Career_Best_Rating'])\n",
    "\n",
    "df=sample_df[0:10]\n"
   ]
  },
  {
   "cell_type": "code",
   "execution_count": 92,
   "metadata": {},
   "outputs": [
    {
     "data": {
      "text/html": [
       "<div>\n",
       "<style scoped>\n",
       "    .dataframe tbody tr th:only-of-type {\n",
       "        vertical-align: middle;\n",
       "    }\n",
       "\n",
       "    .dataframe tbody tr th {\n",
       "        vertical-align: top;\n",
       "    }\n",
       "\n",
       "    .dataframe thead th {\n",
       "        text-align: right;\n",
       "    }\n",
       "</style>\n",
       "<table border=\"1\" class=\"dataframe\">\n",
       "  <thead>\n",
       "    <tr style=\"text-align: right;\">\n",
       "      <th></th>\n",
       "      <th>Player_Name</th>\n",
       "      <th>Team</th>\n",
       "      <th>Rating</th>\n",
       "      <th>Career_Best_Rating</th>\n",
       "    </tr>\n",
       "    <tr>\n",
       "      <th>POS</th>\n",
       "      <th></th>\n",
       "      <th></th>\n",
       "      <th></th>\n",
       "      <th></th>\n",
       "    </tr>\n",
       "  </thead>\n",
       "  <tbody>\n",
       "    <tr>\n",
       "      <th>1</th>\n",
       "      <td>Jess Jonassen</td>\n",
       "      <td>AUS</td>\n",
       "      <td>804</td>\n",
       "      <td>804 v New Zealand, 07/10/2020</td>\n",
       "    </tr>\n",
       "    <tr>\n",
       "      <th>2</th>\n",
       "      <td>Marizanne Kapp</td>\n",
       "      <td>SA</td>\n",
       "      <td>738</td>\n",
       "      <td>738 v New Zealand, 30/01/2020</td>\n",
       "    </tr>\n",
       "    <tr>\n",
       "      <th>3</th>\n",
       "      <td>Megan Schutt</td>\n",
       "      <td>AUS</td>\n",
       "      <td>735</td>\n",
       "      <td>766 v West Indies, 11/09/2019</td>\n",
       "    </tr>\n",
       "    <tr>\n",
       "      <th>4</th>\n",
       "      <td>Shabnim Ismail</td>\n",
       "      <td>SA</td>\n",
       "      <td>717</td>\n",
       "      <td>717 v New Zealand, 30/01/2020</td>\n",
       "    </tr>\n",
       "    <tr>\n",
       "      <th>5</th>\n",
       "      <td>Jhulan Goswami</td>\n",
       "      <td>IND</td>\n",
       "      <td>691</td>\n",
       "      <td>796 v England, 28/02/2007</td>\n",
       "    </tr>\n",
       "    <tr>\n",
       "      <th>6</th>\n",
       "      <td>Poonam Yadav</td>\n",
       "      <td>IND</td>\n",
       "      <td>679</td>\n",
       "      <td>680 v West Indies, 06/11/2019</td>\n",
       "    </tr>\n",
       "    <tr>\n",
       "      <th>7</th>\n",
       "      <td>Shikha Pandey</td>\n",
       "      <td>IND</td>\n",
       "      <td>675</td>\n",
       "      <td>696 v South Africa, 11/10/2019</td>\n",
       "    </tr>\n",
       "    <tr>\n",
       "      <th>8</th>\n",
       "      <td>Ellyse Perry</td>\n",
       "      <td>AUS</td>\n",
       "      <td>666</td>\n",
       "      <td>719 v West Indies, 05/09/2019</td>\n",
       "    </tr>\n",
       "    <tr>\n",
       "      <th>9</th>\n",
       "      <td>Anya Shrubsole</td>\n",
       "      <td>ENG</td>\n",
       "      <td>645</td>\n",
       "      <td>655 v Pakistan, 12/12/2019</td>\n",
       "    </tr>\n",
       "    <tr>\n",
       "      <th>10</th>\n",
       "      <td>Deepti Sharma</td>\n",
       "      <td>IND</td>\n",
       "      <td>639</td>\n",
       "      <td>650 v England, 22/02/2019</td>\n",
       "    </tr>\n",
       "  </tbody>\n",
       "</table>\n",
       "</div>"
      ],
      "text/plain": [
       "        Player_Name Team Rating              Career_Best_Rating\n",
       "POS                                                            \n",
       "1     Jess Jonassen  AUS    804   804 v New Zealand, 07/10/2020\n",
       "2    Marizanne Kapp   SA    738   738 v New Zealand, 30/01/2020\n",
       "3      Megan Schutt  AUS    735   766 v West Indies, 11/09/2019\n",
       "4    Shabnim Ismail   SA    717   717 v New Zealand, 30/01/2020\n",
       "5    Jhulan Goswami  IND    691       796 v England, 28/02/2007\n",
       "6      Poonam Yadav  IND    679   680 v West Indies, 06/11/2019\n",
       "7     Shikha Pandey  IND    675  696 v South Africa, 11/10/2019\n",
       "8      Ellyse Perry  AUS    666   719 v West Indies, 05/09/2019\n",
       "9    Anya Shrubsole  ENG    645      655 v Pakistan, 12/12/2019\n",
       "10    Deepti Sharma  IND    639       650 v England, 22/02/2019"
      ]
     },
     "execution_count": 92,
     "metadata": {},
     "output_type": "execute_result"
    }
   ],
   "source": [
    "df.set_index('POS')"
   ]
  },
  {
   "cell_type": "markdown",
   "metadata": {},
   "source": [
    "# 7.Mobiles under 20000 -Amazon"
   ]
  },
  {
   "cell_type": "code",
   "execution_count": 93,
   "metadata": {},
   "outputs": [],
   "source": [
    "#Importing necessary libraries\n",
    "import pandas as pd\n",
    "from selenium import webdriver\n",
    "import selenium\n",
    "from selenium.common.exceptions import NoSuchElementException\n",
    "import time"
   ]
  },
  {
   "cell_type": "code",
   "execution_count": 94,
   "metadata": {},
   "outputs": [],
   "source": [
    "#webdriver address\n",
    "driver7=webdriver.Chrome(r\"C:/Users/THIS PC/Downloads/chromedriver_win32/chromedriver.exe\")"
   ]
  },
  {
   "cell_type": "code",
   "execution_count": 95,
   "metadata": {},
   "outputs": [],
   "source": [
    "#url of the website which needs to be scrapped\n",
    "url=\"https://www.amazon.in/Smartphones-%E2%82%B910-000-%E2%82%B920-Basic-Mobiles/s?rh=n%3A1805560031%2Cp_36%3A1318506031\""
   ]
  },
  {
   "cell_type": "code",
   "execution_count": 96,
   "metadata": {},
   "outputs": [],
   "source": [
    "driver7.get(url)"
   ]
  },
  {
   "cell_type": "code",
   "execution_count": 97,
   "metadata": {},
   "outputs": [],
   "source": [
    "#Creating empty lists\n",
    "Product_name=[]\n",
    "Price=[]\n",
    "Image_URL=[]\n",
    "Customer_Reviews=[]\n",
    "Average_Rating=[]"
   ]
  },
  {
   "cell_type": "code",
   "execution_count": 98,
   "metadata": {},
   "outputs": [],
   "source": [
    "for i in range(1,25):\n",
    "    \n",
    "    #Extracting the product name\n",
    "    try:\n",
    "        product=driver7.find_elements_by_xpath('//span[@class=\"a-size-medium a-color-base a-text-normal\"]')\n",
    "        for j in product:\n",
    "            Product_name.append(j.text)\n",
    "        \n",
    "    except NoSuchElementException:\n",
    "        Product_name.append(\"Not Available\")\n",
    "  \n",
    "   \n",
    "    \n",
    "    #Extracting the image_url\n",
    "    try:\n",
    "        image=driver7.find_elements_by_xpath('//img[@class=\"s-image\"]')\n",
    "        for k in image:\n",
    "            url=k.get_attribute('srcset')\n",
    "            Image_URL.append(url)\n",
    "\n",
    "\n",
    "    except NoSuchElementException:\n",
    "        Image_URL.append(\"Not Available\")\n",
    " \n",
    "\n",
    "   #Extracting the price of the product\n",
    "    try:\n",
    "        price=driver7.find_elements_by_xpath('//span[@class=\"a-price-whole\"]')\n",
    "        for l in price:\n",
    "            Price.append(l.text)\n",
    "\n",
    "    except NoSuchElementException:\n",
    "        Price.append(\"Not Available\")\n",
    "        \n",
    "    #Extracting the customer review    \n",
    "    try:\n",
    "        customer=driver7.find_elements_by_xpath('//span[@class=\"a-size-base\"]')\n",
    "        for i in customer:\n",
    "            Customer_Reviews.append(i.text)\n",
    "    except NoSuchElementException:\n",
    "        Customer_Reviews.append(\"Not found\")\n",
    "        \n",
    "\n",
    "    driver7.find_element_by_xpath('//li[@class=\"a-normal\"]').click()\n",
    "    time.sleep(3)\n",
    "       "
   ]
  },
  {
   "cell_type": "code",
   "execution_count": 99,
   "metadata": {},
   "outputs": [
    {
     "data": {
      "text/plain": [
       "(576, 576, 576, 576)"
      ]
     },
     "execution_count": 99,
     "metadata": {},
     "output_type": "execute_result"
    }
   ],
   "source": [
    "#finding the length of the lists\n",
    "len(Product_name),len(Price),len(Image_URL),len(Customer_Reviews)"
   ]
  },
  {
   "cell_type": "code",
   "execution_count": 100,
   "metadata": {},
   "outputs": [],
   "source": [
    "#computing data\n",
    "data7=list(zip(Product_name,Price,Image_URL,Customer_Reviews))"
   ]
  },
  {
   "cell_type": "code",
   "execution_count": 101,
   "metadata": {},
   "outputs": [],
   "source": [
    "#Creating dataframe\n",
    "df=pd.DataFrame(data7,columns=[\"Product_name\",\"Price\",\"Image_URL\",\"Customer_Reviews\"])"
   ]
  },
  {
   "cell_type": "code",
   "execution_count": 102,
   "metadata": {},
   "outputs": [
    {
     "data": {
      "text/html": [
       "<div>\n",
       "<style scoped>\n",
       "    .dataframe tbody tr th:only-of-type {\n",
       "        vertical-align: middle;\n",
       "    }\n",
       "\n",
       "    .dataframe tbody tr th {\n",
       "        vertical-align: top;\n",
       "    }\n",
       "\n",
       "    .dataframe thead th {\n",
       "        text-align: right;\n",
       "    }\n",
       "</style>\n",
       "<table border=\"1\" class=\"dataframe\">\n",
       "  <thead>\n",
       "    <tr style=\"text-align: right;\">\n",
       "      <th></th>\n",
       "      <th>Product_name</th>\n",
       "      <th>Price</th>\n",
       "      <th>Image_URL</th>\n",
       "      <th>Customer_Reviews</th>\n",
       "    </tr>\n",
       "  </thead>\n",
       "  <tbody>\n",
       "    <tr>\n",
       "      <th>0</th>\n",
       "      <td>Redmi Note 9 Pro (Aurora Blue, 4GB RAM, 64GB S...</td>\n",
       "      <td>12,999</td>\n",
       "      <td>https://m.media-amazon.com/images/I/81pzsRpE5G...</td>\n",
       "      <td>28,878</td>\n",
       "    </tr>\n",
       "    <tr>\n",
       "      <th>1</th>\n",
       "      <td>Samsung Galaxy M31 (Ocean Blue, 6GB RAM, 128GB...</td>\n",
       "      <td>16,499</td>\n",
       "      <td>https://m.media-amazon.com/images/I/71-Su4Wr0H...</td>\n",
       "      <td>125,599</td>\n",
       "    </tr>\n",
       "    <tr>\n",
       "      <th>2</th>\n",
       "      <td>Redmi Note 9 Pro (Interstellar Black, 4GB RAM,...</td>\n",
       "      <td>12,999</td>\n",
       "      <td>https://m.media-amazon.com/images/I/91Lr-OxVKj...</td>\n",
       "      <td>28,878</td>\n",
       "    </tr>\n",
       "    <tr>\n",
       "      <th>3</th>\n",
       "      <td>Samsung Galaxy M31 Prime Edition (Space Black,...</td>\n",
       "      <td>16,499</td>\n",
       "      <td>https://m.media-amazon.com/images/I/71Sinqbw35...</td>\n",
       "      <td>125,599</td>\n",
       "    </tr>\n",
       "    <tr>\n",
       "      <th>4</th>\n",
       "      <td>Redmi 9 Power (Blazing Blue, 4GB RAM, 64GB Sto...</td>\n",
       "      <td>10,999</td>\n",
       "      <td>https://m.media-amazon.com/images/I/71XbGanz3q...</td>\n",
       "      <td>818</td>\n",
       "    </tr>\n",
       "    <tr>\n",
       "      <th>...</th>\n",
       "      <td>...</td>\n",
       "      <td>...</td>\n",
       "      <td>...</td>\n",
       "      <td>...</td>\n",
       "    </tr>\n",
       "    <tr>\n",
       "      <th>571</th>\n",
       "      <td>Samsung Galaxy M31 Prime Edition (Ocean Blue, ...</td>\n",
       "      <td>16,499</td>\n",
       "      <td>https://m.media-amazon.com/images/I/71zb0UaK0P...</td>\n",
       "      <td>125,599</td>\n",
       "    </tr>\n",
       "    <tr>\n",
       "      <th>572</th>\n",
       "      <td>Samsung Galaxy M31 (Space Black, 6GB RAM, 64GB...</td>\n",
       "      <td>15,999</td>\n",
       "      <td>https://m.media-amazon.com/images/I/71OxJeyywS...</td>\n",
       "      <td>125,599</td>\n",
       "    </tr>\n",
       "    <tr>\n",
       "      <th>573</th>\n",
       "      <td>Redmi Note 9 Pro Max (Champagne Gold, 6GB RAM,...</td>\n",
       "      <td>18,499</td>\n",
       "      <td>https://m.media-amazon.com/images/I/81Ox29uGzN...</td>\n",
       "      <td>26,295</td>\n",
       "    </tr>\n",
       "    <tr>\n",
       "      <th>574</th>\n",
       "      <td>Redmi Note 9 (Aqua Green, 6GB RAM 128GB Storag...</td>\n",
       "      <td>14,499</td>\n",
       "      <td>https://m.media-amazon.com/images/I/81EjHa-dSJ...</td>\n",
       "      <td>24,305</td>\n",
       "    </tr>\n",
       "    <tr>\n",
       "      <th>575</th>\n",
       "      <td>Nokia 5.3 Android One Smartphone with Quad Cam...</td>\n",
       "      <td>13,499</td>\n",
       "      <td>https://m.media-amazon.com/images/I/61L1ItFgFH...</td>\n",
       "      <td>2,545</td>\n",
       "    </tr>\n",
       "  </tbody>\n",
       "</table>\n",
       "<p>576 rows × 4 columns</p>\n",
       "</div>"
      ],
      "text/plain": [
       "                                          Product_name   Price  \\\n",
       "0    Redmi Note 9 Pro (Aurora Blue, 4GB RAM, 64GB S...  12,999   \n",
       "1    Samsung Galaxy M31 (Ocean Blue, 6GB RAM, 128GB...  16,499   \n",
       "2    Redmi Note 9 Pro (Interstellar Black, 4GB RAM,...  12,999   \n",
       "3    Samsung Galaxy M31 Prime Edition (Space Black,...  16,499   \n",
       "4    Redmi 9 Power (Blazing Blue, 4GB RAM, 64GB Sto...  10,999   \n",
       "..                                                 ...     ...   \n",
       "571  Samsung Galaxy M31 Prime Edition (Ocean Blue, ...  16,499   \n",
       "572  Samsung Galaxy M31 (Space Black, 6GB RAM, 64GB...  15,999   \n",
       "573  Redmi Note 9 Pro Max (Champagne Gold, 6GB RAM,...  18,499   \n",
       "574  Redmi Note 9 (Aqua Green, 6GB RAM 128GB Storag...  14,499   \n",
       "575  Nokia 5.3 Android One Smartphone with Quad Cam...  13,499   \n",
       "\n",
       "                                             Image_URL Customer_Reviews  \n",
       "0    https://m.media-amazon.com/images/I/81pzsRpE5G...           28,878  \n",
       "1    https://m.media-amazon.com/images/I/71-Su4Wr0H...          125,599  \n",
       "2    https://m.media-amazon.com/images/I/91Lr-OxVKj...           28,878  \n",
       "3    https://m.media-amazon.com/images/I/71Sinqbw35...          125,599  \n",
       "4    https://m.media-amazon.com/images/I/71XbGanz3q...              818  \n",
       "..                                                 ...              ...  \n",
       "571  https://m.media-amazon.com/images/I/71zb0UaK0P...          125,599  \n",
       "572  https://m.media-amazon.com/images/I/71OxJeyywS...          125,599  \n",
       "573  https://m.media-amazon.com/images/I/81Ox29uGzN...           26,295  \n",
       "574  https://m.media-amazon.com/images/I/81EjHa-dSJ...           24,305  \n",
       "575  https://m.media-amazon.com/images/I/61L1ItFgFH...            2,545  \n",
       "\n",
       "[576 rows x 4 columns]"
      ]
     },
     "execution_count": 102,
     "metadata": {},
     "output_type": "execute_result"
    }
   ],
   "source": [
    "df"
   ]
  },
  {
   "cell_type": "markdown",
   "metadata": {},
   "source": [
    "# 8.National Weather Forecasting"
   ]
  },
  {
   "cell_type": "code",
   "execution_count": 103,
   "metadata": {},
   "outputs": [],
   "source": [
    "#Importing necesary libraries\n",
    "import pandas as pd\n",
    "from selenium import webdriver\n",
    "import selenium"
   ]
  },
  {
   "cell_type": "code",
   "execution_count": 104,
   "metadata": {},
   "outputs": [],
   "source": [
    "#Creating empty lists\n",
    "Period=[]\n",
    "Short_description=[]\n",
    "Temperature=[]\n",
    "Description=[]"
   ]
  },
  {
   "cell_type": "code",
   "execution_count": 105,
   "metadata": {},
   "outputs": [],
   "source": [
    "#webdriver's address\n",
    "driver8=webdriver.Chrome(r\"C:/Users/THIS PC/Downloads/chromedriver_win32/chromedriver.exe\")"
   ]
  },
  {
   "cell_type": "code",
   "execution_count": 106,
   "metadata": {},
   "outputs": [],
   "source": [
    "#url of the website which needs to be scrapped\n",
    "url=\"https://forecast.weather.gov/MapClick.php?lat=37.777120000000025&lon=-122.41963999999996#.YAGuYOgzY70\""
   ]
  },
  {
   "cell_type": "code",
   "execution_count": 107,
   "metadata": {},
   "outputs": [],
   "source": [
    "driver8.get(url)"
   ]
  },
  {
   "cell_type": "code",
   "execution_count": 108,
   "metadata": {},
   "outputs": [],
   "source": [
    "#Extracting the period\n",
    "periodtag=driver8.find_elements_by_xpath('//p[@class=\"period-name\"]')\n",
    "for i in periodtag:\n",
    "     Period.append(i.text)\n",
    "        \n",
    "#Extracting short description\n",
    "shorttag=driver8.find_elements_by_xpath('//p[@class=\"short-desc\"]')\n",
    "for i in shorttag:\n",
    "    Short_description.append(i.text)\n",
    "    \n",
    "\n",
    "#Extracting the description    \n",
    "desc=driver8.find_elements_by_xpath('//div[@class=\"col-sm-10 forecast-text\"]')\n",
    "for i in desc:\n",
    "    Description.append(i.text)\n",
    "                                         "
   ]
  },
  {
   "cell_type": "code",
   "execution_count": 109,
   "metadata": {},
   "outputs": [],
   "source": [
    "data8=list(zip(Period,Short_description,Description))"
   ]
  },
  {
   "cell_type": "code",
   "execution_count": 110,
   "metadata": {},
   "outputs": [],
   "source": [
    "#Creating dataframe\n",
    "df8=pd.DataFrame(data8,columns=[\"Period\",\"Short_description\",'Description'])"
   ]
  },
  {
   "cell_type": "code",
   "execution_count": 112,
   "metadata": {},
   "outputs": [],
   "source": [
    "df8=df8.iloc[1:]"
   ]
  },
  {
   "cell_type": "code",
   "execution_count": 113,
   "metadata": {},
   "outputs": [
    {
     "data": {
      "text/html": [
       "<div>\n",
       "<style scoped>\n",
       "    .dataframe tbody tr th:only-of-type {\n",
       "        vertical-align: middle;\n",
       "    }\n",
       "\n",
       "    .dataframe tbody tr th {\n",
       "        vertical-align: top;\n",
       "    }\n",
       "\n",
       "    .dataframe thead th {\n",
       "        text-align: right;\n",
       "    }\n",
       "</style>\n",
       "<table border=\"1\" class=\"dataframe\">\n",
       "  <thead>\n",
       "    <tr style=\"text-align: right;\">\n",
       "      <th></th>\n",
       "      <th>Period</th>\n",
       "      <th>Short_description</th>\n",
       "      <th>Description</th>\n",
       "    </tr>\n",
       "  </thead>\n",
       "  <tbody>\n",
       "    <tr>\n",
       "      <th>1</th>\n",
       "      <td>M.L.King\\nDay</td>\n",
       "      <td>Sunny</td>\n",
       "      <td>Clear, with a low around 52. Breezy, with a no...</td>\n",
       "    </tr>\n",
       "    <tr>\n",
       "      <th>2</th>\n",
       "      <td>Tonight</td>\n",
       "      <td>Clear then\\nMostly Clear\\nand Breezy</td>\n",
       "      <td>Sunny, with a high near 66. North northeast wi...</td>\n",
       "    </tr>\n",
       "    <tr>\n",
       "      <th>3</th>\n",
       "      <td>Tuesday</td>\n",
       "      <td>Sunny</td>\n",
       "      <td>Clear, with a low around 46. North northeast w...</td>\n",
       "    </tr>\n",
       "    <tr>\n",
       "      <th>4</th>\n",
       "      <td>Tuesday\\nNight</td>\n",
       "      <td>Clear</td>\n",
       "      <td>Sunny, with a high near 64. Calm wind becoming...</td>\n",
       "    </tr>\n",
       "    <tr>\n",
       "      <th>5</th>\n",
       "      <td>Wednesday</td>\n",
       "      <td>Sunny</td>\n",
       "      <td>Mostly clear, with a low around 45.</td>\n",
       "    </tr>\n",
       "    <tr>\n",
       "      <th>6</th>\n",
       "      <td>Wednesday\\nNight</td>\n",
       "      <td>Mostly Clear</td>\n",
       "      <td>Mostly sunny, with a high near 61.</td>\n",
       "    </tr>\n",
       "    <tr>\n",
       "      <th>7</th>\n",
       "      <td>Thursday</td>\n",
       "      <td>Mostly Sunny</td>\n",
       "      <td>Partly cloudy, with a low around 46.</td>\n",
       "    </tr>\n",
       "    <tr>\n",
       "      <th>8</th>\n",
       "      <td>Thursday\\nNight</td>\n",
       "      <td>Partly Cloudy</td>\n",
       "      <td>Mostly sunny, with a high near 57.</td>\n",
       "    </tr>\n",
       "  </tbody>\n",
       "</table>\n",
       "</div>"
      ],
      "text/plain": [
       "             Period                     Short_description  \\\n",
       "1     M.L.King\\nDay                                 Sunny   \n",
       "2           Tonight  Clear then\\nMostly Clear\\nand Breezy   \n",
       "3           Tuesday                                 Sunny   \n",
       "4    Tuesday\\nNight                                 Clear   \n",
       "5         Wednesday                                 Sunny   \n",
       "6  Wednesday\\nNight                          Mostly Clear   \n",
       "7          Thursday                          Mostly Sunny   \n",
       "8   Thursday\\nNight                         Partly Cloudy   \n",
       "\n",
       "                                         Description  \n",
       "1  Clear, with a low around 52. Breezy, with a no...  \n",
       "2  Sunny, with a high near 66. North northeast wi...  \n",
       "3  Clear, with a low around 46. North northeast w...  \n",
       "4  Sunny, with a high near 64. Calm wind becoming...  \n",
       "5                Mostly clear, with a low around 45.  \n",
       "6                 Mostly sunny, with a high near 61.  \n",
       "7               Partly cloudy, with a low around 46.  \n",
       "8                 Mostly sunny, with a high near 57.  "
      ]
     },
     "execution_count": 113,
     "metadata": {},
     "output_type": "execute_result"
    }
   ],
   "source": [
    "df8"
   ]
  },
  {
   "cell_type": "code",
   "execution_count": null,
   "metadata": {},
   "outputs": [],
   "source": []
  }
 ],
 "metadata": {
  "kernelspec": {
   "display_name": "Python 3",
   "language": "python",
   "name": "python3"
  },
  "language_info": {
   "codemirror_mode": {
    "name": "ipython",
    "version": 3
   },
   "file_extension": ".py",
   "mimetype": "text/x-python",
   "name": "python",
   "nbconvert_exporter": "python",
   "pygments_lexer": "ipython3",
   "version": "3.7.6"
  }
 },
 "nbformat": 4,
 "nbformat_minor": 4
}
