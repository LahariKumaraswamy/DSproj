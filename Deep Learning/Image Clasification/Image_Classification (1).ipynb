{
  "nbformat": 4,
  "nbformat_minor": 0,
  "metadata": {
    "colab": {
      "name": "Image Classification.ipynb",
      "provenance": [],
      "collapsed_sections": []
    },
    "kernelspec": {
      "name": "python3",
      "display_name": "Python 3"
    },
    "language_info": {
      "name": "python"
    }
  },
  "cells": [
    {
      "cell_type": "code",
      "metadata": {
        "colab": {
          "base_uri": "https://localhost:8080/"
        },
        "id": "jkkmKUOeswtK",
        "outputId": "608e274d-bb0b-4eb5-fb75-b66f76bf48a6"
      },
      "source": [
        "!pip install keras-tuner"
      ],
      "execution_count": null,
      "outputs": [
        {
          "output_type": "stream",
          "text": [
            "Requirement already satisfied: keras-tuner in /usr/local/lib/python3.7/dist-packages (1.0.2)\n",
            "Requirement already satisfied: tabulate in /usr/local/lib/python3.7/dist-packages (from keras-tuner) (0.8.9)\n",
            "Requirement already satisfied: future in /usr/local/lib/python3.7/dist-packages (from keras-tuner) (0.16.0)\n",
            "Requirement already satisfied: requests in /usr/local/lib/python3.7/dist-packages (from keras-tuner) (2.23.0)\n",
            "Requirement already satisfied: packaging in /usr/local/lib/python3.7/dist-packages (from keras-tuner) (20.9)\n",
            "Requirement already satisfied: numpy in /usr/local/lib/python3.7/dist-packages (from keras-tuner) (1.19.5)\n",
            "Requirement already satisfied: terminaltables in /usr/local/lib/python3.7/dist-packages (from keras-tuner) (3.1.0)\n",
            "Requirement already satisfied: scipy in /usr/local/lib/python3.7/dist-packages (from keras-tuner) (1.4.1)\n",
            "Requirement already satisfied: colorama in /usr/local/lib/python3.7/dist-packages (from keras-tuner) (0.4.4)\n",
            "Requirement already satisfied: tqdm in /usr/local/lib/python3.7/dist-packages (from keras-tuner) (4.41.1)\n",
            "Requirement already satisfied: scikit-learn in /usr/local/lib/python3.7/dist-packages (from keras-tuner) (0.22.2.post1)\n",
            "Requirement already satisfied: urllib3!=1.25.0,!=1.25.1,<1.26,>=1.21.1 in /usr/local/lib/python3.7/dist-packages (from requests->keras-tuner) (1.24.3)\n",
            "Requirement already satisfied: chardet<4,>=3.0.2 in /usr/local/lib/python3.7/dist-packages (from requests->keras-tuner) (3.0.4)\n",
            "Requirement already satisfied: certifi>=2017.4.17 in /usr/local/lib/python3.7/dist-packages (from requests->keras-tuner) (2020.12.5)\n",
            "Requirement already satisfied: idna<3,>=2.5 in /usr/local/lib/python3.7/dist-packages (from requests->keras-tuner) (2.10)\n",
            "Requirement already satisfied: pyparsing>=2.0.2 in /usr/local/lib/python3.7/dist-packages (from packaging->keras-tuner) (2.4.7)\n",
            "Requirement already satisfied: joblib>=0.11 in /usr/local/lib/python3.7/dist-packages (from scikit-learn->keras-tuner) (1.0.1)\n"
          ],
          "name": "stdout"
        }
      ]
    },
    {
      "cell_type": "code",
      "metadata": {
        "id": "FoqIpPO8tl2_"
      },
      "source": [
        "import tensorflow as tf\n",
        "from tensorflow import keras\n",
        "import numpy as np\n",
        "import os\n",
        "from PIL import Image"
      ],
      "execution_count": null,
      "outputs": []
    },
    {
      "cell_type": "code",
      "metadata": {
        "id": "ozeSzI4xtl7B"
      },
      "source": [
        "# Loading all the scrapped images.\n",
        "\n",
        "images = []\n",
        "folder = r'/content/drive/MyDrive/Projects/Image Processing/data'\n",
        "\n",
        "for filename in os.listdir(folder):\n",
        "        img = Image.open(os.path.join(folder, filename))\n",
        "        img=img.resize((225,225))\n",
        "        if img is not None:\n",
        "            images.append(np.array(img))\n",
        "\n",
        "X=np.asarray(images)"
      ],
      "execution_count": null,
      "outputs": []
    },
    {
      "cell_type": "code",
      "metadata": {
        "colab": {
          "base_uri": "https://localhost:8080/"
        },
        "id": "an6DvBvzuiRg",
        "outputId": "a1abe15c-9019-45f1-b3f8-0c990c673f54"
      },
      "source": [
        "X.shape"
      ],
      "execution_count": null,
      "outputs": [
        {
          "output_type": "execute_result",
          "data": {
            "text/plain": [
              "(906, 225, 225, 3)"
            ]
          },
          "metadata": {
            "tags": []
          },
          "execution_count": 4
        }
      ]
    },
    {
      "cell_type": "code",
      "metadata": {
        "id": "0xc4QKy-tl89"
      },
      "source": [
        "import pandas as pd\n",
        "\n",
        "# Loading the image dataset (csv file).\n",
        "data = pd.read_csv(\"/content/data1.csv\")"
      ],
      "execution_count": null,
      "outputs": []
    },
    {
      "cell_type": "code",
      "metadata": {
        "id": "UYKRazootmAK"
      },
      "source": [
        "# Converting the same into array\n",
        "y = np.asarray(data)"
      ],
      "execution_count": null,
      "outputs": []
    },
    {
      "cell_type": "code",
      "metadata": {
        "colab": {
          "base_uri": "https://localhost:8080/"
        },
        "id": "LOKvcsOPom0o",
        "outputId": "7c931c23-b2a1-4cc6-e191-111ef8c03676"
      },
      "source": [
        "X.shape"
      ],
      "execution_count": null,
      "outputs": [
        {
          "output_type": "execute_result",
          "data": {
            "text/plain": [
              "(906, 225, 225, 3)"
            ]
          },
          "metadata": {
            "tags": []
          },
          "execution_count": 8
        }
      ]
    },
    {
      "cell_type": "code",
      "metadata": {
        "colab": {
          "base_uri": "https://localhost:8080/"
        },
        "id": "gr-bIYvFoqcy",
        "outputId": "a1596b01-33e7-4368-8f21-db0ff7795c13"
      },
      "source": [
        "y.shape"
      ],
      "execution_count": null,
      "outputs": [
        {
          "output_type": "execute_result",
          "data": {
            "text/plain": [
              "(906, 1)"
            ]
          },
          "metadata": {
            "tags": []
          },
          "execution_count": 9
        }
      ]
    },
    {
      "cell_type": "code",
      "metadata": {
        "id": "GQHqxB6VtmCA"
      },
      "source": [
        "from sklearn.model_selection import train_test_split\n",
        "X_train, X_test, y_train, y_test = train_test_split(X, y, test_size = 0.2)"
      ],
      "execution_count": null,
      "outputs": []
    },
    {
      "cell_type": "code",
      "metadata": {
        "colab": {
          "base_uri": "https://localhost:8080/"
        },
        "id": "T9qe_O7qWxkG",
        "outputId": "8ea5ec74-f207-4f3b-8df4-9934e7724803"
      },
      "source": [
        "# Checking the shape of the splitted data.\n",
        "\n",
        "print (\"number of training examples = \" + str(X_train.shape[0]))\n",
        "print (\"number of test examples = \" + str(X_test.shape[0]))\n",
        "print (\"X_train shape: \" + str(X_train.shape))\n",
        "print (\"y_train shape: \" + str(y_train.shape))\n",
        "print (\"X_test shape: \" + str(X_test.shape))\n",
        "print (\"y_test shape: \" + str(y_test.shape))"
      ],
      "execution_count": null,
      "outputs": [
        {
          "output_type": "stream",
          "text": [
            "number of training examples = 724\n",
            "number of test examples = 182\n",
            "X_train shape: (724, 225, 225, 3)\n",
            "y_train shape: (724, 1)\n",
            "X_test shape: (182, 225, 225, 3)\n",
            "y_test shape: (182, 1)\n"
          ],
          "name": "stdout"
        }
      ]
    },
    {
      "cell_type": "code",
      "metadata": {
        "id": "puPzqUQ-tmFH"
      },
      "source": [
        "def build_model(hp):\n",
        "  model=keras.Sequential([\n",
        "                          \n",
        "                          #FIRST CONVOLUTION LAYER\n",
        "                          keras.layers.Conv2D(\n",
        "                              filters=hp.Int('conv_1_filter',min_value=32,max_value=128,step=16),\n",
        "                              kernel_size=hp.Choice('conv1_kernal',values=(3,5)),\n",
        "                              activation='relu',\n",
        "                               input_shape=X.shape[1:],\n",
        "                        \n",
        "                          ),\n",
        "                          #MAXPOOLING\n",
        "                          keras.layers.MaxPooling2D(pool_size=(2,2)),\n",
        "\n",
        "                          #DROP OUT\n",
        "                          keras.layers.Dropout(0.2),\n",
        "\n",
        "                          #SECOND CONVOLUTION LAYER\n",
        "                          keras.layers.Conv2D(\n",
        "                              filters=hp.Int('conv_1_filter',min_value=32,max_value=128,step=16),\n",
        "                              kernel_size=hp.Choice('conv1_kernal',values=(3,5)),\n",
        "                              activation='relu',\n",
        "                             ),\n",
        "                          \n",
        "                          #MAXPOOL LAYER \n",
        "                          keras.layers.MaxPooling2D(pool_size=(2,2)),\n",
        "\n",
        "                          #DROPOUT LAYER\n",
        "                          keras.layers.Dropout(0.2),\n",
        "\n",
        "\n",
        "                          #THIRD CONVOLUTION LAYER\n",
        "                          keras.layers.Conv2D(\n",
        "                              filters=hp.Int('conv_1_filter',min_value=32,max_value=128,step=16),\n",
        "                              kernel_size=hp.Choice('conv1_kernal',values=(3,5)),\n",
        "                              activation='relu',\n",
        "                              ),\n",
        "                          \n",
        "\n",
        "                          #MaXPOOL LAYER\n",
        "                          keras.layers.MaxPooling2D(pool_size=(2,2)),\n",
        "\n",
        "                          #DROPOUT LAYER\n",
        "                          keras.layers.Dropout(0.2),\n",
        "\n",
        "\n",
        "                          #FOURTH CONVOLUTION LAYER\n",
        "                          keras.layers.Conv2D(\n",
        "                              filters=hp.Int('conv_1_filter',min_value=32,max_value=128,step=16),\n",
        "                              kernel_size=hp.Choice('conv1_kernal',values=(3,5)),\n",
        "                              activation='relu',\n",
        "                              ),\n",
        "                          \n",
        "\n",
        "                          #MaXPOOL LAYER\n",
        "                          keras.layers.MaxPooling2D(pool_size=(2,2)),\n",
        "\n",
        "                          #DROPOUT LAYER\n",
        "                          keras.layers.Dropout(0.2),\n",
        "\n",
        "\n",
        "\n",
        "                          #FLATTEN LAYER\n",
        "                          keras.layers.Flatten(),\n",
        "\n",
        "                          #DROPOUT LAYER\n",
        "                          keras.layers.Dropout(0.5),\n",
        "\n",
        "                          #OUTPUT LAYER\n",
        "                          keras.layers.Dense(10,activation=\"softmax\")\n",
        "\n",
        "\n",
        "  ])\n",
        "\n",
        "\n",
        "  model.compile(optimizer=keras.optimizers.Adam(hp.Choice('learning_rate',values=[1e-2,1e-3])),\n",
        "              loss=\"sparse_categorical_crossentropy\",\n",
        "              metrics=[\"accuracy\"]\n",
        "              )\n",
        "  \n",
        "  return model"
      ],
      "execution_count": null,
      "outputs": []
    },
    {
      "cell_type": "code",
      "metadata": {
        "colab": {
          "base_uri": "https://localhost:8080/"
        },
        "id": "V2tCwNHoU7bh",
        "outputId": "8108f98e-cf54-4478-91c9-3e09a8fe62f6"
      },
      "source": [
        "print(X.shape)\n",
        "print(y.shape)"
      ],
      "execution_count": null,
      "outputs": [
        {
          "output_type": "stream",
          "text": [
            "(906, 225, 225, 3)\n",
            "(906, 1)\n"
          ],
          "name": "stdout"
        }
      ]
    },
    {
      "cell_type": "code",
      "metadata": {
        "id": "NBM9ri7atmHb"
      },
      "source": [
        "from kerastuner import RandomSearch\n",
        "from kerastuner.engine.hyperparameters import HyperParameters"
      ],
      "execution_count": null,
      "outputs": []
    },
    {
      "cell_type": "code",
      "metadata": {
        "id": "lmyZKqFGtmLm"
      },
      "source": [
        "tuner_search=RandomSearch(build_model,objective=\"val_accuracy\",max_trials=5,directory=\"output1\",project_name=\"Image Processing1\")"
      ],
      "execution_count": null,
      "outputs": []
    },
    {
      "cell_type": "code",
      "metadata": {
        "colab": {
          "base_uri": "https://localhost:8080/"
        },
        "id": "nVY3VjKyzJaP",
        "outputId": "8bdc66dc-0a89-4bd4-e9f7-bd77bb842aad"
      },
      "source": [
        "tuner_search.search(X_train,y_train,epochs=3,validation_split=0.1)"
      ],
      "execution_count": null,
      "outputs": [
        {
          "output_type": "stream",
          "text": [
            "Trial 5 Complete [00h 10m 10s]\n",
            "val_accuracy: 0.6301369667053223\n",
            "\n",
            "Best val_accuracy So Far: 0.6301369667053223\n",
            "Total elapsed time: 00h 41m 35s\n",
            "INFO:tensorflow:Oracle triggered exit\n"
          ],
          "name": "stdout"
        }
      ]
    },
    {
      "cell_type": "code",
      "metadata": {
        "id": "m4-8Cf0_zJlt"
      },
      "source": [
        "model=tuner_search.get_best_models(num_models=1)[0]"
      ],
      "execution_count": null,
      "outputs": []
    },
    {
      "cell_type": "code",
      "metadata": {
        "colab": {
          "base_uri": "https://localhost:8080/"
        },
        "id": "2wE2DqPNY7JC",
        "outputId": "8726ca16-96c3-4ace-9dbf-1f8fc9025b52"
      },
      "source": [
        "model.summary()"
      ],
      "execution_count": null,
      "outputs": [
        {
          "output_type": "stream",
          "text": [
            "Model: \"sequential\"\n",
            "_________________________________________________________________\n",
            "Layer (type)                 Output Shape              Param #   \n",
            "=================================================================\n",
            "conv2d (Conv2D)              (None, 221, 221, 96)      7296      \n",
            "_________________________________________________________________\n",
            "max_pooling2d (MaxPooling2D) (None, 110, 110, 96)      0         \n",
            "_________________________________________________________________\n",
            "dropout (Dropout)            (None, 110, 110, 96)      0         \n",
            "_________________________________________________________________\n",
            "conv2d_1 (Conv2D)            (None, 106, 106, 96)      230496    \n",
            "_________________________________________________________________\n",
            "max_pooling2d_1 (MaxPooling2 (None, 53, 53, 96)        0         \n",
            "_________________________________________________________________\n",
            "dropout_1 (Dropout)          (None, 53, 53, 96)        0         \n",
            "_________________________________________________________________\n",
            "conv2d_2 (Conv2D)            (None, 49, 49, 96)        230496    \n",
            "_________________________________________________________________\n",
            "max_pooling2d_2 (MaxPooling2 (None, 24, 24, 96)        0         \n",
            "_________________________________________________________________\n",
            "dropout_2 (Dropout)          (None, 24, 24, 96)        0         \n",
            "_________________________________________________________________\n",
            "conv2d_3 (Conv2D)            (None, 20, 20, 96)        230496    \n",
            "_________________________________________________________________\n",
            "max_pooling2d_3 (MaxPooling2 (None, 10, 10, 96)        0         \n",
            "_________________________________________________________________\n",
            "dropout_3 (Dropout)          (None, 10, 10, 96)        0         \n",
            "_________________________________________________________________\n",
            "flatten (Flatten)            (None, 9600)              0         \n",
            "_________________________________________________________________\n",
            "dropout_4 (Dropout)          (None, 9600)              0         \n",
            "_________________________________________________________________\n",
            "dense (Dense)                (None, 10)                96010     \n",
            "=================================================================\n",
            "Total params: 794,794\n",
            "Trainable params: 794,794\n",
            "Non-trainable params: 0\n",
            "_________________________________________________________________\n"
          ],
          "name": "stdout"
        }
      ]
    },
    {
      "cell_type": "code",
      "metadata": {
        "colab": {
          "base_uri": "https://localhost:8080/"
        },
        "id": "MlSEIOidZBjU",
        "outputId": "04db1737-0657-48a9-989a-92339dfaf435"
      },
      "source": [
        "history=model.fit(X_train,y_train,epochs=10,validation_split=0.1,initial_epoch=3)"
      ],
      "execution_count": null,
      "outputs": [
        {
          "output_type": "stream",
          "text": [
            "Epoch 4/10\n",
            "21/21 [==============================] - 345s 16s/step - loss: 0.7576 - accuracy: 0.6206 - val_loss: 0.9400 - val_accuracy: 0.6712\n",
            "Epoch 5/10\n",
            "21/21 [==============================] - 345s 16s/step - loss: 0.7047 - accuracy: 0.6283 - val_loss: 0.8053 - val_accuracy: 0.6301\n",
            "Epoch 6/10\n",
            "21/21 [==============================] - 344s 16s/step - loss: 0.6654 - accuracy: 0.6605 - val_loss: 1.4761 - val_accuracy: 0.4932\n",
            "Epoch 7/10\n",
            "21/21 [==============================] - 345s 16s/step - loss: 0.6553 - accuracy: 0.6882 - val_loss: 1.0193 - val_accuracy: 0.7123\n",
            "Epoch 8/10\n",
            "21/21 [==============================] - 345s 16s/step - loss: 0.5956 - accuracy: 0.6959 - val_loss: 0.8625 - val_accuracy: 0.6712\n",
            "Epoch 9/10\n",
            "21/21 [==============================] - 344s 16s/step - loss: 0.6030 - accuracy: 0.7373 - val_loss: 0.8516 - val_accuracy: 0.7397\n",
            "Epoch 10/10\n",
            "21/21 [==============================] - 343s 16s/step - loss: 0.5762 - accuracy: 0.7174 - val_loss: 0.5884 - val_accuracy: 0.7808\n"
          ],
          "name": "stdout"
        }
      ]
    },
    {
      "cell_type": "code",
      "metadata": {
        "colab": {
          "base_uri": "https://localhost:8080/",
          "height": 324
        },
        "id": "1Ifen99YdqpK",
        "outputId": "361104b6-a30c-433c-b9f6-886df4eaa145"
      },
      "source": [
        "import matplotlib.pyplot as plt\n",
        "\n",
        "pd.DataFrame(history.history).plot(figsize=(8,5))\n",
        "plt.grid(True)\n",
        "plt.gca().set_ylim(0,1)\n",
        "plt.show()"
      ],
      "execution_count": null,
      "outputs": [
        {
          "output_type": "display_data",
          "data": {
            "image/png": "[encoded data removed]",
            "text/plain": [
              "<Figure size 576x360 with 1 Axes>"
            ]
          },
          "metadata": {
            "tags": [],
            "needs_background": "light"
          }
        }
      ]
    },
    {
      "cell_type": "code",
      "metadata": {
        "colab": {
          "base_uri": "https://localhost:8080/"
        },
        "id": "f6ubvVyVzJtF",
        "outputId": "c8d9faf5-69f8-47d5-d6c9-19715e67f3f5"
      },
      "source": [
        "model.evaluate(X_test,y_test)"
      ],
      "execution_count": null,
      "outputs": [
        {
          "output_type": "stream",
          "text": [
            "6/6 [==============================] - 24s 4s/step - loss: 0.5937 - accuracy: 0.7527\n"
          ],
          "name": "stdout"
        },
        {
          "output_type": "execute_result",
          "data": {
            "text/plain": [
              "[0.5936692357063293, 0.7527472376823425]"
            ]
          },
          "metadata": {
            "tags": []
          },
          "execution_count": 27
        }
      ]
    },
    {
      "cell_type": "code",
      "metadata": {
        "colab": {
          "base_uri": "https://localhost:8080/"
        },
        "id": "u_Esoe7VzJwX",
        "outputId": "06702f33-04a6-4cdf-b6f8-8b57ad4abf45"
      },
      "source": [
        "# Saving the model.\n",
        "\n",
        "model.save('Image_classification')"
      ],
      "execution_count": null,
      "outputs": [
        {
          "output_type": "stream",
          "text": [
            "INFO:tensorflow:Assets written to: Image_classification/assets\n"
          ],
          "name": "stdout"
        }
      ]
    }
  ]
}